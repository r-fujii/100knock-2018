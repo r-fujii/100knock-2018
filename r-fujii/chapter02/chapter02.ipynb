{
 "cells": [
  {
   "cell_type": "markdown",
   "metadata": {},
   "source": [
    "# 10. 行数のカウント"
   ]
  },
  {
   "cell_type": "markdown",
   "metadata": {},
   "source": [
    "!を先頭につけるとshellコマンドを実行できる"
   ]
  },
  {
   "cell_type": "code",
   "execution_count": 1,
   "metadata": {},
   "outputs": [
    {
     "name": "stdout",
     "output_type": "stream",
     "text": [
      "chapter02.ipynb  data  src  work\n"
     ]
    }
   ],
   "source": [
    "!ls"
   ]
  },
  {
   "cell_type": "code",
   "execution_count": 2,
   "metadata": {},
   "outputs": [
    {
     "name": "stdout",
     "output_type": "stream",
     "text": [
      "2740\n"
     ]
    }
   ],
   "source": [
    "#10 行数をカウントせよ．確認にはwcコマンドを用いよ．\n",
    "with open('./data/popular-names.txt') as data:\n",
    "    print(len(data.readlines()))"
   ]
  },
  {
   "cell_type": "markdown",
   "metadata": {},
   "source": [
    "メモリ使用量的な問題...\n",
    "取り出した後使わない変数にはアンダーバーを命名する習慣"
   ]
  },
  {
   "cell_type": "code",
   "execution_count": 3,
   "metadata": {},
   "outputs": [
    {
     "name": "stdout",
     "output_type": "stream",
     "text": [
      "2740\n"
     ]
    }
   ],
   "source": [
    "with open('./data/popular-names.txt') as data:\n",
    "    lines = sum(1 for _ in data.readlines())\n",
    "    print(lines)"
   ]
  },
  {
   "cell_type": "code",
   "execution_count": 4,
   "metadata": {},
   "outputs": [
    {
     "name": "stdout",
     "output_type": "stream",
     "text": [
      "2740\n"
     ]
    }
   ],
   "source": [
    "!wc -l < ./data/popular-names.txt"
   ]
  },
  {
   "cell_type": "markdown",
   "metadata": {},
   "source": [
    "# 11. タブをスペースに置換"
   ]
  },
  {
   "cell_type": "code",
   "execution_count": 29,
   "metadata": {},
   "outputs": [
    {
     "name": "stdout",
     "output_type": "stream",
     "text": [
      "Mary F 7065 1880\n",
      "Anna F 2604 1880\n",
      "Emma F 2003 1880\n",
      "Elizabeth F 1939 1880\n",
      "Minnie F 1746 1880\n",
      "Margaret F 1578 1880\n",
      "Ida F 1472 1880\n",
      "Alice F 1414 1880\n",
      "Bertha F 1320 1880\n",
      "Sarah F 1288 1880\n"
     ]
    }
   ],
   "source": [
    "#11 タブ1文字につきスペース1文字に置換せよ．\n",
    "# 確認にはsedコマンド，trコマンド，もしくはexpandコマンドを用いよ．\n",
    "import itertools\n",
    "with open('./data/popular-names.txt') as data:\n",
    "    for line in itertools.islice(data, 10):\n",
    "        # itertatorに対するスライス\n",
    "        print(line.replace('\\t',' ').rstrip())"
   ]
  },
  {
   "cell_type": "code",
   "execution_count": 8,
   "metadata": {},
   "outputs": [
    {
     "name": "stdout",
     "output_type": "stream",
     "text": [
      "Mary F 7065 1880\n",
      "Anna F 2604 1880\n",
      "Emma F 2003 1880\n",
      "Elizabeth F 1939 1880\n",
      "Minnie F 1746 1880\n",
      "Margaret F 1578 1880\n",
      "Ida F 1472 1880\n",
      "Alice F 1414 1880\n",
      "Bertha F 1320 1880\n",
      "Sarah F 1288 1880\n",
      "sed: couldn't write 18 items to stdout: Broken pipe\n"
     ]
    }
   ],
   "source": [
    "# sedコマンドの場合\n",
    "# -eは指定した条件式(s/old/new)で置換, gは該当全て\n",
    "!sed -e 's/\\t/ /g' ./data/popular-names.txt | head"
   ]
  },
  {
   "cell_type": "code",
   "execution_count": 10,
   "metadata": {},
   "outputs": [
    {
     "name": "stdout",
     "output_type": "stream",
     "text": [
      "Mary F 7065 1880\n",
      "Anna F 2604 1880\n",
      "Emma F 2003 1880\n",
      "Elizabeth F 1939 1880\n",
      "Minnie F 1746 1880\n",
      "Margaret F 1578 1880\n",
      "Ida F 1472 1880\n",
      "Alice F 1414 1880\n",
      "Bertha F 1320 1880\n",
      "Sarah F 1288 1880\n",
      "expand: write error: Broken pipe\n",
      "expand: write error\n"
     ]
    }
   ],
   "source": [
    "# expandコマンドの場合\n",
    "!expand -t 1 ./data/popular-names.txt | head"
   ]
  },
  {
   "cell_type": "markdown",
   "metadata": {},
   "source": [
    "# 12. 1列目をcol1.txtに，2列目をcol2.txtに保存"
   ]
  },
  {
   "cell_type": "code",
   "execution_count": 3,
   "metadata": {},
   "outputs": [],
   "source": [
    "#12 各行の1列目だけを抜き出したものをcol1.txtに，2列目だけを抜き出したものをcol2.txtとしてファイルに保存せよ．\n",
    "# 確認にはcutコマンドを用いよ．\n",
    "with open('./data/popular-names.txt') as data, open('./work/col1.txt', 'w') as c1,\\\n",
    "open('./work/col2.txt', 'w') as c2:\n",
    "    for lines in data:\n",
    "        columns = lines.split()\n",
    "        c1.write(columns[0] + '\\n')\n",
    "        c2.write(columns[1] + '\\n')"
   ]
  },
  {
   "cell_type": "markdown",
   "metadata": {},
   "source": [
    "splitで分割した先を変数に入れることができる\n",
    "\n",
    "with open('./data/popular-names.txt') as data:\n",
    "    for line in data:\n",
    "        name, gen, *_ = line.rstrip().split() # 残り全部を受け取る、使わない変数名にはアンダーバーをつける\n",
    "        ..."
   ]
  },
  {
   "cell_type": "code",
   "execution_count": 9,
   "metadata": {},
   "outputs": [
    {
     "name": "stdout",
     "output_type": "stream",
     "text": [
      "Mary\n",
      "Anna\n",
      "Emma\n",
      "Elizabeth\n",
      "Minnie\n",
      "Margaret\n",
      "Ida\n",
      "Alice\n",
      "Bertha\n",
      "Sarah\n"
     ]
    }
   ],
   "source": [
    "# cutコマンドを使った場合 (長いので先頭10行表示) -fはfields(項目)オプション\n",
    "!cut -f 1 ./data/popular-names.txt | head\n",
    "#!cut --fields=1 ./data/popular-names.txt | head (long option)"
   ]
  },
  {
   "cell_type": "markdown",
   "metadata": {},
   "source": [
    "# 13. col1.txtとcol2.txtをマージ"
   ]
  },
  {
   "cell_type": "code",
   "execution_count": 30,
   "metadata": {},
   "outputs": [],
   "source": [
    "# 12で作ったcol1.txtとcol2.txtを結合し，元のファイルの1列目と2列目をタブ区切りで並べたテキストファイルを作成せよ．\n",
    "# 確認にはpasteコマンドを用いよ．\n",
    "with open('./work/col1.txt') as c1, open('./work/col2.txt') as c2, open('./work/merged.txt', 'w') as out:\n",
    "    for name, gen in zip(c1.readlines(), c2.readlines()):\n",
    "        out.write(name.rstrip() + '\\t' + gen.rstrip() + '\\n')"
   ]
  },
  {
   "cell_type": "code",
   "execution_count": 31,
   "metadata": {},
   "outputs": [
    {
     "name": "stdout",
     "output_type": "stream",
     "text": [
      "Mary\tF\n",
      "Anna\tF\n",
      "Emma\tF\n",
      "Elizabeth\tF\n",
      "Minnie\tF\n",
      "Margaret\tF\n",
      "Ida\tF\n",
      "Alice\tF\n",
      "Bertha\tF\n",
      "Sarah\tF\n",
      "paste: write error: Broken pipe\n"
     ]
    }
   ],
   "source": [
    "# pasteコマンドでの確認\n",
    "!paste ./work/col1.txt ./work/col2.txt | head"
   ]
  },
  {
   "cell_type": "markdown",
   "metadata": {},
   "source": [
    "pasteは横に、catは縦につなぐ\n",
    "1変数しか与えない場合そのまま出力するから慣例的にcatで出力\n",
    "\n",
    "ファイル自体がiterableだからreadlines()する必要はない"
   ]
  },
  {
   "cell_type": "markdown",
   "metadata": {},
   "source": [
    "* → 中身をばらす\n",
    "print([1, 2, 3])はリストとして出力\n",
    "print(*[1, 2, 3])はiterableをアンパックする=print(1, 2, 3)\n",
    "print(file = )でstdoutを設定"
   ]
  },
  {
   "cell_type": "markdown",
   "metadata": {},
   "source": [
    "# 14. 先頭からN行を出力"
   ]
  },
  {
   "cell_type": "code",
   "execution_count": 26,
   "metadata": {},
   "outputs": [
    {
     "name": "stdout",
     "output_type": "stream",
     "text": [
      "Overwriting ./src/q14.py\n"
     ]
    }
   ],
   "source": [
    "%%file ./src/q14.py\n",
    "#!/usr/bin/env python3\n",
    "# 以下をスクリプトに落とし込む\n",
    "\n",
    "import sys\n",
    "\n",
    "def ask_nlines():\n",
    "    while True:\n",
    "        try:\n",
    "            N = int(input('表示したい行数Nを入力: '))\n",
    "            break\n",
    "        except ValueError:\n",
    "            continue\n",
    "    return N\n",
    "\n",
    "if __name__ == '__main__':\n",
    "    # モジュールとしての実行でない場合\n",
    "    if len(sys.argv) > 1:\n",
    "        try:\n",
    "            N = int(sys.argv[1])\n",
    "        except ValueError:\n",
    "            N = ask_nlines()\n",
    "    else: N = ask_nlines()\n",
    "\n",
    "else: N = ask_nlines()\n",
    "    \n",
    "with open('./data/popular-names.txt') as data:\n",
    "    for i, line in enumerate(data, start = 1):\n",
    "        if i <= N:\n",
    "            print(line.rstrip())\n",
    "        else : pass"
   ]
  },
  {
   "cell_type": "markdown",
   "metadata": {},
   "source": [
    "import argparseが便利"
   ]
  },
  {
   "cell_type": "markdown",
   "metadata": {},
   "source": [
    "itertools.islice\n",
    "イテレータ(ファイルオブジェクトetc)に対してスライスを適用できる\n",
    "\"\".join(itertools.islice(fi, n))\n",
    "\n",
    "繰り返し構造を使うときはitertoolsを見る"
   ]
  },
  {
   "cell_type": "code",
   "execution_count": 27,
   "metadata": {},
   "outputs": [
    {
     "name": "stdout",
     "output_type": "stream",
     "text": [
      "Mary\tF\t7065\t1880\n",
      "Anna\tF\t2604\t1880\n",
      "Emma\tF\t2003\t1880\n",
      "Elizabeth\tF\t1939\t1880\n",
      "Minnie\tF\t1746\t1880\n"
     ]
    }
   ],
   "source": [
    "#14 自然数Nをコマンドライン引数などの手段で受け取り，入力のうち先頭のN行だけを表示せよ．\n",
    "# 確認にはheadコマンドを用いよ．\n",
    "!chmod +x ./src/q14.py; ./src/q14.py 5"
   ]
  },
  {
   "cell_type": "code",
   "execution_count": 28,
   "metadata": {},
   "outputs": [
    {
     "name": "stdout",
     "output_type": "stream",
     "text": [
      "Mary\tF\t7065\t1880\n",
      "Anna\tF\t2604\t1880\n",
      "Emma\tF\t2003\t1880\n",
      "Elizabeth\tF\t1939\t1880\n",
      "Minnie\tF\t1746\t1880\n"
     ]
    }
   ],
   "source": [
    "# headコマンドでの確認\n",
    "!head -n 5 ./data/popular-names.txt"
   ]
  },
  {
   "cell_type": "markdown",
   "metadata": {},
   "source": [
    "# 15. 末尾のN行を出力"
   ]
  },
  {
   "cell_type": "code",
   "execution_count": 14,
   "metadata": {},
   "outputs": [
    {
     "name": "stdout",
     "output_type": "stream",
     "text": [
      "Overwriting ./src/q15.py\n"
     ]
    }
   ],
   "source": [
    "%%file ./src/q15.py\n",
    "#!/usr/bin/env python3\n",
    "\n",
    "import sys\n",
    "\n",
    "def ask_nlines():\n",
    "    while True:\n",
    "        try:\n",
    "            N = int(input('表示したい行数Nを入力: '))\n",
    "            break\n",
    "        except ValueError:\n",
    "            continue\n",
    "    return N\n",
    "\n",
    "def count_lines(seq):\n",
    "    for n, _ in enumerate(seq, start = 1):\n",
    "        pass\n",
    "    return n\n",
    "\n",
    "if __name__ == '__main__':\n",
    "    # モジュールとしての実行でない場合\n",
    "    if len(sys.argv) > 1:\n",
    "        try:\n",
    "            N = int(sys.argv[1])\n",
    "        except ValueError:\n",
    "            N = ask_nlines()\n",
    "    else: N = ask_nlines()\n",
    "\n",
    "else: N = ask_nlines()\n",
    "    \n",
    "with open('./data/popular-names.txt') as data:\n",
    "    n = count_lines(data)\n",
    "    data.seek(0)\n",
    "    # 行数のカウントをしてseekでファイルの先頭に戻る\n",
    "    \n",
    "    for i, line in enumerate(data, start = 1):\n",
    "        if n - 5 < i:\n",
    "            print(line.rstrip())"
   ]
  },
  {
   "cell_type": "code",
   "execution_count": 8,
   "metadata": {},
   "outputs": [
    {
     "name": "stdout",
     "output_type": "stream",
     "text": [
      "Benjamin\tM\t14569\t2016\n",
      "Jacob\tM\t14416\t2016\n",
      "Michael\tM\t13998\t2016\n",
      "Elijah\tM\t13764\t2016\n",
      "Ethan\tM\t13758\t2016\n"
     ]
    }
   ],
   "source": [
    "#15 自然数Nをコマンドライン引数などの手段で受け取り，入力のうち末尾のN行だけを表示せよ．\n",
    "# 確認にはtailコマンドを用いよ．\n",
    "!chmod +x ./src/q15.py; ./src/q15.py 5"
   ]
  },
  {
   "cell_type": "code",
   "execution_count": 9,
   "metadata": {},
   "outputs": [
    {
     "name": "stdout",
     "output_type": "stream",
     "text": [
      "Benjamin\tM\t14569\t2016\n",
      "Jacob\tM\t14416\t2016\n",
      "Michael\tM\t13998\t2016\n",
      "Elijah\tM\t13764\t2016\n",
      "Ethan\tM\t13758\t2016\n"
     ]
    }
   ],
   "source": [
    "# tailコマンドでの確認\n",
    "!tail -n 5 ./data/popular-names.txt"
   ]
  },
  {
   "cell_type": "markdown",
   "metadata": {},
   "source": [
    "collections.deque\n",
    "引数にオプションでmaxlenを取る → iterableをどんどん流して最後だけ取ってこれる\n",
    "\"\".join(collecions.deque(fi, maxlen = 5))"
   ]
  },
  {
   "cell_type": "markdown",
   "metadata": {},
   "source": [
    "# 16. ファイルをN分割する"
   ]
  },
  {
   "cell_type": "code",
   "execution_count": 2,
   "metadata": {},
   "outputs": [
    {
     "name": "stdout",
     "output_type": "stream",
     "text": [
      "Overwriting ./src/q16.py\n"
     ]
    }
   ],
   "source": [
    "%%file ./src/q16.py\n",
    "#!/usr/bin/env python3\n",
    "\n",
    "import sys\n",
    "\n",
    "def ask_ndiv():\n",
    "    while True:\n",
    "        try:\n",
    "            N = int(input('分割したいファイル数を入力: '))\n",
    "            break\n",
    "        except ValueError:\n",
    "            continue\n",
    "    return N\n",
    "\n",
    "if __name__ == '__main__':\n",
    "    # モジュールとしての実行でない場合\n",
    "    if len(sys.argv) > 1:\n",
    "        try:\n",
    "            N = int(sys.argv[1])\n",
    "        except ValueError:\n",
    "            N = ask_ndiv()\n",
    "    else: N = ask_ndiv()\n",
    "\n",
    "else: N = ask_ndiv()\n",
    "\n",
    "def count_lines(seq):\n",
    "    for n, _ in enumerate(seq, start = 1):\n",
    "        pass\n",
    "    return n\n",
    "    \n",
    "with open('./data/popular-names.txt') as data:\n",
    "    n = count_lines(data)\n",
    "    data.seek(0)\n",
    "    q, mod = divmod(n, N)\n",
    "    \n",
    "    fpath = './work/popular-names_{0}.txt'\n",
    "    for i in range(N):\n",
    "        with open(fpath.format(i), 'w') as out:\n",
    "            for j, line in enumerate(data, start = 1):\n",
    "                out.write(line)\n",
    "                if j > q:\n",
    "                    break\n",
    "                elif j == q:\n",
    "                    if mod <= i:\n",
    "                        break"
   ]
  },
  {
   "cell_type": "code",
   "execution_count": null,
   "metadata": {},
   "outputs": [],
   "source": [
    "from collections import deque\n",
    "\n",
    "# deque使って最初の要素から書いていく方法 (メモリ効率よくない)\n",
    "with open('./data/popular-names.txt') as data:\n",
    "    lines = deque(data)\n",
    "    n_lines = len(lines)\n",
    "    q, mod = divmod(n_lines, N)\n",
    "        \n",
    "    fpath = './work/popular-names_{0}.txt'\n",
    "    for i in range(N):\n",
    "        with open(fpath.format(i), 'w') as out:\n",
    "            for j in range(q):\n",
    "                   out.write(lines.popleft())\n",
    "            if i + 1 <= mod:\n",
    "                   out.write(lines.popleft())   "
   ]
  },
  {
   "cell_type": "markdown",
   "metadata": {},
   "source": [
    "print(file = out)とも書ける\n",
    "more_itertools.divide(number_of_split, iterable)でok"
   ]
  },
  {
   "cell_type": "code",
   "execution_count": 57,
   "metadata": {},
   "outputs": [],
   "source": [
    "#16 自然数Nをコマンドライン引数などの手段で受け取り，入力のファイルを行単位でN分割せよ．\n",
    "# 同様の処理をsplitコマンドで実現せよ．\n",
    "!chmod +x ./src/q16.py; ./src/q16.py 5"
   ]
  },
  {
   "cell_type": "code",
   "execution_count": 58,
   "metadata": {},
   "outputs": [
    {
     "name": "stdout",
     "output_type": "stream",
     "text": [
      "548\n"
     ]
    }
   ],
   "source": [
    "!wc -l < ./work/popular-names_0.txt"
   ]
  },
  {
   "cell_type": "code",
   "execution_count": 59,
   "metadata": {},
   "outputs": [
    {
     "name": "stdout",
     "output_type": "stream",
     "text": [
      "Edward\tM\t2398\t1906\n",
      "Thomas\tM\t2176\t1906\n",
      "Mary\tF\t17580\t1907\n",
      "Helen\tF\t7579\t1907\n",
      "Margaret\tF\t6713\t1907\n",
      "Anna\tF\t5575\t1907\n",
      "Ruth\tF\t5573\t1907\n",
      "Dorothy\tF\t4967\t1907\n",
      "Elizabeth\tF\t4624\t1907\n",
      "Mildred\tF\t4277\t1907\n"
     ]
    }
   ],
   "source": [
    "cat ./work/popular-names_0.txt | tail"
   ]
  },
  {
   "cell_type": "code",
   "execution_count": 60,
   "metadata": {},
   "outputs": [],
   "source": [
    "# splitコマンドでの確認\n",
    "# このコマンドだとceil(lines/N)でsplitするから最後のファイルだけ行数が少なく...\n",
    "# N=5なら割り切れるから偶然identicalだが...\n",
    "!lines=$(wc -l ./data/popular-names.txt | cut -d \" \" -f 1); \\\n",
    "r=$(expr $lines % 5); if [ $r -eq 0 ]; then li=$(expr $lines / 5) ; \\\n",
    "else li=$(expr $lines / 5 + 1); fi; split -l $li ./data/popular-names.txt ./work/"
   ]
  },
  {
   "cell_type": "markdown",
   "metadata": {},
   "source": [
    "!echo $(expr 5 % 2)は!echo $((5 % 2))と書ける"
   ]
  },
  {
   "cell_type": "code",
   "execution_count": 59,
   "metadata": {},
   "outputs": [
    {
     "name": "stdout",
     "output_type": "stream",
     "text": [
      "392 392 392 391 391 391 391\n"
     ]
    }
   ],
   "source": [
    "!lines=$(wc -l ./data/popular-names.txt | cut -d \" \" -f 1); \\\n",
    "q=$(expr $lines / 7); mod=$(expr $lines % 7);\\\n",
    "for i in $(seq 7); do \\\n",
    "if [ $i -le $mod ]; then li+=($(expr $q + 1)); \\\n",
    "else li+=($q); fi; done; echo \"${li[@]}\"; \\\n",
    "# 何番目のファイルに何行プリントすればいいかの配列を作ってみたけどここからのアプローチが分からなくて詰んだ。"
   ]
  },
  {
   "cell_type": "markdown",
   "metadata": {},
   "source": [
    "summationをとってsedで行数指定すればできる?"
   ]
  },
  {
   "cell_type": "code",
   "execution_count": 54,
   "metadata": {},
   "outputs": [
    {
     "name": "stdout",
     "output_type": "stream",
     "text": [
      "548 ./work/aa\n"
     ]
    }
   ],
   "source": [
    "!wc -l ./work/aa"
   ]
  },
  {
   "cell_type": "code",
   "execution_count": 60,
   "metadata": {},
   "outputs": [
    {
     "name": "stdout",
     "output_type": "stream",
     "text": [
      "Files ./work/aa and ./work/popular-names_0.txt are identical\n",
      "Files ./work/ab and ./work/popular-names_1.txt are identical\n",
      "Files ./work/ac and ./work/popular-names_2.txt are identical\n",
      "Files ./work/ad and ./work/popular-names_3.txt are identical\n",
      "Files ./work/ae and ./work/popular-names_4.txt are identical\n"
     ]
    }
   ],
   "source": [
    "!diff -s ./work/aa ./work/popular-names_0.txt; diff -s ./work/ab ./work/popular-names_1.txt; diff -s ./work/ac ./work/popular-names_2.txt; \\\n",
    "diff -s ./work/ad ./work/popular-names_3.txt; diff -s ./work/ae ./work/popular-names_4.txt; "
   ]
  },
  {
   "cell_type": "markdown",
   "metadata": {},
   "source": [
    "# 17. １列目の文字列の異なり"
   ]
  },
  {
   "cell_type": "code",
   "execution_count": 7,
   "metadata": {},
   "outputs": [
    {
     "name": "stdout",
     "output_type": "stream",
     "text": [
      "['Abigail', 'Aiden', 'Alexander', 'Alexis', 'Alice', 'Amanda', 'Amy', 'Andrew', 'Angela', 'Anna', 'Annie', 'Anthony', 'Ashley', 'Austin', 'Ava', 'Barbara', 'Benjamin', 'Bertha', 'Bessie', 'Betty', 'Brandon', 'Brian', 'Brittany', 'Carol', 'Carolyn', 'Charles', 'Charlotte', 'Chloe', 'Christopher', 'Clara', 'Crystal', 'Cynthia', 'Daniel', 'David', 'Deborah', 'Debra', 'Donald', 'Donna', 'Doris', 'Dorothy', 'Edward', 'Elijah', 'Elizabeth', 'Emily', 'Emma', 'Ethan', 'Ethel', 'Evelyn', 'Florence', 'Frances', 'Frank', 'Gary', 'George', 'Hannah', 'Harper', 'Harry', 'Heather', 'Helen', 'Henry', 'Ida', 'Isabella', 'Jacob', 'James', 'Jason', 'Jayden', 'Jeffrey', 'Jennifer', 'Jessica', 'Joan', 'John', 'Joseph', 'Joshua', 'Judith', 'Julie', 'Justin', 'Karen', 'Kathleen', 'Kelly', 'Kimberly', 'Larry', 'Laura', 'Lauren', 'Liam', 'Lillian', 'Linda', 'Lisa', 'Lori', 'Madison', 'Margaret', 'Marie', 'Mark', 'Mary', 'Mason', 'Matthew', 'Megan', 'Melissa', 'Mia', 'Michael', 'Michelle', 'Mildred', 'Minnie', 'Nancy', 'Nicholas', 'Nicole', 'Noah', 'Olivia', 'Pamela', 'Patricia', 'Rachel', 'Rebecca', 'Richard', 'Robert', 'Ronald', 'Ruth', 'Samantha', 'Sandra', 'Sarah', 'Scott', 'Sharon', 'Shirley', 'Sophia', 'Stephanie', 'Steven', 'Susan', 'Tammy', 'Taylor', 'Thomas', 'Tracy', 'Tyler', 'Virginia', 'Walter', 'William']\n"
     ]
    }
   ],
   "source": [
    "#17 1列目の文字列の種類（異なる文字列の集合）を求めよ．\n",
    "# 確認にはcut, sort, uniqコマンドを用いよ．\n",
    "with open('./data/popular-names.txt') as data:\n",
    "    names = sorted({x.split()[0] for x in data}) # set内包表記\n",
    "    \n",
    "print(names)"
   ]
  },
  {
   "cell_type": "code",
   "execution_count": 3,
   "metadata": {},
   "outputs": [
    {
     "name": "stdout",
     "output_type": "stream",
     "text": [
      "Abigail\n",
      "Aiden\n",
      "Alexander\n",
      "Alexis\n",
      "Alice\n",
      "Amanda\n",
      "Amy\n",
      "Andrew\n",
      "Angela\n",
      "Anna\n",
      "Annie\n",
      "Anthony\n",
      "Ashley\n",
      "Austin\n",
      "Ava\n",
      "Barbara\n",
      "Benjamin\n",
      "Bertha\n",
      "Bessie\n",
      "Betty\n",
      "Brandon\n",
      "Brian\n",
      "Brittany\n",
      "Carol\n",
      "Carolyn\n",
      "Charles\n",
      "Charlotte\n",
      "Chloe\n",
      "Christopher\n",
      "Clara\n",
      "Crystal\n",
      "Cynthia\n",
      "Daniel\n",
      "David\n",
      "Deborah\n",
      "Debra\n",
      "Donald\n",
      "Donna\n",
      "Doris\n",
      "Dorothy\n",
      "Edward\n",
      "Elijah\n",
      "Elizabeth\n",
      "Emily\n",
      "Emma\n",
      "Ethan\n",
      "Ethel\n",
      "Evelyn\n",
      "Florence\n",
      "Frances\n",
      "Frank\n",
      "Gary\n",
      "George\n",
      "Hannah\n",
      "Harper\n",
      "Harry\n",
      "Heather\n",
      "Helen\n",
      "Henry\n",
      "Ida\n",
      "Isabella\n",
      "Jacob\n",
      "James\n",
      "Jason\n",
      "Jayden\n",
      "Jeffrey\n",
      "Jennifer\n",
      "Jessica\n",
      "Joan\n",
      "John\n",
      "Joseph\n",
      "Joshua\n",
      "Judith\n",
      "Julie\n",
      "Justin\n",
      "Karen\n",
      "Kathleen\n",
      "Kelly\n",
      "Kimberly\n",
      "Larry\n",
      "Laura\n",
      "Lauren\n",
      "Liam\n",
      "Lillian\n",
      "Linda\n",
      "Lisa\n",
      "Lori\n",
      "Madison\n",
      "Margaret\n",
      "Marie\n",
      "Mark\n",
      "Mary\n",
      "Mason\n",
      "Matthew\n",
      "Megan\n",
      "Melissa\n",
      "Mia\n",
      "Michael\n",
      "Michelle\n",
      "Mildred\n",
      "Minnie\n",
      "Nancy\n",
      "Nicholas\n",
      "Nicole\n",
      "Noah\n",
      "Olivia\n",
      "Pamela\n",
      "Patricia\n",
      "Rachel\n",
      "Rebecca\n",
      "Richard\n",
      "Robert\n",
      "Ronald\n",
      "Ruth\n",
      "Samantha\n",
      "Sandra\n",
      "Sarah\n",
      "Scott\n",
      "Sharon\n",
      "Shirley\n",
      "Sophia\n",
      "Stephanie\n",
      "Steven\n",
      "Susan\n",
      "Tammy\n",
      "Taylor\n",
      "Thomas\n",
      "Tracy\n",
      "Tyler\n",
      "Virginia\n",
      "Walter\n",
      "William\n"
     ]
    }
   ],
   "source": [
    "# cut, sort, uniqコマンドによる確認\n",
    "!cut -f 1 ./data/popular-names.txt | sort | uniq"
   ]
  },
  {
   "cell_type": "markdown",
   "metadata": {},
   "source": [
    "uniqコマンドは連続した重複行しか削除しないから事前にsortする必要\n",
    "sort -uと等価"
   ]
  },
  {
   "cell_type": "markdown",
   "metadata": {},
   "source": [
    "# 18. 各行を3コラム目の数値の降順にソート"
   ]
  },
  {
   "cell_type": "code",
   "execution_count": 9,
   "metadata": {},
   "outputs": [
    {
     "name": "stdout",
     "output_type": "stream",
     "text": [
      "Linda\tF\t99685\t1947\n",
      "Linda\tF\t96210\t1948\n",
      "James\tM\t94762\t1947\n",
      "Michael\tM\t92716\t1957\n",
      "Robert\tM\t91641\t1947\n",
      "Linda\tF\t91013\t1949\n",
      "Michael\tM\t90620\t1956\n",
      "Michael\tM\t90512\t1958\n",
      "James\tM\t88584\t1948\n",
      "Michael\tM\t88525\t1954\n"
     ]
    }
   ],
   "source": [
    "#18 各行を3コラム目の数値の逆順で整列せよ（注意: 各行の内容は変更せずに並び替えよ）．\n",
    "# 確認にはsortコマンドを用いよ（この問題はコマンドで実行した時の結果と合わなくてもよい）．\n",
    "import itertools\n",
    "with open('./data/popular-names.txt') as data:\n",
    "    lines = sorted(data, key = lambda x : int(x.split()[2]), reverse = True)\n",
    "    for line in itertools.islice(lines, 10):\n",
    "        print(line.rstrip())"
   ]
  },
  {
   "cell_type": "code",
   "execution_count": 25,
   "metadata": {},
   "outputs": [
    {
     "name": "stdout",
     "output_type": "stream",
     "text": [
      "Linda\tF\t99685\t1947\n",
      "Linda\tF\t96210\t1948\n",
      "James\tM\t94762\t1947\n",
      "Michael\tM\t92716\t1957\n",
      "Robert\tM\t91641\t1947\n",
      "Linda\tF\t91013\t1949\n",
      "Michael\tM\t90620\t1956\n",
      "Michael\tM\t90512\t1958\n",
      "James\tM\t88584\t1948\n",
      "Michael\tM\t88525\t1954\n",
      "sort: write failed: 'standard output': Broken pipe\n",
      "sort: write error\n"
     ]
    }
   ],
   "source": [
    "# sortコマンドでの確認\n",
    "!sort -k 3 -n -r ./data/popular-names.txt | head"
   ]
  },
  {
   "cell_type": "code",
   "execution_count": 12,
   "metadata": {},
   "outputs": [],
   "source": [
    "# シェルコマンドとの混合ができる\n",
    "q18_shell = !sort -k 3 -n -r ./data/popular-names.txt"
   ]
  },
  {
   "cell_type": "markdown",
   "metadata": {},
   "source": [
    "-kオプションはindex1から並べ替え列を指定, -n: 数値として並べ替え -r: 逆順"
   ]
  },
  {
   "cell_type": "markdown",
   "metadata": {},
   "source": [
    "operator.itemgetter, attrgetterが使える\n",
    "operator.itemgetter(n)はiterableのn-th indexを拾ってくる\n",
    "key = lambda x: x[2] -> key = itemgetter(2)"
   ]
  },
  {
   "cell_type": "markdown",
   "metadata": {},
   "source": [
    "# 19. 各行の1コラム目の文字列の出現頻度を求め，出現頻度の高い順に並べる"
   ]
  },
  {
   "cell_type": "code",
   "execution_count": 6,
   "metadata": {},
   "outputs": [
    {
     "name": "stdout",
     "output_type": "stream",
     "text": [
      "116 James\n",
      "109 William\n",
      "108 John\n",
      "108 Robert\n",
      "92 Mary\n",
      "75 Charles\n",
      "74 Michael\n",
      "73 Elizabeth\n",
      "71 Joseph\n",
      "60 Margaret\n",
      "58 George\n",
      "58 Thomas\n",
      "57 David\n",
      "51 Richard\n",
      "45 Helen\n",
      "43 Frank\n",
      "43 Christopher\n",
      "41 Anna\n",
      "40 Edward\n",
      "39 Ruth\n",
      "38 Patricia\n",
      "37 Matthew\n",
      "36 Dorothy\n",
      "33 Emma\n",
      "32 Barbara\n",
      "31 Daniel\n",
      "31 Joshua\n",
      "26 Sarah\n",
      "26 Linda\n",
      "26 Jennifer\n",
      "26 Emily\n",
      "25 Jessica\n",
      "24 Mildred\n",
      "24 Betty\n",
      "24 Susan\n",
      "24 Jacob\n",
      "23 Henry\n",
      "23 Ashley\n",
      "22 Nancy\n",
      "21 Andrew\n",
      "20 Florence\n",
      "20 Marie\n",
      "20 Donald\n",
      "20 Amanda\n",
      "19 Samantha\n",
      "18 Karen\n",
      "18 Lisa\n",
      "18 Melissa\n",
      "18 Madison\n",
      "17 Stephanie\n",
      "16 Ethel\n",
      "16 Sandra\n",
      "16 Mark\n",
      "16 Abigail\n",
      "16 Olivia\n",
      "15 Frances\n",
      "15 Carol\n",
      "15 Angela\n",
      "15 Michelle\n",
      "15 Heather\n",
      "15 Ethan\n",
      "14 Shirley\n",
      "14 Kimberly\n",
      "14 Amy\n",
      "13 Virginia\n",
      "13 Deborah\n",
      "13 Jason\n",
      "13 Nicole\n",
      "13 Hannah\n",
      "13 Isabella\n",
      "12 Minnie\n",
      "12 Bertha\n",
      "12 Donna\n",
      "12 Brian\n",
      "12 Ava\n",
      "11 Cynthia\n",
      "11 Sophia\n",
      "10 Alice\n",
      "10 Doris\n",
      "10 Ronald\n",
      "10 Brittany\n",
      "10 Nicholas\n",
      "9 Joan\n",
      "9 Debra\n",
      "9 Tyler\n",
      "8 Ida\n",
      "8 Clara\n",
      "8 Judith\n",
      "8 Taylor\n",
      "8 Alexis\n",
      "8 Alexander\n",
      "8 Mia\n",
      "8 Noah\n",
      "7 Harry\n",
      "7 Sharon\n",
      "7 Steven\n",
      "7 Tammy\n",
      "7 Brandon\n",
      "6 Anthony\n",
      "6 Mason\n",
      "5 Annie\n",
      "5 Gary\n",
      "5 Jeffrey\n",
      "5 Jayden\n",
      "5 Liam\n",
      "4 Lillian\n",
      "4 Kathleen\n",
      "4 Justin\n",
      "4 Austin\n",
      "4 Chloe\n",
      "3 Megan\n",
      "3 Aiden\n",
      "3 Charlotte\n",
      "2 Bessie\n",
      "2 Larry\n",
      "2 Rebecca\n",
      "2 Lauren\n",
      "2 Harper\n",
      "2 Benjamin\n",
      "1 Walter\n",
      "1 Evelyn\n",
      "1 Carolyn\n",
      "1 Pamela\n",
      "1 Lori\n",
      "1 Laura\n",
      "1 Tracy\n",
      "1 Julie\n",
      "1 Scott\n",
      "1 Kelly\n",
      "1 Crystal\n",
      "1 Rachel\n",
      "1 Elijah\n"
     ]
    }
   ],
   "source": [
    "#19 各行の1列目の文字列の出現頻度を求め，その高い順に並べて表示せよ．\n",
    "# 確認にはcut, uniq, sortコマンドを用いよ．\n",
    "from collections import Counter\n",
    "with open('./data/popular-names.txt') as data:\n",
    "    count = Counter(x.split()[0] for x in data)\n",
    "    \n",
    "    for name, freq in sorted(count.items(), key = lambda x : x[1], \\\n",
    "                             reverse = True):\n",
    "        print(freq, name)"
   ]
  },
  {
   "cell_type": "markdown",
   "metadata": {},
   "source": [
    "from pprint import pprint\n",
    "いい感じに出力する"
   ]
  },
  {
   "cell_type": "code",
   "execution_count": 23,
   "metadata": {},
   "outputs": [
    {
     "name": "stdout",
     "output_type": "stream",
     "text": [
      "    116 James\n",
      "    109 William\n",
      "    108 Robert\n",
      "    108 John\n",
      "     92 Mary\n",
      "     75 Charles\n",
      "     74 Michael\n",
      "     73 Elizabeth\n",
      "     71 Joseph\n",
      "     60 Margaret\n",
      "     58 Thomas\n",
      "     58 George\n",
      "     57 David\n",
      "     51 Richard\n",
      "     45 Helen\n",
      "     43 Frank\n",
      "     43 Christopher\n",
      "     41 Anna\n",
      "     40 Edward\n",
      "     39 Ruth\n",
      "     38 Patricia\n",
      "     37 Matthew\n",
      "     36 Dorothy\n",
      "     33 Emma\n",
      "     32 Barbara\n",
      "     31 Joshua\n",
      "     31 Daniel\n",
      "     26 Sarah\n",
      "     26 Linda\n",
      "     26 Jennifer\n",
      "     26 Emily\n",
      "     25 Jessica\n",
      "     24 Susan\n",
      "     24 Mildred\n",
      "     24 Jacob\n",
      "     24 Betty\n",
      "     23 Henry\n",
      "     23 Ashley\n",
      "     22 Nancy\n",
      "     21 Andrew\n",
      "     20 Marie\n",
      "     20 Florence\n",
      "     20 Donald\n",
      "     20 Amanda\n",
      "     19 Samantha\n",
      "     18 Melissa\n",
      "     18 Madison\n",
      "     18 Lisa\n",
      "     18 Karen\n",
      "     17 Stephanie\n",
      "     16 Sandra\n",
      "     16 Olivia\n",
      "     16 Mark\n",
      "     16 Ethel\n",
      "     16 Abigail\n",
      "     15 Michelle\n",
      "     15 Heather\n",
      "     15 Frances\n",
      "     15 Ethan\n",
      "     15 Carol\n",
      "     15 Angela\n",
      "     14 Shirley\n",
      "     14 Kimberly\n",
      "     14 Amy\n",
      "     13 Virginia\n",
      "     13 Nicole\n",
      "     13 Jason\n",
      "     13 Isabella\n",
      "     13 Hannah\n",
      "     13 Deborah\n",
      "     12 Minnie\n",
      "     12 Donna\n",
      "     12 Brian\n",
      "     12 Bertha\n",
      "     12 Ava\n",
      "     11 Sophia\n",
      "     11 Cynthia\n",
      "     10 Ronald\n",
      "     10 Nicholas\n",
      "     10 Doris\n",
      "     10 Brittany\n",
      "     10 Alice\n",
      "      9 Tyler\n",
      "      9 Joan\n",
      "      9 Debra\n",
      "      8 Taylor\n",
      "      8 Noah\n",
      "      8 Mia\n",
      "      8 Judith\n",
      "      8 Ida\n",
      "      8 Clara\n",
      "      8 Alexis\n",
      "      8 Alexander\n",
      "      7 Tammy\n",
      "      7 Steven\n",
      "      7 Sharon\n",
      "      7 Harry\n",
      "      7 Brandon\n",
      "      6 Mason\n",
      "      6 Anthony\n",
      "      5 Liam\n",
      "      5 Jeffrey\n",
      "      5 Jayden\n",
      "      5 Gary\n",
      "      5 Annie\n",
      "      4 Lillian\n",
      "      4 Kathleen\n",
      "      4 Justin\n",
      "      4 Chloe\n",
      "      4 Austin\n",
      "      3 Megan\n",
      "      3 Charlotte\n",
      "      3 Aiden\n",
      "      2 Rebecca\n",
      "      2 Lauren\n",
      "      2 Larry\n",
      "      2 Harper\n",
      "      2 Bessie\n",
      "      2 Benjamin\n",
      "      1 Walter\n",
      "      1 Tracy\n",
      "      1 Scott\n",
      "      1 Rachel\n",
      "      1 Pamela\n",
      "      1 Lori\n",
      "      1 Laura\n",
      "      1 Kelly\n",
      "      1 Julie\n",
      "      1 Evelyn\n",
      "      1 Elijah\n",
      "      1 Crystal\n",
      "      1 Carolyn\n"
     ]
    }
   ],
   "source": [
    "# 諸々のコマンドでの確認\n",
    "!cut -f 1 ./data/popular-names.txt | sort | uniq -c | sort -k 1 -n -r"
   ]
  },
  {
   "cell_type": "code",
   "execution_count": null,
   "metadata": {},
   "outputs": [],
   "source": []
  }
 ],
 "metadata": {
  "kernelspec": {
   "display_name": "Python 3",
   "language": "python",
   "name": "python3"
  },
  "language_info": {
   "codemirror_mode": {
    "name": "ipython",
    "version": 3
   },
   "file_extension": ".py",
   "mimetype": "text/x-python",
   "name": "python",
   "nbconvert_exporter": "python",
   "pygments_lexer": "ipython3",
   "version": "3.6.3"
  }
 },
 "nbformat": 4,
 "nbformat_minor": 2
}
