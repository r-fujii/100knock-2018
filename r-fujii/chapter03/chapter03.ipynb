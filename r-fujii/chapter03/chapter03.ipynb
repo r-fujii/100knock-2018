{
 "cells": [
  {
   "cell_type": "markdown",
   "metadata": {},
   "source": [
    "# 20. JSONデータの読み込み"
   ]
  },
  {
   "cell_type": "code",
   "execution_count": 2,
   "metadata": {},
   "outputs": [
    {
     "name": "stdout",
     "output_type": "stream",
     "text": [
      "{{redirect|UK}}\n",
      "{{基礎情報 国\n",
      "|略名 = イギリス\n",
      "|日本語国名 = グレートブリテン及び北アイルランド連合王国\n",
      "|公式国名 = {{lang|en|United Kingdom of Great Britain and Northern Ireland}}<ref>英語以外での正式国名:<br/>\n",
      "*{{lang|gd|An Rìoghachd Aonaichte na Breatainn Mhòr agus Eirinn mu Thuath}}（[[スコットランド・ゲール語]]）<br/>\n",
      "*{{lang|cy|Teyrnas Gyfunol Prydain Fawr a Gogledd Iwerddon}}（[[ウェールズ語]]）<br/>\n",
      "*{{lang|ga|Ríocht Aontaithe na Breataine Móire agus Tuaisceart na hÉireann}}（[[アイルランド語]]）<br/>\n",
      "*{{lang|kw|An Rywvaneth Unys a Vreten Veur hag Iwerdhon Glédh}}（[[コーンウォール語]]）<br/>\n",
      "*{{lang|sco|Unitit Kinrick o Great Breetain an Northren Ireland}}（[[スコットランド語]]）<br/>\n",
      "**{{lang|sco|Claught Kängrick o Docht Brätain an Norlin Airlann}}、{{lang|sco|Unitet Kängdom o Great Brittain an Norlin Airlann}}（アルスター・スコットランド語）</ref>\n",
      "|国旗画像 = Flag of the United Kingdom.svg\n",
      "|国章画像 = [[ファイル:Royal Coat of Arms of the United Kingdom.svg|85px|イギリスの国章]]\n",
      "|国章リンク = （[[イギリスの国章|国章]]）\n",
      "|標語 = {{lang|fr|Dieu et mon droit}}<br/>（[[フランス語]]:神と私の権利）\n",
      "|国歌 = [[女王陛下万歳|神よ女王陛下を守り給え]]\n",
      "|位置画像 = Location_UK_\n"
     ]
    }
   ],
   "source": [
    "#20 Wikipedia記事のJSONファイルを読み込み，「イギリス」に関する記事本文を表示せよ．問題21-29では，ここで抽出した記事本文に対して実行せよ．\n",
    "\n",
    "import gzip\n",
    "import json\n",
    "\n",
    "with gzip.open('./data/jawiki-country.json.gz') as raw, open('./work/wiki_uk.txt', 'w') as out:\n",
    "    for line in raw:\n",
    "        data = json.loads(line)\n",
    "        if data['title'] == 'イギリス':\n",
    "            print(data['text'][:1000]) #長すぎるから1000文字だけ\n",
    "            \n",
    "            # 追記: 外部ファイルに保存するようにした\n",
    "            print(data['text'], file = out, end = '')"
   ]
  },
  {
   "cell_type": "markdown",
   "metadata": {},
   "source": [
    "!wget -NP (dir) (url)で保存できる\n",
    "-P:保存するディレクトリを指定するオプション -N:リンク先のデータが今あるデータよりも新しい場合のみDLする"
   ]
  },
  {
   "cell_type": "markdown",
   "metadata": {},
   "source": [
    "!zcat (fname)\n",
    "gzipで圧縮されたファイルをそのままシェル上で見られる"
   ]
  },
  {
   "cell_type": "markdown",
   "metadata": {},
   "source": [
    "# 21. カテゴリ名を含む行を抽出"
   ]
  },
  {
   "cell_type": "code",
   "execution_count": 16,
   "metadata": {},
   "outputs": [
    {
     "name": "stdout",
     "output_type": "stream",
     "text": [
      "[[Category:イギリス|*]]\n",
      "[[Category:英連邦王国|*]]\n",
      "[[Category:G8加盟国]]\n",
      "[[Category:欧州連合加盟国]]\n",
      "[[Category:海洋国家]]\n",
      "[[Category:君主国]]\n",
      "[[Category:島国|くれいとふりてん]]\n",
      "[[Category:1801年に設立された州・地域]]\n"
     ]
    }
   ],
   "source": [
    "#21 記事中でカテゴリ名を宣言している行を抽出せよ．\n",
    "\n",
    "import gzip\n",
    "import json\n",
    "import re\n",
    "\n",
    "with gzip.open('./data/jawiki-country.json.gz') as raw:\n",
    "    for line in raw:\n",
    "        data = json.loads(line)\n",
    "        if data['title'] == 'イギリス':\n",
    "            body = data['text']\n",
    "            \n",
    "ptn_category = re.compile(r'^\\[\\[Category:.*\\]\\]$', flags = re.MULTILINE)\n",
    "\n",
    "for cat in ptn_category.finditer(body):\n",
    "    print(cat.group()) # match.group → matchオブジェクトに対してパターンにマッチする部分全体を返す"
   ]
  },
  {
   "cell_type": "markdown",
   "metadata": {},
   "source": [
    "括弧は左側でエスケープしていれば右側は自動的にエスケープしたものと見なされるからバックスラッシュは左だけでよい"
   ]
  },
  {
   "cell_type": "markdown",
   "metadata": {},
   "source": [
    "# 22. カテゴリ名の抽出"
   ]
  },
  {
   "cell_type": "code",
   "execution_count": 15,
   "metadata": {},
   "outputs": [
    {
     "name": "stdout",
     "output_type": "stream",
     "text": [
      "イギリス\n",
      "英連邦王国\n",
      "G8加盟国\n",
      "欧州連合加盟国\n",
      "海洋国家\n",
      "君主国\n",
      "島国\n",
      "1801年に設立された州・地域\n"
     ]
    }
   ],
   "source": [
    "#22 記事のカテゴリ名を（行単位ではなく名前で）抽出せよ．\n",
    "\n",
    "import re\n",
    "import json\n",
    "\n",
    "ptn_category = re.compile(r'^\\[\\[Category:(.*?)(?:\\|.*)?\\]\\]$')\n",
    "\n",
    "with open('./work/wiki_uk.txt') as data:\n",
    "    for line in data:\n",
    "        # searchはmatchオブジェクトを返す\n",
    "        match = ptn_category.search(line)\n",
    "        if match:\n",
    "            print(match.group(1))"
   ]
  },
  {
   "cell_type": "markdown",
   "metadata": {},
   "source": [
    "# 23. セクション構造"
   ]
  },
  {
   "cell_type": "code",
   "execution_count": 14,
   "metadata": {},
   "outputs": [
    {
     "name": "stdout",
     "output_type": "stream",
     "text": [
      "国名 1\n",
      "歴史 1\n",
      "地理 1\n",
      "気候 2\n",
      "政治 1\n",
      "外交と軍事 1\n",
      "地方行政区分 1\n",
      "主要都市 2\n",
      "科学技術 1\n",
      "経済 1\n",
      "鉱業 2\n",
      "農業 2\n",
      "貿易 2\n",
      "通貨 2\n",
      "企業 2\n",
      "交通 1\n",
      "道路 2\n",
      "鉄道 2\n",
      "海運 2\n",
      "航空 2\n",
      "通信 1\n",
      "国民 1\n",
      "言語 2\n",
      "宗教 2\n",
      "婚姻 2\n",
      "教育 2\n",
      "文化 1\n",
      "食文化 2\n",
      "文学 2\n",
      "哲学 2\n",
      "音楽 2\n",
      "イギリスのポピュラー音楽 3\n",
      "映画 2\n",
      "コメディ 2\n",
      "国花 2\n",
      "世界遺産 2\n",
      "祝祭日 2\n",
      "スポーツ 1\n",
      "サッカー 2\n",
      "競馬 2\n",
      "モータースポーツ 2\n",
      "脚注 1\n",
      "関連項目 1\n",
      "外部リンク 1\n"
     ]
    }
   ],
   "source": [
    "#23 記事中に含まれるセクション名とそのレベル（例えば\"== セクション名 ==\"なら1）を表示せよ．\n",
    "\n",
    "import re\n",
    "import json\n",
    "\n",
    "ptn_section = re.compile(r'^(={2,})(?:\\s)?(.*?)(?:\\s)?\\1$')\n",
    "\n",
    "with open('./work/wiki_uk.txt') as data:\n",
    "    for line in data:\n",
    "        match = ptn_section.search(line)\n",
    "        if match:\n",
    "            sect_level = match.end(1) - match.start(1) - 1\n",
    "            print(match.group(2), sect_level)"
   ]
  },
  {
   "cell_type": "markdown",
   "metadata": {},
   "source": [
    "# 24. ファイル参照の抽出"
   ]
  },
  {
   "cell_type": "code",
   "execution_count": 17,
   "metadata": {},
   "outputs": [
    {
     "name": "stdout",
     "output_type": "stream",
     "text": [
      "Royal Coat of Arms of the United Kingdom.svg\n",
      "Battle of Waterloo 1815.PNG\n",
      "The British Empire.png\n",
      "Uk topo en.jpg\n",
      "BenNevis2005.jpg\n",
      "Elizabeth II greets NASA GSFC employees, May 8, 2007 edit.jpg\n",
      "Palace of Westminster, London - Feb 2007.jpg\n",
      "David Cameron and Barack Obama at the G20 Summit in Toronto.jpg\n",
      "Soldiers Trooping the Colour, 16th June 2007.jpg\n",
      "Scotland Parliament Holyrood.jpg\n",
      "London.bankofengland.arp.jpg\n",
      "City of London skyline from London City Hall - Oct 2008.jpg\n",
      "Oil platform in the North SeaPros.jpg\n",
      "Eurostar at St Pancras Jan 2008.jpg\n",
      "Heathrow T5.jpg\n",
      "Anglospeak.svg\n",
      "CHANDOS3.jpg\n",
      "The Fabs.JPG\n",
      "PalaceOfWestminsterAtNight.jpg\n",
      "Westminster Abbey - West Door.jpg\n",
      "Edinburgh Cockburn St dsc06789.jpg\n",
      "Canterbury Cathedral - Portal Nave Cross-spire.jpeg\n",
      "Kew Gardens Palm House, London - July 2009.jpg\n",
      "2005-06-27 - United Kingdom - England - London - Greenwich.jpg\n",
      "Stonehenge2007 07 30.jpg\n",
      "Yard2.jpg\n",
      "Durham Kathedrale Nahaufnahme.jpg\n",
      "Roman Baths in Bath Spa, England - July 2006.jpg\n",
      "Fountains Abbey view02 2005-08-27.jpg\n",
      "Blenheim Palace IMG 3673.JPG\n",
      "Liverpool Pier Head by night.jpg\n",
      "Hadrian's Wall view near Greenhead.jpg\n",
      "London Tower (1).JPG\n",
      "Wembley Stadium, illuminated.jpg\n"
     ]
    }
   ],
   "source": [
    "#24 記事から参照されているメディアファイルをすべて抜き出せ．\n",
    "\n",
    "import re\n",
    "import json\n",
    "\n",
    "ptn_fileref = re.compile(r'(?:ファイル|File):(?P<fname>.*?)\\|') # ?Pでグループに名前付けできる\n",
    "\n",
    "with open('./work/wiki_uk.txt') as data:\n",
    "    for line in data:\n",
    "        match = ptn_fileref.search(line)\n",
    "        if match:\n",
    "            print(match.group('fname'))"
   ]
  },
  {
   "cell_type": "markdown",
   "metadata": {},
   "source": [
    "# 25. テンプレートの抽出"
   ]
  },
  {
   "cell_type": "code",
   "execution_count": 19,
   "metadata": {},
   "outputs": [
    {
     "name": "stdout",
     "output_type": "stream",
     "text": [
      "略名 : イギリス\n",
      "日本語国名 : グレートブリテン及び北アイルランド連合王国\n",
      "公式国名 : {{lang|en|United Kingdom of Great Britain and Northern Ireland}}<ref>英語以外での正式国名:<br/>\n",
      "*{{lang|gd|An Rìoghachd Aonaichte na Breatainn Mhòr agus Eirinn mu Thuath}}（[[スコットランド・ゲール語]]）<br/>\n",
      "*{{lang|cy|Teyrnas Gyfunol Prydain Fawr a Gogledd Iwerddon}}（[[ウェールズ語]]）<br/>\n",
      "*{{lang|ga|Ríocht Aontaithe na Breataine Móire agus Tuaisceart na hÉireann}}（[[アイルランド語]]）<br/>\n",
      "*{{lang|kw|An Rywvaneth Unys a Vreten Veur hag Iwerdhon Glédh}}（[[コーンウォール語]]）<br/>\n",
      "*{{lang|sco|Unitit Kinrick o Great Breetain an Northren Ireland}}（[[スコットランド語]]）<br/>\n",
      "**{{lang|sco|Claught Kängrick o Docht Brätain an Norlin Airlann}}、{{lang|sco|Unitet Kängdom o Great Brittain an Norlin Airlann}}（アルスター・スコットランド語）</ref>\n",
      "国旗画像 : Flag of the United Kingdom.svg\n",
      "国章画像 : [[ファイル:Royal Coat of Arms of the United Kingdom.svg|85px|イギリスの国章]]\n",
      "国章リンク : （[[イギリスの国章|国章]]）\n",
      "標語 : {{lang|fr|Dieu et mon droit}}<br/>（[[フランス語]]:神と私の権利）\n",
      "国歌 : [[女王陛下万歳|神よ女王陛下を守り給え]]\n",
      "位置画像 : Location_UK_EU_Europe_001.svg\n",
      "公用語 : [[英語]]（事実上）\n",
      "首都 : [[ロンドン]]\n",
      "最大都市 : ロンドン\n",
      "元首等肩書 : [[イギリスの君主|女王]]\n",
      "元首等氏名 : [[エリザベス2世]]\n",
      "首相等肩書 : [[イギリスの首相|首相]]\n",
      "首相等氏名 : [[デーヴィッド・キャメロン]]\n",
      "面積順位 : 76\n",
      "面積大きさ : 1 E11\n",
      "面積値 : 244,820\n",
      "水面積率 : 1.3%\n",
      "人口統計年 : 2011\n",
      "人口順位 : 22\n",
      "人口大きさ : 1 E7\n",
      "人口値 : 63,181,775<ref>[http://esa.un.org/unpd/wpp/Excel-Data/population.htm United Nations Department of Economic and Social Affairs>Population Division>Data>Population>Total Population]</ref>\n",
      "人口密度値 : 246\n",
      "GDP統計年元 : 2012\n",
      "GDP値元 : 1兆5478億<ref name=\"imf-statistics-gdp\">[http://www.imf.org/external/pubs/ft/weo/2012/02/weodata/weorept.aspx?pr.x=70&pr.y=13&sy=2010&ey=2012&scsm=1&ssd=1&sort=country&ds=.&br=1&c=112&s=NGDP%2CNGDPD%2CPPPGDP%2CPPPPC&grp=0&a= IMF>Data and Statistics>World Economic Outlook Databases>By Countrise>United Kingdom]</ref>\n",
      "GDP統計年MER : 2012\n",
      "GDP順位MER : 5\n",
      "GDP値MER : 2兆4337億<ref name=\"imf-statistics-gdp\" />\n",
      "GDP統計年 : 2012\n",
      "GDP順位 : 6\n",
      "GDP値 : 2兆3162億<ref name=\"imf-statistics-gdp\" />\n",
      "GDP/人 : 36,727<ref name=\"imf-statistics-gdp\" />\n",
      "建国形態 : 建国\n",
      "確立形態1 : [[イングランド王国]]／[[スコットランド王国]]<br />（両国とも[[連合法 (1707年)|1707年連合法]]まで）\n",
      "確立年月日1 : [[927年]]／[[843年]]\n",
      "確立形態2 : [[グレートブリテン王国]]建国<br />（[[連合法 (1707年)|1707年連合法]]）\n",
      "確立年月日2 : [[1707年]]\n",
      "確立形態3 : [[グレートブリテン及びアイルランド連合王国]]建国<br />（[[連合法 (1800年)|1800年連合法]]）\n",
      "確立年月日3 : [[1801年]]\n",
      "確立形態4 : 現在の国号「'''グレートブリテン及び北アイルランド連合王国'''」に変更\n",
      "確立年月日4 : [[1927年]]\n",
      "通貨 : [[スターリング・ポンド|UKポンド]] (&pound;)\n",
      "通貨コード : GBP\n",
      "時間帯 : ±0\n",
      "夏時間 : +1\n",
      "ISO 3166-1 : GB / GBR\n",
      "ccTLD : [[.uk]] / [[.gb]]<ref>使用は.ukに比べ圧倒的少数。</ref>\n",
      "国際電話番号 : 44\n",
      "注記 : <references />\n"
     ]
    }
   ],
   "source": [
    "#25 記事中に含まれる「基礎情報」テンプレートのフィールド名と値を抽出し，辞書オブジェクトとして格納せよ．\n",
    "\n",
    "import re\n",
    "import json\n",
    "\n",
    "# 基礎情報抜き出し用の正規表現パターン\n",
    "ptn_info = re.compile(r'^\\{\\{基礎情報(.*?)^\\}\\}$', flags = re.MULTILINE | re.DOTALL) # 改行を.にマッチ\n",
    "# 辞書に格納するためのfield/value分割\n",
    "ptn_dict = re.compile(r'^\\|(?P<field>.*?)(\\s)+(=)(\\s)+(?P<value>.*?)(?=\\n^\\||\\n^$)', flags = re.MULTILINE | re.DOTALL)\n",
    "\n",
    "with open('./work/wiki_uk.txt') as data:\n",
    "    dict_info = {}\n",
    "    \n",
    "    # 基礎情報部分を拾うためにfile.read()してるのはmemory unfriendly...\n",
    "    for info in ptn_dict.finditer(ptn_info.search(data.read()).group(1)):\n",
    "        dict_info[info.group('field')] = info.group('value')\n",
    "\n",
    "    for key, val in dict_info.items():\n",
    "        print(key, ':', val)"
   ]
  },
  {
   "cell_type": "code",
   "execution_count": 1,
   "metadata": {},
   "outputs": [
    {
     "name": "stdout",
     "output_type": "stream",
     "text": [
      "False [1]\n",
      "True [2, 4]\n",
      "False [3, 5]\n",
      "True [8, 10]\n"
     ]
    }
   ],
   "source": [
    "# itertools.groupbyの使い方\n",
    "from itertools import groupby\n",
    "num = [1, 2, 4, 3, 5, 8, 10]\n",
    "for key, group in groupby(num, key = lambda n: n % 2 == 0):\n",
    "    #groupby(iterable, key)\n",
    "    print(key, list(group))"
   ]
  },
  {
   "cell_type": "markdown",
   "metadata": {},
   "source": [
    "# 26. 強調マークアップの除去"
   ]
  },
  {
   "cell_type": "code",
   "execution_count": 20,
   "metadata": {},
   "outputs": [
    {
     "name": "stdout",
     "output_type": "stream",
     "text": [
      "略名 : イギリス\n",
      "日本語国名 : グレートブリテン及び北アイルランド連合王国\n",
      "公式国名 : {{lang|en|United Kingdom of Great Britain and Northern Ireland}}<ref>英語以外での正式国名:<br/>\n",
      "*{{lang|gd|An Rìoghachd Aonaichte na Breatainn Mhòr agus Eirinn mu Thuath}}（[[スコットランド・ゲール語]]）<br/>\n",
      "*{{lang|cy|Teyrnas Gyfunol Prydain Fawr a Gogledd Iwerddon}}（[[ウェールズ語]]）<br/>\n",
      "*{{lang|ga|Ríocht Aontaithe na Breataine Móire agus Tuaisceart na hÉireann}}（[[アイルランド語]]）<br/>\n",
      "*{{lang|kw|An Rywvaneth Unys a Vreten Veur hag Iwerdhon Glédh}}（[[コーンウォール語]]）<br/>\n",
      "*{{lang|sco|Unitit Kinrick o Great Breetain an Northren Ireland}}（[[スコットランド語]]）<br/>\n",
      "**{{lang|sco|Claught Kängrick o Docht Brätain an Norlin Airlann}}、{{lang|sco|Unitet Kängdom o Great Brittain an Norlin Airlann}}（アルスター・スコットランド語）</ref>\n",
      "国旗画像 : Flag of the United Kingdom.svg\n",
      "国章画像 : [[ファイル:Royal Coat of Arms of the United Kingdom.svg|85px|イギリスの国章]]\n",
      "国章リンク : （[[イギリスの国章|国章]]）\n",
      "標語 : {{lang|fr|Dieu et mon droit}}<br/>（[[フランス語]]:神と私の権利）\n",
      "国歌 : [[女王陛下万歳|神よ女王陛下を守り給え]]\n",
      "位置画像 : Location_UK_EU_Europe_001.svg\n",
      "公用語 : [[英語]]（事実上）\n",
      "首都 : [[ロンドン]]\n",
      "最大都市 : ロンドン\n",
      "元首等肩書 : [[イギリスの君主|女王]]\n",
      "元首等氏名 : [[エリザベス2世]]\n",
      "首相等肩書 : [[イギリスの首相|首相]]\n",
      "首相等氏名 : [[デーヴィッド・キャメロン]]\n",
      "面積順位 : 76\n",
      "面積大きさ : 1 E11\n",
      "面積値 : 244,820\n",
      "水面積率 : 1.3%\n",
      "人口統計年 : 2011\n",
      "人口順位 : 22\n",
      "人口大きさ : 1 E7\n",
      "人口値 : 63,181,775<ref>[http://esa.un.org/unpd/wpp/Excel-Data/population.htm United Nations Department of Economic and Social Affairs>Population Division>Data>Population>Total Population]</ref>\n",
      "人口密度値 : 246\n",
      "GDP統計年元 : 2012\n",
      "GDP値元 : 1兆5478億<ref name=\"imf-statistics-gdp\">[http://www.imf.org/external/pubs/ft/weo/2012/02/weodata/weorept.aspx?pr.x=70&pr.y=13&sy=2010&ey=2012&scsm=1&ssd=1&sort=country&ds=.&br=1&c=112&s=NGDP%2CNGDPD%2CPPPGDP%2CPPPPC&grp=0&a= IMF>Data and Statistics>World Economic Outlook Databases>By Countrise>United Kingdom]</ref>\n",
      "GDP統計年MER : 2012\n",
      "GDP順位MER : 5\n",
      "GDP値MER : 2兆4337億<ref name=\"imf-statistics-gdp\" />\n",
      "GDP統計年 : 2012\n",
      "GDP順位 : 6\n",
      "GDP値 : 2兆3162億<ref name=\"imf-statistics-gdp\" />\n",
      "GDP/人 : 36,727<ref name=\"imf-statistics-gdp\" />\n",
      "建国形態 : 建国\n",
      "確立形態1 : [[イングランド王国]]／[[スコットランド王国]]<br />（両国とも[[連合法 (1707年)|1707年連合法]]まで）\n",
      "確立年月日1 : [[927年]]／[[843年]]\n",
      "確立形態2 : [[グレートブリテン王国]]建国<br />（[[連合法 (1707年)|1707年連合法]]）\n",
      "確立年月日2 : [[1707年]]\n",
      "確立形態3 : [[グレートブリテン及びアイルランド連合王国]]建国<br />（[[連合法 (1800年)|1800年連合法]]）\n",
      "確立年月日3 : [[1801年]]\n",
      "確立形態4 : 現在の国号「グレートブリテン及び北アイルランド連合王国」に変更\n",
      "確立年月日4 : [[1927年]]\n",
      "通貨 : [[スターリング・ポンド|UKポンド]] (&pound;)\n",
      "通貨コード : GBP\n",
      "時間帯 : ±0\n",
      "夏時間 : +1\n",
      "ISO 3166-1 : GB / GBR\n",
      "ccTLD : [[.uk]] / [[.gb]]<ref>使用は.ukに比べ圧倒的少数。</ref>\n",
      "国際電話番号 : 44\n",
      "注記 : <references />\n"
     ]
    }
   ],
   "source": [
    "#26 25の処理時に，テンプレートの値からMediaWikiの強調マークアップ（弱い強調，強調，強い強調のすべて）を除去してテキストに変換せよ（参考: マークアップ早見表）．\n",
    "\n",
    "import re\n",
    "import json\n",
    "\n",
    "# 基礎情報抜き出し用の正規表現パターン\n",
    "ptn_info = re.compile(r'^\\{\\{基礎情報(.*?)^\\}\\}$', flags = re.MULTILINE | re.DOTALL) # 改行を.にマッチ\n",
    "# 辞書に格納するためのfield/value分割\n",
    "ptn_dict = re.compile(r'^\\|(?P<field>.*?)(\\s)+(=)(\\s)+(?P<value>.*?)(?=\\n^\\||\\n^$)', flags = re.MULTILINE | re.DOTALL)\n",
    "\n",
    "ptn_mkup = re.compile(r'(\\'{2,})(.*?)\\1', flags = re.MULTILINE)\n",
    "\n",
    "with open('./work/wiki_uk.txt') as data:\n",
    "    dict_info = {}\n",
    "\n",
    "    for info in ptn_dict.finditer(ptn_info.search(data.read()).group(1)):\n",
    "        # sub()は破壊的ではない → 代入する必要\n",
    "        dict_info[info.group('field')] = ptn_mkup.sub(r'\\2', info.group('value'))\n",
    "\n",
    "    for key, val in dict_info.items():\n",
    "        print(key, ':', val)"
   ]
  },
  {
   "cell_type": "markdown",
   "metadata": {},
   "source": [
    "# 27. 内部リンクの除去"
   ]
  },
  {
   "cell_type": "code",
   "execution_count": 21,
   "metadata": {},
   "outputs": [
    {
     "name": "stdout",
     "output_type": "stream",
     "text": [
      "略名 : イギリス\n",
      "日本語国名 : グレートブリテン及び北アイルランド連合王国\n",
      "公式国名 : {{lang|en|United Kingdom of Great Britain and Northern Ireland}}<ref>英語以外での正式国名:<br/>\n",
      "*{{lang|gd|An Rìoghachd Aonaichte na Breatainn Mhòr agus Eirinn mu Thuath}}（スコットランド・ゲール語）<br/>\n",
      "*{{lang|cy|Teyrnas Gyfunol Prydain Fawr a Gogledd Iwerddon}}（ウェールズ語）<br/>\n",
      "*{{lang|ga|Ríocht Aontaithe na Breataine Móire agus Tuaisceart na hÉireann}}（アイルランド語）<br/>\n",
      "*{{lang|kw|An Rywvaneth Unys a Vreten Veur hag Iwerdhon Glédh}}（コーンウォール語）<br/>\n",
      "*{{lang|sco|Unitit Kinrick o Great Breetain an Northren Ireland}}（スコットランド語）<br/>\n",
      "**{{lang|sco|Claught Kängrick o Docht Brätain an Norlin Airlann}}、{{lang|sco|Unitet Kängdom o Great Brittain an Norlin Airlann}}（アルスター・スコットランド語）</ref>\n",
      "国旗画像 : Flag of the United Kingdom.svg\n",
      "国章画像 : [[ファイル:Royal Coat of Arms of the United Kingdom.svg|85px|イギリスの国章]]\n",
      "国章リンク : （国章）\n",
      "標語 : {{lang|fr|Dieu et mon droit}}<br/>（フランス語:神と私の権利）\n",
      "国歌 : 神よ女王陛下を守り給え\n",
      "位置画像 : Location_UK_EU_Europe_001.svg\n",
      "公用語 : 英語（事実上）\n",
      "首都 : ロンドン\n",
      "最大都市 : ロンドン\n",
      "元首等肩書 : 女王\n",
      "元首等氏名 : エリザベス2世\n",
      "首相等肩書 : 首相\n",
      "首相等氏名 : デーヴィッド・キャメロン\n",
      "面積順位 : 76\n",
      "面積大きさ : 1 E11\n",
      "面積値 : 244,820\n",
      "水面積率 : 1.3%\n",
      "人口統計年 : 2011\n",
      "人口順位 : 22\n",
      "人口大きさ : 1 E7\n",
      "人口値 : 63,181,775<ref>[http://esa.un.org/unpd/wpp/Excel-Data/population.htm United Nations Department of Economic and Social Affairs>Population Division>Data>Population>Total Population]</ref>\n",
      "人口密度値 : 246\n",
      "GDP統計年元 : 2012\n",
      "GDP値元 : 1兆5478億<ref name=\"imf-statistics-gdp\">[http://www.imf.org/external/pubs/ft/weo/2012/02/weodata/weorept.aspx?pr.x=70&pr.y=13&sy=2010&ey=2012&scsm=1&ssd=1&sort=country&ds=.&br=1&c=112&s=NGDP%2CNGDPD%2CPPPGDP%2CPPPPC&grp=0&a= IMF>Data and Statistics>World Economic Outlook Databases>By Countrise>United Kingdom]</ref>\n",
      "GDP統計年MER : 2012\n",
      "GDP順位MER : 5\n",
      "GDP値MER : 2兆4337億<ref name=\"imf-statistics-gdp\" />\n",
      "GDP統計年 : 2012\n",
      "GDP順位 : 6\n",
      "GDP値 : 2兆3162億<ref name=\"imf-statistics-gdp\" />\n",
      "GDP/人 : 36,727<ref name=\"imf-statistics-gdp\" />\n",
      "建国形態 : 建国\n",
      "確立形態1 : イングランド王国／スコットランド王国<br />（両国とも1707年連合法まで）\n",
      "確立年月日1 : 927年／843年\n",
      "確立形態2 : グレートブリテン王国建国<br />（1707年連合法）\n",
      "確立年月日2 : 1707年\n",
      "確立形態3 : グレートブリテン及びアイルランド連合王国建国<br />（1800年連合法）\n",
      "確立年月日3 : 1801年\n",
      "確立形態4 : 現在の国号「グレートブリテン及び北アイルランド連合王国」に変更\n",
      "確立年月日4 : 1927年\n",
      "通貨 : UKポンド (&pound;)\n",
      "通貨コード : GBP\n",
      "時間帯 : ±0\n",
      "夏時間 : +1\n",
      "ISO 3166-1 : GB / GBR\n",
      "ccTLD : .uk / .gb<ref>使用は.ukに比べ圧倒的少数。</ref>\n",
      "国際電話番号 : 44\n",
      "注記 : <references />\n"
     ]
    }
   ],
   "source": [
    "#27 26の処理に加えて，テンプレートの値からMediaWikiの内部リンクマークアップを除去し，テキストに変換せよ（参考: マークアップ早見表）．\n",
    "\n",
    "import re\n",
    "import json\n",
    "\n",
    "# 基礎情報抜き出し用の正規表現パターン\n",
    "ptn_info = re.compile(r'^\\{\\{基礎情報(.*?)^\\}\\}$', flags = re.MULTILINE | re.DOTALL) # 改行を.にマッチ\n",
    "# 辞書に格納するためのfield/value分割\n",
    "ptn_dict = re.compile(r'^\\|(?P<field>.*?)(\\s)+(=)(\\s)+(?P<value>.*?)(?=\\n^\\||\\n^$)', flags = re.MULTILINE | re.DOTALL)\n",
    "\n",
    "ptn_mkup = re.compile(r'(\\'{2,})(.*?)\\1', flags = re.MULTILINE)\n",
    "\n",
    "ptn_intlink = re.compile(r'\\[\\[(?!ファイル:|Category:)(?:[^\\[\\]]*?\\|)?([^\\[\\]]*?)\\]\\]', flags = re.MULTILINE) # 否定先読み (両側かっこを除いた貪欲マッチ)\n",
    "\n",
    "with open('./work/wiki_uk.txt') as data:\n",
    "    dict_info = {}\n",
    "    for info in ptn_dict.finditer(ptn_info.search(data.read()).group(1)):\n",
    "        mkup_removed = ptn_mkup.sub(r'\\2', info.group('value'))\n",
    "        dict_info[info.group('field')] = ptn_intlink.sub(r'\\1', mkup_removed)\n",
    "\n",
    "    for key, val in dict_info.items():\n",
    "        print(key, ':', val)"
   ]
  },
  {
   "cell_type": "markdown",
   "metadata": {},
   "source": [
    "re.sub()はregexパターンの代わりに関数も引数にとれる"
   ]
  },
  {
   "cell_type": "markdown",
   "metadata": {},
   "source": [
    "# 28. MediaWikiマークアップの除去"
   ]
  },
  {
   "cell_type": "code",
   "execution_count": 17,
   "metadata": {},
   "outputs": [
    {
     "name": "stdout",
     "output_type": "stream",
     "text": [
      "略名 : イギリス\n",
      "日本語国名 : グレートブリテン及び北アイルランド連合王国\n",
      "公式国名 : United Kingdom of Great Britain and Northern Ireland英語以外での正式国名:\n",
      "*An Rìoghachd Aonaichte na Breatainn Mhòr agus Eirinn mu Thuath（スコットランド・ゲール語）\n",
      "*Teyrnas Gyfunol Prydain Fawr a Gogledd Iwerddon（ウェールズ語）\n",
      "*Ríocht Aontaithe na Breataine Móire agus Tuaisceart na hÉireann（アイルランド語）\n",
      "*An Rywvaneth Unys a Vreten Veur hag Iwerdhon Glédh（コーンウォール語）\n",
      "*Unitit Kinrick o Great Breetain an Northren Ireland（スコットランド語）\n",
      "**Claught Kängrick o Docht Brätain an Norlin Airlann、Unitet Kängdom o Great Brittain an Norlin Airlann（アルスター・スコットランド語）\n",
      "国旗画像 : Flag of the United Kingdom.svg\n",
      "国章画像 : イギリスの国章\n",
      "国章リンク : （国章）\n",
      "標語 : Dieu et mon droit（フランス語:神と私の権利）\n",
      "国歌 : 神よ女王陛下を守り給え\n",
      "位置画像 : Location_UK_EU_Europe_001.svg\n",
      "公用語 : 英語（事実上）\n",
      "首都 : ロンドン\n",
      "最大都市 : ロンドン\n",
      "元首等肩書 : 女王\n",
      "元首等氏名 : エリザベス2世\n",
      "首相等肩書 : 首相\n",
      "首相等氏名 : デーヴィッド・キャメロン\n",
      "面積順位 : 76\n",
      "面積大きさ : 1 E11\n",
      "面積値 : 244,820\n",
      "水面積率 : 1.3%\n",
      "人口統計年 : 2011\n",
      "人口順位 : 22\n",
      "人口大きさ : 1 E7\n",
      "人口値 : 63,181,775United Nations Department of Economic and Social Affairs>Population Division>Data>Population>Total Population]\n",
      "人口密度値 : 246\n",
      "GDP統計年元 : 2012\n",
      "GDP値元 : 1兆5478億IMF>Data and Statistics>World Economic Outlook Databases>By Countrise>United Kingdom]\n",
      "GDP統計年MER : 2012\n",
      "GDP順位MER : 5\n",
      "GDP値MER : 2兆4337億\n",
      "GDP統計年 : 2012\n",
      "GDP順位 : 6\n",
      "GDP値 : 2兆3162億\n",
      "GDP/人 : 36,727\n",
      "建国形態 : 建国\n",
      "確立形態1 : イングランド王国／スコットランド王国（両国とも1707年連合法まで）\n",
      "確立年月日1 : 927年／843年\n",
      "確立形態2 : グレートブリテン王国建国（1707年連合法）\n",
      "確立年月日2 : 1707年\n",
      "確立形態3 : グレートブリテン及びアイルランド連合王国建国（1800年連合法）\n",
      "確立年月日3 : 1801年\n",
      "確立形態4 : 現在の国号「グレートブリテン及び北アイルランド連合王国」に変更\n",
      "確立年月日4 : 1927年\n",
      "通貨 : UKポンド (&pound;)\n",
      "通貨コード : GBP\n",
      "時間帯 : ±0\n",
      "夏時間 : +1\n",
      "ISO 3166-1 : GB / GBR\n",
      "ccTLD : .uk / .gb使用は.ukに比べ圧倒的少数。\n",
      "国際電話番号 : 44\n",
      "注記 : \n"
     ]
    }
   ],
   "source": [
    "# 27の処理に加えて，テンプレートの値からMediaWikiマークアップを可能な限り除去し，国の基本情報を整形せよ．\n",
    "\n",
    "import re\n",
    "import json\n",
    "\n",
    "\n",
    "# 基礎情報抜き出し用の正規表現パターン\n",
    "ptn_info = re.compile(r'^\\{\\{基礎情報(.*?)^\\}\\}$', flags = re.MULTILINE | re.DOTALL) # 改行を.にマッチ\n",
    "# 辞書に格納するためのfield/value分割\n",
    "ptn_dict = re.compile(r'^\\|(?P<field>.*?)(\\s)+(=)(\\s)+(?P<value>.*?)(?=\\n^\\||\\n^$)', flags = re.MULTILINE | re.DOTALL)\n",
    "\n",
    "ptn_mkup = re.compile(r'(\\'{2,})(.*?)\\1', flags = re.MULTILINE)\n",
    "\n",
    "ptn_intlink = re.compile(r'\\[\\[(?:[^\\[\\]]*?\\|){0,2}([^\\[\\]]*?)\\]\\]', flags = re.MULTILINE) # ファイルにもマッチするように変更\n",
    "ptn_extlink = re.compile(r'\\[?http(.*?\\s)?(.*?)\\]?', flags = re.MULTILINE)\n",
    "\n",
    "ptn_lang = re.compile(r'\\{\\{lang\\|.*?\\|(.*?)\\}\\}', flags = re.MULTILINE)\n",
    "\n",
    "ptn_tag = re.compile(r'<.*?(?:ref|br).*?>', flags = re.MULTILINE)\n",
    "\n",
    "with open('./work/wiki_uk.txt') as data:\n",
    "    dict_info = {}\n",
    "    for info in ptn_dict.finditer(ptn_info.search(data.read()).group(1)):\n",
    "        \n",
    "        # 順を追って除去していく\n",
    "        mkup_removed = ptn_mkup.sub(r'\\2', info.group('value'))\n",
    "        link_removed = ptn_extlink.sub(r'\\2', ptn_intlink.sub(r'\\1', mkup_removed))\n",
    "        lang_removed = ptn_lang.sub(r'\\1', link_removed)\n",
    "        dict_info[info.group('field')] = ptn_tag.sub('', lang_removed)\n",
    "\n",
    "    for key, val in dict_info.items():\n",
    "        print(key, ':', val)"
   ]
  },
  {
   "cell_type": "markdown",
   "metadata": {},
   "source": [
    "複数回のre.sub()正規表現も関数もリスト化すると見通しがよい"
   ]
  },
  {
   "cell_type": "markdown",
   "metadata": {},
   "source": [
    "# 29. 国旗画像のURLを取得する"
   ]
  },
  {
   "cell_type": "markdown",
   "metadata": {},
   "source": [
    "requestsオブジェクトに対して\n",
    "r.url は投げた実際にAPIに送信したURL\n",
    "r.text はgetリクエストに対してAPIから帰ってきたデータ"
   ]
  },
  {
   "cell_type": "code",
   "execution_count": 1,
   "metadata": {},
   "outputs": [
    {
     "name": "stdout",
     "output_type": "stream",
     "text": [
      "Flag of the United Kingdom.svg\n",
      "https://upload.wikimedia.org/wikipedia/commons/a/ae/Flag_of_the_United_Kingdom.svg\n"
     ]
    }
   ],
   "source": [
    "#29 テンプレートの内容を利用し，国旗画像のURLを取得せよ．（ヒント: MediaWiki APIのimageinfoを呼び出して，ファイル参照をURLに変換すればよい）\n",
    "\n",
    "import re\n",
    "import json\n",
    "import urllib\n",
    "\n",
    "# 基礎情報抜き出し用の正規表現パターン\n",
    "ptn_info = re.compile(r'^\\{\\{基礎情報(.*?)^\\}\\}$', flags = re.MULTILINE | re.DOTALL) # 改行を.にマッチ\n",
    "# 辞書に格納するためのfield/value分割\n",
    "ptn_dict = re.compile(r'^\\|(?P<field>.*?)(\\s)+(=)(\\s)+(?P<value>.*?)(?=\\n^\\||\\n^$)', flags = re.MULTILINE | re.DOTALL)\n",
    "\n",
    "ptn_mkup = re.compile(r'(\\'{2,})(.*?)\\1', flags = re.MULTILINE)\n",
    "\n",
    "ptn_intlink = re.compile(r'\\[\\[(?:[^\\[\\]]*?\\|){0,2}([^\\[\\]]*?)\\]\\]', flags = re.MULTILINE) # ファイルにもマッチするように変更\n",
    "ptn_extlink = re.compile(r'\\[?http(.*?\\s)?(.*?)\\]?', flags = re.MULTILINE)\n",
    "\n",
    "ptn_lang = re.compile(r'\\{\\{lang\\|.*?\\|(.*?)\\}\\}', flags = re.MULTILINE)\n",
    "\n",
    "ptn_tag = re.compile(r'<.*?(?:ref|br).*?>', flags = re.MULTILINE)\n",
    "\n",
    "with open('./work/wiki_uk.txt') as data:\n",
    "    dict_info = {}\n",
    "\n",
    "    for info in ptn_dict.finditer(ptn_info.search(data.read()).group(1)):\n",
    "\n",
    "        mkup_removed = ptn_mkup.sub(r'\\2', info.group('value'))\n",
    "        link_removed = ptn_extlink.sub(r'\\1', ptn_intlink.sub(r'\\1', mkup_removed))\n",
    "        lang_removed = ptn_lang.sub(r'\\1', link_removed)\n",
    "        dict_info[info.group('field')] = ptn_tag.sub('', lang_removed)\n",
    "    \n",
    "    fname = dict_info['国旗画像']\n",
    "    print(fname)\n",
    "\n",
    "endpoint = 'https://ja.wikipedia.org/w/api.php?'\n",
    "param = urllib.parse.urlencode({'format':'json', 'action':'query', 'titles':'file:' + fname, 'prop':'imageinfo', 'iiprop':'url'})\n",
    "# マッピングオブジェクトをパーセントエンコード(URLで使える文字にエンコード)して&でつないだ文字列を返す\n",
    "url = endpoint + param\n",
    "\n",
    "req = urllib.request.Request(url) # HTTPリクエストオブジェクトを作成\n",
    "with urllib.request.urlopen(req) as res:\n",
    "    # レスポンスオブジェクトを受け取る\n",
    "    data = json.loads(res.read().decode('utf-8'))\n",
    "    print(data['query']['pages']['-1']['imageinfo'][0]['url'])"
   ]
  },
  {
   "cell_type": "markdown",
   "metadata": {},
   "source": [
    "![](https://upload.wikimedia.org/wikipedia/commons/a/ae/Flag_of_the_United_Kingdom.svg)\n",
    "\n",
    "requestsライブラリが便利"
   ]
  },
  {
   "cell_type": "code",
   "execution_count": 2,
   "metadata": {},
   "outputs": [
    {
     "name": "stdout",
     "output_type": "stream",
     "text": [
      "Flag of the United Kingdom.svg\n",
      "https://upload.wikimedia.org/wikipedia/commons/a/ae/Flag_of_the_United_Kingdom.svg\n"
     ]
    }
   ],
   "source": [
    "import re\n",
    "import json\n",
    "import requests\n",
    "\n",
    "# 基礎情報抜き出し用の正規表現パターン\n",
    "ptn_info = re.compile(r'^\\{\\{基礎情報(.*?)^\\}\\}$', flags = re.MULTILINE | re.DOTALL) # 改行を.にマッチ\n",
    "# 辞書に格納するためのfield/value分割\n",
    "ptn_dict = re.compile(r'^\\|(?P<field>.*?)(\\s)+(=)(\\s)+(?P<value>.*?)(?=\\n^\\||\\n^$)', flags = re.MULTILINE | re.DOTALL)\n",
    "\n",
    "ptn_mkup = re.compile(r'(\\'{2,})(.*?)\\1', flags = re.MULTILINE)\n",
    "\n",
    "ptn_intlink = re.compile(r'\\[\\[(?:[^\\[\\]]*?\\|){0,2}([^\\[\\]]*?)\\]\\]', flags = re.MULTILINE) # ファイルにもマッチするように変更\n",
    "ptn_extlink = re.compile(r'\\[?http(.*?\\s)?(.*?)\\]?', flags = re.MULTILINE)\n",
    "\n",
    "ptn_lang = re.compile(r'\\{\\{lang\\|.*?\\|(.*?)\\}\\}', flags = re.MULTILINE)\n",
    "\n",
    "ptn_tag = re.compile(r'<.*?(?:ref|br).*?>', flags = re.MULTILINE)\n",
    "\n",
    "with open('./work/wiki_uk.txt') as data:\n",
    "    dict_info = {}\n",
    "\n",
    "    for info in ptn_dict.finditer(ptn_info.search(data.read()).group(1)):\n",
    "\n",
    "        mkup_removed = ptn_mkup.sub(r'\\2', info.group('value'))\n",
    "        link_removed = ptn_extlink.sub(r'\\1', ptn_intlink.sub(r'\\1', mkup_removed))\n",
    "        lang_removed = ptn_lang.sub(r'\\1', link_removed)\n",
    "        dict_info[info.group('field')] = ptn_tag.sub('', lang_removed)\n",
    "    \n",
    "    fname = dict_info['国旗画像']\n",
    "    print(fname)\n",
    "\n",
    "query = {'format':'json', 'action':'query', 'titles':'file:' + fname, 'prop':'imageinfo', 'iiprop':'url'}\n",
    "req = requests.get('https://ja.wikipedia.org/w/api.php?', params = query)\n",
    "\n",
    "data = req.json()\n",
    "print(data['query']['pages']['-1']['imageinfo'][0]['url'])"
   ]
  },
  {
   "cell_type": "code",
   "execution_count": null,
   "metadata": {},
   "outputs": [],
   "source": []
  }
 ],
 "metadata": {
  "kernelspec": {
   "display_name": "Python 3",
   "language": "python",
   "name": "python3"
  },
  "language_info": {
   "codemirror_mode": {
    "name": "ipython",
    "version": 3
   },
   "file_extension": ".py",
   "mimetype": "text/x-python",
   "name": "python",
   "nbconvert_exporter": "python",
   "pygments_lexer": "ipython3",
   "version": "3.6.5"
  }
 },
 "nbformat": 4,
 "nbformat_minor": 2
}
