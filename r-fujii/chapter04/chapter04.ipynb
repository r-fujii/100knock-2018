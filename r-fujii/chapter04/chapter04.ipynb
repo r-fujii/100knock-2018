{
 "cells": [
  {
   "cell_type": "markdown",
   "metadata": {},
   "source": [
    "- 形態素解析結果をneko.txt.mecabに保存"
   ]
  },
  {
   "cell_type": "code",
   "execution_count": 1,
   "metadata": {},
   "outputs": [],
   "source": [
    "import MeCab\n",
    "\n",
    "m = MeCab.Tagger()\n",
    "with open('./data/neko.txt') as text, open('./work/neko.txt.mecab', 'w') as out:\n",
    "    for line in text:\n",
    "        out.write(m.parse(line))"
   ]
  },
  {
   "cell_type": "markdown",
   "metadata": {},
   "source": [
    "- 形態素解析ツール\n",
    "\n",
    "MeCabめちゃめちゃ速い\n",
    "辞書が作りやすい\n",
    "JUMAN(++) ++の方はRNN使ってる、重い\n",
    "構文・格・照応解析システム -> knp"
   ]
  },
  {
   "cell_type": "markdown",
   "metadata": {},
   "source": [
    "# 30. 形態素解析結果の読み込み"
   ]
  },
  {
   "cell_type": "markdown",
   "metadata": {},
   "source": [
    "- 正規表現は重いからstrに対してreplace,split使えるならその方が良い"
   ]
  },
  {
   "cell_type": "code",
   "execution_count": 3,
   "metadata": {},
   "outputs": [
    {
     "name": "stdout",
     "output_type": "stream",
     "text": [
      "[{'surface': '一', 'base': '一', 'pos': '名詞', 'pos1': '数'}]\n",
      "[{'surface': '\\u3000', 'base': '\\u3000', 'pos': '記号', 'pos1': '空白'}, {'surface': '吾輩', 'base': '吾輩', 'pos': '名詞', 'pos1': '代名詞'}, {'surface': 'は', 'base': 'は', 'pos': '助詞', 'pos1': '係助詞'}, {'surface': '猫', 'base': '猫', 'pos': '名詞', 'pos1': '一般'}, {'surface': 'で', 'base': 'だ', 'pos': '助動詞', 'pos1': '*'}, {'surface': 'ある', 'base': 'ある', 'pos': '助動詞', 'pos1': '*'}, {'surface': '。', 'base': '。', 'pos': '記号', 'pos1': '句点'}]\n",
      "[{'surface': '名前', 'base': '名前', 'pos': '名詞', 'pos1': '一般'}, {'surface': 'は', 'base': 'は', 'pos': '助詞', 'pos1': '係助詞'}, {'surface': 'まだ', 'base': 'まだ', 'pos': '副詞', 'pos1': '助詞類接続'}, {'surface': '無い', 'base': '無い', 'pos': '形容詞', 'pos1': '自立'}, {'surface': '。', 'base': '。', 'pos': '記号', 'pos1': '句点'}]\n",
      "[{'surface': '\\u3000', 'base': '\\u3000', 'pos': '記号', 'pos1': '空白'}, {'surface': 'どこ', 'base': 'どこ', 'pos': '名詞', 'pos1': '代名詞'}, {'surface': 'で', 'base': 'で', 'pos': '助詞', 'pos1': '格助詞'}, {'surface': '生れ', 'base': '生れる', 'pos': '動詞', 'pos1': '自立'}, {'surface': 'た', 'base': 'た', 'pos': '助動詞', 'pos1': '*'}, {'surface': 'か', 'base': 'か', 'pos': '助詞', 'pos1': '副助詞／並立助詞／終助詞'}, {'surface': 'とんと', 'base': 'とんと', 'pos': '副詞', 'pos1': '一般'}, {'surface': '見当', 'base': '見当', 'pos': '名詞', 'pos1': 'サ変接続'}, {'surface': 'が', 'base': 'が', 'pos': '助詞', 'pos1': '格助詞'}, {'surface': 'つか', 'base': 'つく', 'pos': '動詞', 'pos1': '自立'}, {'surface': 'ぬ', 'base': 'ぬ', 'pos': '助動詞', 'pos1': '*'}, {'surface': '。', 'base': '。', 'pos': '記号', 'pos1': '句点'}]\n",
      "[{'surface': '何', 'base': '何', 'pos': '名詞', 'pos1': '代名詞'}, {'surface': 'でも', 'base': 'でも', 'pos': '助詞', 'pos1': '副助詞'}, {'surface': '薄暗い', 'base': '薄暗い', 'pos': '形容詞', 'pos1': '自立'}, {'surface': 'じめじめ', 'base': 'じめじめ', 'pos': '副詞', 'pos1': '一般'}, {'surface': 'し', 'base': 'する', 'pos': '動詞', 'pos1': '自立'}, {'surface': 'た', 'base': 'た', 'pos': '助動詞', 'pos1': '*'}, {'surface': '所', 'base': '所', 'pos': '名詞', 'pos1': '非自立'}, {'surface': 'で', 'base': 'で', 'pos': '助詞', 'pos1': '格助詞'}, {'surface': 'ニャーニャー', 'base': '*', 'pos': '名詞', 'pos1': '一般'}, {'surface': '泣い', 'base': '泣く', 'pos': '動詞', 'pos1': '自立'}, {'surface': 'て', 'base': 'て', 'pos': '助詞', 'pos1': '接続助詞'}, {'surface': 'いた事', 'base': 'いた事', 'pos': '名詞', 'pos1': '一般'}, {'surface': 'だけ', 'base': 'だけ', 'pos': '助詞', 'pos1': '副助詞'}, {'surface': 'は', 'base': 'は', 'pos': '助詞', 'pos1': '係助詞'}, {'surface': '記憶', 'base': '記憶', 'pos': '名詞', 'pos1': 'サ変接続'}, {'surface': 'し', 'base': 'する', 'pos': '動詞', 'pos1': '自立'}, {'surface': 'て', 'base': 'て', 'pos': '助詞', 'pos1': '接続助詞'}, {'surface': 'いる', 'base': 'いる', 'pos': '動詞', 'pos1': '非自立'}, {'surface': '。', 'base': '。', 'pos': '記号', 'pos1': '句点'}]\n"
     ]
    }
   ],
   "source": [
    "#30 形態素解析結果（neko.txt.mecab）を読み込むプログラムを実装せよ．\n",
    "# ただし，各形態素は表層形（surface），基本形（base），品詞（pos），品詞細分類1（pos1）をキーとするマッピング型に格納し，\n",
    "# 1文を形態素（マッピング型）のリストとして表現せよ．第4章の残りの問題では，ここで作ったプログラムを活用せよ．\n",
    "\n",
    "import re\n",
    "import itertools\n",
    "\n",
    "def get_morphlist(data):\n",
    "    \n",
    "    with open(data, 'r') as d:\n",
    "        ptn = re.compile(r'^(?P<surface>[^\\*]*)\\s(?P<pos>.*?),(?P<pos1>.*?),(?:.*?),(?:.*?),(?:.*?),(?:.*?),(?P<base>.*?)(?:,.*)?$', \\\n",
    "                        flags = re.MULTILINE)\n",
    "        lines = []\n",
    "        morphs = []\n",
    " \n",
    "        for line in d:\n",
    "            if not line.startswith('EOS'):\n",
    "                lines.append(line)\n",
    "            \n",
    "            elif len(lines) > 0:\n",
    "                sentence = \"\".join(lines)\n",
    "                lines.clear()\n",
    "                \n",
    "                for match in ptn.finditer(sentence): \n",
    "                    morph = {}\n",
    "                    morph['surface'] = match.group('surface')\n",
    "                    morph['base'] = match.group('base')\n",
    "                    morph['pos'] = match.group('pos')\n",
    "            \n",
    "                    pos1 = match.group('pos1')\n",
    "                    morph['pos1'] = pos1\n",
    "            \n",
    "                    morphs.append(morph)\n",
    "            \n",
    "                yield morphs\n",
    "                morphs.clear()\n",
    "                \n",
    "sentences = get_morphlist('./work/neko.txt.mecab')\n",
    "for sentence in itertools.islice(sentences, 5):\n",
    "    print(sentence)\n",
    "    # 長いので5文だけ出力"
   ]
  },
  {
   "cell_type": "markdown",
   "metadata": {},
   "source": [
    "# 31. 動詞"
   ]
  },
  {
   "cell_type": "code",
   "execution_count": 5,
   "metadata": {},
   "outputs": [
    {
     "name": "stdout",
     "output_type": "stream",
     "text": [
      "生れ\n",
      "つか\n",
      "し\n",
      "泣い\n",
      "し\n",
      "いる\n",
      "始め\n",
      "見\n",
      "聞く\n",
      "捕え\n",
      "煮\n",
      "食う\n",
      "思わ\n",
      "載せ\n",
      "られ\n",
      "持ち上げ\n",
      "られ\n",
      "し\n",
      "あっ\n",
      "落ちつい\n",
      "見\n",
      "見\n",
      "思っ\n",
      "残っ\n",
      "いる\n",
      "さ\n",
      "れ\n",
      "し\n",
      "逢っ\n",
      "出会わ\n",
      "し\n",
      "のみ\n",
      "なら\n",
      "し\n",
      "いる\n",
      "吹く\n",
      "せ\n",
      "弱っ\n",
      "飲む\n",
      "知っ\n",
      "坐っ\n",
      "おっ\n",
      "する\n",
      "し\n",
      "始め\n",
      "動く\n",
      "動く\n",
      "分ら\n",
      "廻る\n",
      "なる\n"
     ]
    }
   ],
   "source": [
    "#31 動詞の表層形をすべて抽出せよ．\n",
    "\n",
    "import itertools\n",
    "\n",
    "sentences = get_morphlist('./work/neko.txt.mecab') # ジェネレータオブジェクト(イテレータに呼ばれると要素を取ってくる)\n",
    "\n",
    "for item in itertools.islice((word['surface'] for sentence in sentences for word in sentence if word['pos'] == '動詞'), 50):\n",
    "    print(item)"
   ]
  },
  {
   "cell_type": "markdown",
   "metadata": {},
   "source": [
    "# 32. 動詞の原形"
   ]
  },
  {
   "cell_type": "code",
   "execution_count": 6,
   "metadata": {},
   "outputs": [
    {
     "name": "stdout",
     "output_type": "stream",
     "text": [
      "生れる\n",
      "つく\n",
      "する\n",
      "泣く\n",
      "する\n",
      "いる\n",
      "始める\n",
      "見る\n",
      "聞く\n",
      "捕える\n",
      "煮る\n",
      "食う\n",
      "思う\n",
      "載せる\n",
      "られる\n",
      "持ち上げる\n",
      "られる\n",
      "する\n",
      "ある\n",
      "落ちつく\n",
      "見る\n",
      "見る\n",
      "思う\n",
      "残る\n",
      "いる\n",
      "する\n",
      "れる\n",
      "する\n",
      "逢う\n",
      "出会う\n",
      "する\n",
      "のむ\n",
      "なる\n",
      "する\n",
      "いる\n",
      "吹く\n",
      "する\n",
      "弱る\n",
      "飲む\n",
      "知る\n",
      "坐る\n",
      "おる\n",
      "する\n",
      "する\n",
      "始める\n",
      "動く\n",
      "動く\n",
      "分る\n",
      "廻る\n",
      "なる\n"
     ]
    }
   ],
   "source": [
    "#32 動詞の原形をすべて抽出せよ．\n",
    "\n",
    "import itertools\n",
    "\n",
    "sentences = get_morphlist('./work/neko.txt.mecab')\n",
    "\n",
    "for item in itertools.islice((word['base'] for sentence in sentences for word in sentence if word['pos'] == '動詞'), 50):\n",
    "    print(item)"
   ]
  },
  {
   "cell_type": "markdown",
   "metadata": {},
   "source": [
    "# (2015ver.) 33. サ変名詞"
   ]
  },
  {
   "cell_type": "code",
   "execution_count": 5,
   "metadata": {},
   "outputs": [
    {
     "name": "stdout",
     "output_type": "stream",
     "text": [
      "見当\n",
      "記憶\n",
      "話\n",
      "装飾\n",
      "突起\n",
      "運転\n",
      "記憶\n",
      "分別\n",
      "決心\n",
      "我慢\n",
      "餓死\n",
      "訪問\n",
      "始末\n",
      "猶予\n",
      "遭遇\n",
      "我慢\n",
      "記憶\n",
      "返報\n",
      "勉強\n",
      "勉強\n",
      "昼寝\n",
      "珍重\n",
      "昼寝\n",
      "経験\n",
      "供\n",
      "供\n",
      "供\n",
      "供\n",
      "——\n",
      "——\n",
      "同居\n",
      "観察\n",
      "断言\n",
      "同衾\n",
      "供\n",
      "迫害\n",
      "尊敬\n",
      "生活\n",
      "剿滅\n",
      "議論\n",
      "所有\n",
      "憤慨\n",
      "観念\n",
      "御馳走\n",
      "掠奪\n",
      "代言\n",
      "我儘\n",
      "我儘\n",
      "失敗\n",
      "話\n"
     ]
    }
   ],
   "source": [
    "#(33 サ変接続の名詞をすべて抽出せよ．)\n",
    "\n",
    "sentences = get_morphlist('./work/neko.txt.mecab')\n",
    "\n",
    "for i, item in enumerate((word['surface'] for sentence in sentences for word in sentence if word['pos1'] == 'サ変接続'), start = 1):\n",
    "    print(item)\n",
    "    if i >= 50: break"
   ]
  },
  {
   "cell_type": "markdown",
   "metadata": {},
   "source": [
    "# 33. 「AのB」"
   ]
  },
  {
   "cell_type": "markdown",
   "metadata": {},
   "source": [
    "マッチする数が少ないから名詞での条件処理よりも「の」の検索の方が速い / 可読性との相談"
   ]
  },
  {
   "cell_type": "code",
   "execution_count": 9,
   "metadata": {},
   "outputs": [
    {
     "name": "stdout",
     "output_type": "stream",
     "text": [
      "彼の掌\n",
      "掌の上\n",
      "書生の顔\n",
      "はずの顔\n",
      "顔の真中\n",
      "穴の中\n",
      "書生の掌\n",
      "掌の裏\n",
      "何の事\n",
      "肝心の母親\n",
      "藁の上\n",
      "笹原の中\n",
      "池の前\n",
      "池の上\n",
      "一樹の蔭\n",
      "垣根の穴\n",
      "隣家の三\n",
      "時の通路\n",
      "一刻の猶予\n",
      "家の内\n",
      "彼の書生\n",
      "以外の人間\n",
      "前の書生\n",
      "おさんの隙\n",
      "おさんの三\n",
      "胸の痞\n",
      "家の主人\n",
      "主人の方\n",
      "鼻の下\n",
      "吾輩の顔\n",
      "自分の住\n",
      "吾輩の主人\n",
      "家のもの\n",
      "うちのもの\n",
      "彼の書斎\n",
      "本の上\n",
      "皮膚の色\n",
      "本の上\n",
      "彼の毎夜\n",
      "以外のもの\n",
      "主人の傍\n",
      "彼の膝\n",
      "膝の上\n",
      "経験の上\n",
      "飯櫃の上\n",
      "炬燵の上\n",
      "ここのうち\n",
      "供の寝床\n",
      "彼等の中間\n",
      "供の一\n"
     ]
    }
   ],
   "source": [
    "#33 2つの名詞が「の」で連結されている名詞句を抽出せよ．\n",
    "\n",
    "import toolz.itertoolz\n",
    "\n",
    "sentences = get_morphlist('./work/neko.txt.mecab')\n",
    "\n",
    "count = 0\n",
    "for w1, w2, w3 in toolz.itertoolz.sliding_window(3, (word for sentence in sentences for word in sentence)):\n",
    "    if w1['pos'] == '名詞' and w2['pos'] == '助詞' and w2['surface'] == 'の' and w3['pos'] == '名詞':\n",
    "        count += 1\n",
    "        print(w1['surface'] + w2['surface'] + w3['surface'])\n",
    "        \n",
    "    if count >= 50: break"
   ]
  },
  {
   "cell_type": "markdown",
   "metadata": {},
   "source": [
    "# 34. 名詞の連接"
   ]
  },
  {
   "cell_type": "markdown",
   "metadata": {},
   "source": [
    "groupbyで名詞かどうかをgroupingすれば勝手に最長一致でとれる & simple"
   ]
  },
  {
   "cell_type": "code",
   "execution_count": 10,
   "metadata": {},
   "outputs": [
    {
     "name": "stdout",
     "output_type": "stream",
     "text": [
      "人間中\n",
      "一番獰悪\n",
      "時妙\n",
      "一毛\n",
      "その後猫\n",
      "一度\n",
      "ぷうぷうと煙\n",
      "邸内\n",
      "三毛\n",
      "書生以外\n",
      "四五遍\n",
      "この間おさん\n",
      "三馬\n",
      "御台所\n",
      "まま奥\n",
      "住家\n",
      "終日書斎\n",
      "勉強家\n",
      "勉強家\n",
      "勤勉家\n",
      "二三ページ\n",
      "主人以外\n",
      "限り吾輩\n",
      "朝主人\n",
      "一番心持\n",
      "二人\n",
      "一つ床\n",
      "一人\n",
      "最後大変\n",
      "——猫\n",
      "神経胃弱性\n",
      "物指\n",
      "尻ぺたをひどく\n",
      "言語同断\n",
      "家内総がかり\n",
      "筋向\n",
      "白君\n",
      "度毎\n",
      "白君\n",
      "先日玉\n",
      "四疋\n",
      "三日目\n",
      "四疋\n",
      "白君\n",
      "我等猫族\n",
      "家族的生活\n",
      "三毛君\n",
      "所有権\n",
      "我々同族間\n",
      "目刺\n"
     ]
    }
   ],
   "source": [
    "#34 名詞の連接（連続して出現する名詞）を最長一致で抽出せよ．\n",
    "\n",
    "import itertools\n",
    "\n",
    "def concat(sentences):\n",
    "    \n",
    "    res = []\n",
    "    \n",
    "    for sentence in sentences:\n",
    "        for word in sentence:\n",
    "            if word['pos'] == '名詞':\n",
    "                res.append(word['surface'])\n",
    "            else:\n",
    "                if len(res) >= 2:\n",
    "                    yield \"\".join(res)\n",
    "                res.clear()\n",
    "\n",
    "sentences = get_morphlist('./work/neko.txt.mecab')\n",
    "\n",
    "for res in itertools.islice(concat(sentences), 50):\n",
    "    print(res)"
   ]
  },
  {
   "cell_type": "markdown",
   "metadata": {},
   "source": [
    "# 35. 単語の出現頻度"
   ]
  },
  {
   "cell_type": "code",
   "execution_count": 8,
   "metadata": {},
   "outputs": [
    {
     "name": "stdout",
     "output_type": "stream",
     "text": [
      "('の', 9194)\n",
      "('。', 7486)\n",
      "('て', 6868)\n",
      "('、', 6772)\n",
      "('は', 6420)\n",
      "('に', 6243)\n",
      "('を', 6071)\n",
      "('と', 5508)\n",
      "('が', 5337)\n",
      "('た', 3988)\n",
      "('で', 3806)\n",
      "('「', 3231)\n",
      "('」', 3225)\n",
      "('も', 2479)\n",
      "('ない', 2390)\n",
      "('だ', 2363)\n",
      "('し', 2322)\n",
      "('から', 2032)\n",
      "('ある', 1728)\n",
      "('な', 1613)\n",
      "('ん', 1568)\n",
      "('か', 1530)\n",
      "('いる', 1249)\n",
      "('事', 1207)\n",
      "('へ', 1034)\n",
      "('う', 992)\n",
      "('する', 992)\n",
      "('もの', 981)\n",
      "('君', 973)\n",
      "('です', 973)\n",
      "('云う', 937)\n",
      "('主人', 932)\n",
      "('よう', 696)\n",
      "('ね', 683)\n",
      "('この', 649)\n",
      "('御', 636)\n",
      "('ば', 617)\n",
      "('人', 602)\n",
      "('その', 576)\n",
      "('一', 554)\n",
      "('そう', 546)\n",
      "('何', 539)\n",
      "('なる', 531)\n",
      "('さ', 514)\n",
      "('よ', 509)\n",
      "('なら', 483)\n",
      "('吾輩', 481)\n",
      "('い', 478)\n",
      "('ます', 458)\n",
      "('じゃ', 448)\n"
     ]
    }
   ],
   "source": [
    "#35 文章中に出現する単語とその出現頻度を求め，出現頻度の高い順に並べよ．\n",
    "\n",
    "from collections import Counter\n",
    "\n",
    "sentences = get_morphlist('./work/neko.txt.mecab')\n",
    "c = Counter(word['surface'] for sentence in sentences for word in sentence)\n",
    "\n",
    "for word in c.most_common(50):\n",
    "    # 引数なしなら全部取ってこれる\n",
    "    print(word)"
   ]
  },
  {
   "cell_type": "code",
   "execution_count": 9,
   "metadata": {},
   "outputs": [
    {
     "name": "stdout",
     "output_type": "stream",
     "text": [
      "659 ms ± 3.33 ms per loop (mean ± std. dev. of 7 runs, 1 loop each)\n"
     ]
    }
   ],
   "source": [
    "%%timeit\n",
    "#35 文章中に出現する単語とその出現頻度を求め，出現頻度の高い順に並べよ．\n",
    "\n",
    "from collections import Counter\n",
    "\n",
    "sentences = get_morphlist('./work/neko.txt.mecab')\n",
    "c = Counter(word['surface'] for sentence in sentences for word in sentence)\n",
    "\n",
    "#for word in c.most_common(50):\n",
    "    # 引数なしなら全部取ってこれる\n",
    "    #print(word)"
   ]
  },
  {
   "cell_type": "markdown",
   "metadata": {},
   "source": [
    "- Counterオブジェクトの要素を更新するときはCounter.update()が結構速い\n",
    "\n",
    "が内包表記の方が速い。"
   ]
  },
  {
   "cell_type": "markdown",
   "metadata": {},
   "source": [
    "itertools.chain.from_iterable(for文を2回書かなくても中身をさらってこれる)\n",
    "-> for word in chain.from_iterable(sentences)"
   ]
  },
  {
   "cell_type": "code",
   "execution_count": 11,
   "metadata": {},
   "outputs": [
    {
     "name": "stdout",
     "output_type": "stream",
     "text": [
      "('の', 9194)\n",
      "('。', 7486)\n",
      "('て', 6868)\n",
      "('、', 6772)\n",
      "('は', 6420)\n",
      "('に', 6243)\n",
      "('を', 6071)\n",
      "('と', 5508)\n",
      "('が', 5337)\n",
      "('た', 3988)\n",
      "('で', 3806)\n",
      "('「', 3231)\n",
      "('」', 3225)\n",
      "('も', 2479)\n",
      "('ない', 2390)\n",
      "('だ', 2363)\n",
      "('し', 2322)\n",
      "('から', 2032)\n",
      "('ある', 1728)\n",
      "('な', 1613)\n",
      "('ん', 1568)\n",
      "('か', 1530)\n",
      "('いる', 1249)\n",
      "('事', 1207)\n",
      "('へ', 1034)\n",
      "('う', 992)\n",
      "('する', 992)\n",
      "('もの', 981)\n",
      "('君', 973)\n",
      "('です', 973)\n",
      "('云う', 937)\n",
      "('主人', 932)\n",
      "('よう', 696)\n",
      "('ね', 683)\n",
      "('この', 649)\n",
      "('御', 636)\n",
      "('ば', 617)\n",
      "('人', 602)\n",
      "('その', 576)\n",
      "('一', 554)\n",
      "('そう', 546)\n",
      "('何', 539)\n",
      "('なる', 531)\n",
      "('さ', 514)\n",
      "('よ', 509)\n",
      "('なら', 483)\n",
      "('吾輩', 481)\n",
      "('い', 478)\n",
      "('ます', 458)\n",
      "('じゃ', 448)\n"
     ]
    }
   ],
   "source": [
    "#35 文章中に出現する単語とその出現頻度を求め，出現頻度の高い順に並べよ．\n",
    "\n",
    "import itertools\n",
    "from collections import Counter\n",
    "\n",
    "sentences = get_morphlist('./work/neko.txt.mecab')\n",
    "c = Counter(word['surface'] for word in itertools.chain.from_iterable(sentences))\n",
    "\n",
    "for word in c.most_common(50):\n",
    "    # 引数なしなら全部取ってこれる\n",
    "    print(word)"
   ]
  },
  {
   "cell_type": "markdown",
   "metadata": {},
   "source": [
    "- dict.get(key, default) -> 辞書に存在しないkeyでもデフォルト値を返してくれる\n",
    "- Collections.defaultdict([]), defaultdict(int), (lambda : 0) = 引数なしの無名関数 = return 0、など -> これも存在しないkeyに対して指定した引数(default)を返す"
   ]
  },
  {
   "cell_type": "markdown",
   "metadata": {},
   "source": [
    "# 36. 頻度上位10語"
   ]
  },
  {
   "cell_type": "code",
   "execution_count": 15,
   "metadata": {},
   "outputs": [
    {
     "data": {
      "text/plain": [
       "<BarContainer object of 10 artists>"
      ]
     },
     "execution_count": 15,
     "metadata": {},
     "output_type": "execute_result"
    },
    {
     "data": {
      "image/png": "[encoded data removed]",
      "text/plain": [
       "<Figure size 432x288 with 1 Axes>"
      ]
     },
     "metadata": {},
     "output_type": "display_data"
    }
   ],
   "source": [
    "#36 出現頻度が高い10語とその出現頻度をグラフ（例えば棒グラフなど）で表示せよ．\n",
    "\n",
    "from collections import Counter\n",
    "import matplotlib.pyplot as plt\n",
    "import matplotlib as mpl\n",
    "import numpy as np\n",
    "\n",
    "sentences = get_morphlist('./work/neko.txt.mecab')\n",
    "c = Counter(word['surface'] for sentence in sentences for word in sentence)\n",
    "\n",
    "left = np.arange(10)\n",
    "height = np.array([])\n",
    "xlabel = []\n",
    "for word, freq in c.most_common(10):\n",
    "    xlabel.append(word)\n",
    "    # numpyのリストへのappendは引数にリストを取る\n",
    "    height = np.append(height, freq)    \n",
    "\n",
    "%matplotlib inline\n",
    "mpl.rcParams['font.family'] = 'TakaoGothic' # 日本語が表示できるフォントに変更\n",
    "# left:x軸の値とheight:棒の高さは必須の引数\n",
    "plt.bar(left, height, tick_label = xlabel, align = 'center')"
   ]
  },
  {
   "cell_type": "code",
   "execution_count": 7,
   "metadata": {},
   "outputs": [
    {
     "data": {
      "text/plain": [
       "'/Users/r-fujii/.matplotlib'"
      ]
     },
     "execution_count": 7,
     "metadata": {},
     "output_type": "execute_result"
    }
   ],
   "source": [
    "import matplotlib\n",
    "matplotlib.get_cachedir()"
   ]
  },
  {
   "cell_type": "markdown",
   "metadata": {},
   "source": [
    "- pandasが便利"
   ]
  },
  {
   "cell_type": "code",
   "execution_count": 9,
   "metadata": {},
   "outputs": [
    {
     "data": {
      "text/plain": [
       "<matplotlib.axes._subplots.AxesSubplot at 0x12155d780>"
      ]
     },
     "execution_count": 9,
     "metadata": {},
     "output_type": "execute_result"
    },
    {
     "data": {
      "image/png": "[encoded data removed]",
      "text/plain": [
       "<Figure size 432x288 with 1 Axes>"
      ]
     },
     "metadata": {},
     "output_type": "display_data"
    }
   ],
   "source": [
    "import pandas as pd\n",
    "\n",
    "sentences = get_morphlist('./work/neko.txt.mecab')\n",
    "c = Counter(word['surface'] for sentence in sentences for word in sentence)\n",
    "\n",
    "x, y = zip(*c.most_common(10))\n",
    "\n",
    "series = pd.Series(y, index = x)\n",
    "series.plot.bar()"
   ]
  },
  {
   "cell_type": "markdown",
   "metadata": {},
   "source": [
    "# 37. 「猫」と共起頻度の高い上位10語"
   ]
  },
  {
   "cell_type": "markdown",
   "metadata": {},
   "source": [
    "- 共起とは?\n",
    "\n",
    "同じ文の中の出現? 文脈語(n-gram)?\n",
    "\n",
    "文単位ならregexかなんかで一文取ってくればいいしbigramとなら単語のoverlap考えなくていいから楽そう\n",
    "\n",
    "n-gramへの拡張 -> 直前のn-gramと(n - 1)語のoverlapをどう処理??"
   ]
  },
  {
   "cell_type": "code",
   "execution_count": 11,
   "metadata": {},
   "outputs": [
    {
     "data": {
      "text/plain": [
       "<BarContainer object of 10 artists>"
      ]
     },
     "execution_count": 11,
     "metadata": {},
     "output_type": "execute_result"
    },
    {
     "data": {
      "image/png": "[encoded data removed]",
      "text/plain": [
       "<Figure size 432x288 with 1 Axes>"
      ]
     },
     "metadata": {},
     "output_type": "display_data"
    }
   ],
   "source": [
    "#37 「猫」とよく共起する（共起頻度が高い）10語とその出現頻度をグラフ（例えば棒グラフなど）で表示せよ．\n",
    "\n",
    "from collections import Counter\n",
    "import matplotlib.pyplot as plt\n",
    "import matplotlib as mpl\n",
    "import numpy as np\n",
    "from toolz.itertoolz import sliding_window\n",
    "\n",
    "sentences = get_morphlist('./work/neko.txt.mecab')\n",
    "\n",
    "# 「猫」を含むbigramを返すジェネレータ\n",
    "bigram = (x for x in (sliding_window(2, (word['surface'] for sentence in sentences for word in sentence))) if '猫' in x)\n",
    "# 各bigramを見ていって「猫」ではない語を返すジェネレータ\n",
    "# bigramならoverlapは考える必要がない\n",
    "word_co = (word for x in bigram for word in x if not word == '猫')\n",
    "\n",
    "# 以後36の流用\n",
    "c = Counter(word_co)\n",
    "\n",
    "left = np.arange(10)\n",
    "height = np.array([])\n",
    "xlabel = []\n",
    "for word, freq in c.most_common(10):\n",
    "    xlabel.append(word)\n",
    "    height = np.append(height, freq)    \n",
    "\n",
    "%matplotlib inline\n",
    "mpl.rcParams['font.family'] = 'TakaoGothic'\n",
    "plt.bar(left, height, tick_label = xlabel, align = 'center')"
   ]
  },
  {
   "cell_type": "markdown",
   "metadata": {},
   "source": [
    "- cytoolzのsliding_windowの方が速い"
   ]
  },
  {
   "cell_type": "markdown",
   "metadata": {},
   "source": [
    "# 38. ヒストグラム"
   ]
  },
  {
   "cell_type": "code",
   "execution_count": 23,
   "metadata": {},
   "outputs": [
    {
     "data": {
      "text/plain": [
       "(array([1.3539e+04, 2.0000e+01, 3.0000e+00, 4.0000e+00, 5.0000e+00,\n",
       "        0.0000e+00, 2.0000e+00, 2.0000e+00, 0.0000e+00, 0.0000e+00,\n",
       "        1.0000e+00, 1.0000e+00, 3.0000e+00, 2.0000e+00, 1.0000e+00,\n",
       "        0.0000e+00, 0.0000e+00, 0.0000e+00, 1.0000e+00, 0.0000e+00]),\n",
       " array([    0.,   500.,  1000.,  1500.,  2000.,  2500.,  3000.,  3500.,\n",
       "         4000.,  4500.,  5000.,  5500.,  6000.,  6500.,  7000.,  7500.,\n",
       "         8000.,  8500.,  9000.,  9500., 10000.]),\n",
       " <a list of 20 Patch objects>)"
      ]
     },
     "execution_count": 23,
     "metadata": {},
     "output_type": "execute_result"
    },
    {
     "data": {
      "image/png": "[encoded data removed]",
      "text/plain": [
       "<Figure size 432x288 with 1 Axes>"
      ]
     },
     "metadata": {},
     "output_type": "display_data"
    }
   ],
   "source": [
    "#38 単語の出現頻度のヒストグラム（横軸に出現頻度，縦軸に出現頻度をとる単語の種類数を棒グラフで表したもの）を描け．\n",
    "\n",
    "from collections import Counter\n",
    "import matplotlib.pyplot as plt\n",
    "import numpy as np\n",
    "\n",
    "sentences = get_morphlist('./work/neko.txt.mecab')\n",
    "c = Counter(word['surface'] for sentence in sentences for word in sentence)\n",
    "\n",
    "appearence = np.array([freq for word, freq in c.items()])\n",
    "\n",
    "%matplotlib inline\n",
    "plt.xkcd() # グラフ歪ませられる()\n",
    "plt.hist(appearence, bins = 20, range = (0, 10000), log = True)"
   ]
  },
  {
   "cell_type": "markdown",
   "metadata": {},
   "source": [
    "# 39. Zipfの法則"
   ]
  },
  {
   "cell_type": "code",
   "execution_count": 22,
   "metadata": {},
   "outputs": [
    {
     "data": {
      "text/plain": [
       "[<matplotlib.lines.Line2D at 0x12409b7b8>]"
      ]
     },
     "execution_count": 22,
     "metadata": {},
     "output_type": "execute_result"
    },
    {
     "data": {
      "image/png": "[encoded data removed]",
      "text/plain": [
       "<Figure size 432x288 with 1 Axes>"
      ]
     },
     "metadata": {},
     "output_type": "display_data"
    }
   ],
   "source": [
    "#39 単語の出現頻度順位を横軸，その出現頻度を縦軸として，両対数グラフをプロットせよ．\n",
    "\n",
    "from collections import Counter\n",
    "import matplotlib.pyplot as plt\n",
    "import numpy as np\n",
    "\n",
    "sentences = get_morphlist('./work/neko.txt.mecab')\n",
    "c = Counter(word['surface'] for sentence in sentences for word in sentence)\n",
    "\n",
    "# 単語数をカウント\n",
    "for i, _ in enumerate(c, start = 1): \n",
    "    pass\n",
    "\n",
    "%matplotlib inline\n",
    "plt.xscale('log')\n",
    "plt.yscale('log')\n",
    "x = np.arange(1, i + 1)\n",
    "y = np.array([freq for word, freq in sorted(c.items(), key = lambda x : x[1], reverse = True)])\n",
    "plt.plot(x, y)"
   ]
  },
  {
   "cell_type": "code",
   "execution_count": null,
   "metadata": {},
   "outputs": [],
   "source": []
  }
 ],
 "metadata": {
  "kernelspec": {
   "display_name": "Python 3",
   "language": "python",
   "name": "python3"
  },
  "language_info": {
   "codemirror_mode": {
    "name": "ipython",
    "version": 3
   },
   "file_extension": ".py",
   "mimetype": "text/x-python",
   "name": "python",
   "nbconvert_exporter": "python",
   "pygments_lexer": "ipython3",
   "version": "3.6.5"
  }
 },
 "nbformat": 4,
 "nbformat_minor": 2
}
