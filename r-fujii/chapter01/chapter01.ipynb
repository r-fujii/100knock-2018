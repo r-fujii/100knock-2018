{
 "cells": [
  {
   "cell_type": "code",
   "execution_count": 1,
   "metadata": {},
   "outputs": [
    {
     "name": "stdout",
     "output_type": "stream",
     "text": [
      "desserts\n"
     ]
    }
   ],
   "source": [
    "#00 文字列\"stressed\"の文字を逆に（末尾から先頭に向かって）並べた文字列を得よ．\n",
    "text = 'stressed'\n",
    "print(text[::-1])"
   ]
  },
  {
   "cell_type": "code",
   "execution_count": 2,
   "metadata": {},
   "outputs": [
    {
     "name": "stdout",
     "output_type": "stream",
     "text": [
      "パトカー\n"
     ]
    }
   ],
   "source": [
    "#01「パタトクカシーー」という文字列の1,3,5,7文字目を取り出して連結した文字列を得よ．\n",
    "text = 'パタトクカシーー'\n",
    "print(text[::2])"
   ]
  },
  {
   "cell_type": "code",
   "execution_count": 3,
   "metadata": {},
   "outputs": [
    {
     "name": "stdout",
     "output_type": "stream",
     "text": [
      "パタトクカシーー\n"
     ]
    }
   ],
   "source": [
    "#02「パトカー」＋「タクシー」の文字を先頭から交互に連結して文字列「パタトクカシーー」を得よ．\n",
    "txt1 = 'パトカー'\n",
    "txt2 = 'タクシー'\n",
    "\n",
    "res = \"\"\n",
    "for a, b in zip(txt1, txt2):\n",
    "    res += (a + b)\n",
    "print(res)"
   ]
  },
  {
   "cell_type": "code",
   "execution_count": 4,
   "metadata": {},
   "outputs": [
    {
     "name": "stdout",
     "output_type": "stream",
     "text": [
      "[3, 1, 4, 1, 5, 9, 2, 6, 5, 3, 5, 8, 9, 7, 9]\n"
     ]
    }
   ],
   "source": [
    "#03 \"Now I need a drink, alcoholic of course, after the heavy lectures involving quantum mechanics.\"という文を単語に分解し，\n",
    "# 各単語の（アルファベットの）文字数を先頭から出現順に並べたリストを作成せよ．\n",
    "\n",
    "text = 'Now I need a drink, alcoholic of course, after the heavy lectures involving quantum mechanics.'\n",
    "text = text.replace(',', '').replace('.', '') # 余分なカンマとピリオドの除去\n",
    "words = text.split()\n",
    "\n",
    "w_len = []\n",
    "for word in words:\n",
    "    w_len.append(len(word))\n",
    "print(w_len)"
   ]
  },
  {
   "cell_type": "code",
   "execution_count": 3,
   "metadata": {},
   "outputs": [
    {
     "name": "stdout",
     "output_type": "stream",
     "text": [
      "{'H': 1, 'He': 2, 'Li': 3, 'Be': 4, 'B': 5, 'C': 6, 'N': 7, 'O': 8, 'F': 9, 'Ne': 10, 'Na': 11, 'Mi': 12, 'Al': 13, 'Si': 14, 'P': 15, 'S': 16, 'Cl': 17, 'Ar': 18, 'K': 19, 'Ca': 20}\n"
     ]
    }
   ],
   "source": [
    "#04 \"Hi He Lied Because Boron Could Not Oxidize Fluorine. New Nations Might Also Sign Peace Security Clause. Arthur King Can.\"\n",
    "# という文を単語に分解し，1, 5, 6, 7, 8, 9, 15, 16, 19番目の単語は先頭の1文字，それ以外の単語は先頭に2文字を取り出し，\n",
    "# 取り出した文字列から単語の位置（先頭から何番目の単語か）への連想配列（辞書型もしくはマップ型）を作成せよ．\n",
    "\n",
    "text = 'Hi He Lied Because Boron Could Not Oxidize Fluorine. New Nations Might Also Sign Peace Security Clause. Arthur King Can.'\n",
    "words = text.split()\n",
    "res = {}\n",
    "\n",
    "for i, word in enumerate(words):\n",
    "    if i in [0, 4, 5, 6, 7, 8, 14, 15, 18]:\n",
    "        res[word[0]] = (i + 1)\n",
    "    else:\n",
    "        res[word[:2]] = (i + 1)\n",
    "        \n",
    "print(res)"
   ]
  },
  {
   "cell_type": "markdown",
   "metadata": {},
   "source": [
    "note: 存在判定はsetの方が早い"
   ]
  },
  {
   "cell_type": "code",
   "execution_count": 4,
   "metadata": {},
   "outputs": [
    {
     "name": "stdout",
     "output_type": "stream",
     "text": [
      "{'H': 1, 'He': 2, 'Li': 3, 'Be': 4, 'B': 5, 'C': 6, 'N': 7, 'O': 8, 'F': 9, 'Ne': 10, 'Na': 11, 'Mi': 12, 'Al': 13, 'Si': 14, 'P': 15, 'S': 16, 'Cl': 17, 'Ar': 18, 'K': 19, 'Ca': 20}\n"
     ]
    }
   ],
   "source": [
    "# 別解\n",
    "s = {1, 5, 6, 7, 8, 9, 15, 16, 19}\n",
    "dict = {(w[0] if i in s else w[:2]): i for i, w in enumerate(words, start = 1)}\n",
    "print(dict)"
   ]
  },
  {
   "cell_type": "code",
   "execution_count": 2,
   "metadata": {},
   "outputs": [
    {
     "name": "stdout",
     "output_type": "stream",
     "text": [
      "['I am', 'am an', 'an NLPer']\n",
      "['I ', ' a', 'am', 'm ', ' a', 'an', 'n ', ' N', 'NL', 'LP', 'Pe', 'er']\n"
     ]
    }
   ],
   "source": [
    "#05 与えられたシーケンス（文字列やリストなど）からn-gramを作る関数を作成せよ\n",
    "# この関数を用い，\"I am an NLPer\"という文から単語bi-gram，文字bi-gramを得よ．\n",
    "\n",
    "def n_gram(n, seq, mode):\n",
    "    \n",
    "    res = []\n",
    "    seqlen = len(seq)\n",
    "    for i in range(seqlen - n + 1):\n",
    "        if mode == 'word': # 単語bi-gramの場合\n",
    "            res.append(' '.join(seq[i:i+n]))\n",
    "        if mode == 'char': # 文字bi-gramの場合\n",
    "            res.append(seq[i:i+n])\n",
    "        \n",
    "    return res\n",
    "\n",
    "text = 'I am an NLPer'\n",
    "\n",
    "print(n_gram(2, text.split(), 'word'))\n",
    "print(n_gram(2, text, 'char'))"
   ]
  },
  {
   "cell_type": "markdown",
   "metadata": {},
   "source": [
    "toolz.itertoolzの動作理解のために使える物を使わないで書いたやつ"
   ]
  },
  {
   "cell_type": "code",
   "execution_count": 4,
   "metadata": {},
   "outputs": [
    {
     "name": "stdout",
     "output_type": "stream",
     "text": [
      "[('I', 'am'), ('am', 'an'), ('an', 'NLPer')]\n",
      "[('I', ' ', 'a'), (' ', 'a', 'm'), ('a', 'm', ' '), ('m', ' ', 'a'), (' ', 'a', 'n'), ('a', 'n', ' '), ('n', ' ', 'N'), (' ', 'N', 'L'), ('N', 'L', 'P'), ('L', 'P', 'e'), ('P', 'e', 'r')]\n"
     ]
    }
   ],
   "source": [
    "def n_gram2(n, seq):\n",
    "    \n",
    "    tmp = []\n",
    "    for i in range(n):\n",
    "        tmp.append(list(seq).copy()) # Pythonは参照渡し\n",
    "        del tmp[i][:i]\n",
    "        \n",
    "    return list(zip(*tmp))\n",
    "\n",
    "text = 'I am an NLPer'\n",
    "print(n_gram2(2, text.split()))\n",
    "print(n_gram2(3, text))"
   ]
  },
  {
   "cell_type": "code",
   "execution_count": 12,
   "metadata": {},
   "outputs": [
    {
     "name": "stdout",
     "output_type": "stream",
     "text": [
      "X: {'di', 'ad', 'ap', 'is', 'ra', 'pa', 'ar', 'se'}\n",
      "Y: {'ph', 'ap', 'ag', 'gr', 'ra', 'pa', 'ar'}\n",
      "union: {'ph', 'di', 'ad', 'ap', 'ag', 'gr', 'is', 'ra', 'pa', 'ar', 'se'}\n",
      "intersection: {'ar', 'ra', 'pa', 'ap'}\n",
      "difference1: {'ad', 'is', 'di', 'se'}\n",
      "difference2: {'ph', 'ag', 'gr'}\n",
      "'se' in X: True\n",
      "'se' in Y: False\n"
     ]
    }
   ],
   "source": [
    "#06 \"paraparaparadise\"と\"paragraph\"に含まれる文字bi-gramの集合を，それぞれ, XとYとして求め，\n",
    "# XとYの和集合，積集合，差集合を求めよ．さらに，'se'というbi-gramがXおよびYに含まれるかどうかを調べよ．\n",
    "\n",
    "def w_bi_gram(seq):\n",
    "    \n",
    "    res = []\n",
    "    seqlen = len(seq)\n",
    "    for i in range(seqlen - 1):\n",
    "        res.append(seq[i:i+2])\n",
    "    \n",
    "    return set(res)\n",
    "\n",
    "txt1 = 'paraparaparadise'\n",
    "txt2 = 'paragraph'\n",
    "\n",
    "X = w_bi_gram(txt1)\n",
    "Y = w_bi_gram(txt2)\n",
    "\n",
    "print('X:', X)\n",
    "print('Y:', Y)\n",
    "print('union:', X | Y)\n",
    "print('intersection:', X & Y)\n",
    "print('difference1:', X - Y)\n",
    "print('difference2:', Y - X)\n",
    "\n",
    "print(\"'se' in X:\", 'se' in X)\n",
    "print(\"'se' in Y:\", 'se' in Y)"
   ]
  },
  {
   "cell_type": "code",
   "execution_count": 13,
   "metadata": {},
   "outputs": [
    {
     "name": "stdout",
     "output_type": "stream",
     "text": [
      "12時の気温は22.4\n"
     ]
    }
   ],
   "source": [
    "#07 引数x, y, zを受け取り「x時のyはz」という文字列を返す関数を実装せよ．\n",
    "# さらに，x=12, y=\"気温\", z=22.4として，実行結果を確認せよ．\n",
    "\n",
    "def template(x, y, z):\n",
    "    return '{0}時の{1}は{2}'.format(x, y, z)\n",
    "\n",
    "print(template(x = 12, y = '気温', z = 22.4))"
   ]
  },
  {
   "cell_type": "code",
   "execution_count": 3,
   "metadata": {},
   "outputs": [
    {
     "name": "stdout",
     "output_type": "stream",
     "text": [
      "Tsrh rh z gvhg kiltizn uli hvmgvmxv vmxibkgrlm.\n",
      "This is a test program for sentence encryption.\n",
      "Tsrh rh z gvhg kiltizn uli hvmgvmxv vmxibkgrlm.\n",
      "This is a test program for sentence encryption.\n"
     ]
    }
   ],
   "source": [
    "#08 与えられた文字列の各文字を，以下の仕様で変換する関数cipherを実装せよ．\n",
    "\n",
    "# 英小文字ならば(219 - 文字コード)の文字に置換\n",
    "# その他の文字はそのまま出力\n",
    "# この関数を用い，英語のメッセージを暗号化・復号化せよ．\n",
    "\n",
    "def cipher(text):\n",
    "    \n",
    "    letters = list(text) # immutableな文字列からリストにすることで変更可能に\n",
    "    for i in range(len(letters)):\n",
    "        if 97 <= ord(letters[i]) <= 122: # 小文字に対応する文字コード\n",
    "            letters[i] = chr(219 - ord(letters[i]))\n",
    "        else: pass\n",
    "        \n",
    "    # for letter in letters: でletterを書き換えてもlettersが変更できなかった→なぜ?\n",
    "    \n",
    "    return ''.join(letters)\n",
    "\n",
    "text = 'This is a test program for sentence encryption.'\n",
    "enc = cipher(text)\n",
    "dec = cipher(enc)\n",
    "print(enc)\n",
    "print(dec)\n",
    "\n",
    "# もっと短く書きたい\n",
    "def cipher2(text):\n",
    "    return ''.join(chr(219 - ord(x)) if x.islower() else x for x in text)\n",
    "\n",
    "print(cipher2(text))\n",
    "print(cipher2(cipher2(text)))"
   ]
  },
  {
   "cell_type": "code",
   "execution_count": 4,
   "metadata": {},
   "outputs": [
    {
     "name": "stdout",
     "output_type": "stream",
     "text": [
      "I clo'dunt bieelve that I cuold alltacuy unnrtasedd what I was rieadng : the phoamneenl poewr of the hamun mind .\n",
      "I cluo'dnt bleeive that I could aclutlay uatdnsernd what I was reidnag : the pmanheoenl poewr of the hamun mind .\n"
     ]
    }
   ],
   "source": [
    "#09 スペースで区切られた単語列に対して，各単語の先頭と末尾の文字は残し，それ以外の文字の順序をランダムに並び替えるプログラムを作成せよ．\n",
    "# ただし，長さが４以下の単語は並び替えないこととする．\n",
    "# 適当な英語の文（例えば\"I couldn't believe that I could actually understand what I was reading : the phenomenal power of the human mind .\"）を与え，その実行結果を確認せよ．\n",
    "\n",
    "import random\n",
    "\n",
    "def typoglycemia(text):\n",
    "    \n",
    "    words = text.split()\n",
    "    res = []\n",
    "    for word in words:\n",
    "        if len(word) <= 4:\n",
    "            res.append(word)\n",
    "        else:\n",
    "            letters = []\n",
    "            \n",
    "            lst = list(word)\n",
    "            letters.append(lst[0]) # 先頭の文字をリストに追加\n",
    "            tmp = lst[1:len(lst) - 1] # 並べ替え対象の文字列をスライス\n",
    "            \n",
    "            # 並べ替え対象からrandomに選択したindexの要素をpopすることを繰り返す\n",
    "            while len(tmp) > 0:\n",
    "                randidx = random.randrange(len(tmp))\n",
    "                letters.append(tmp.pop(randidx))\n",
    "            \n",
    "            letters.append(lst[-1]) #末尾の文字をリストに追加\n",
    "            res.append(''.join(letters))\n",
    "            \n",
    "    return ' '.join(res)\n",
    "\n",
    "text = \"I couldn't believe that I could actually understand what I was reading : the phenomenal power of the human mind .\"\n",
    "print(typoglycemia(text))\n",
    "\n",
    "# 長い。\n",
    "\n",
    "def typoglycemia2(text):\n",
    "    words = text.split()\n",
    "    return ' '.join(x if len(x) <= 4 else shuffle(x) for x in words)\n",
    "\n",
    "def shuffle(word):\n",
    "    tmp = list(word[1:len(word) - 1])\n",
    "    random.shuffle(tmp) # random.shuffleは返り値なし\n",
    "    return word[0] + ''.join(tmp) + word[-1]\n",
    "\n",
    "print(typoglycemia2(text))"
   ]
  },
  {
   "cell_type": "code",
   "execution_count": null,
   "metadata": {},
   "outputs": [],
   "source": []
  }
 ],
 "metadata": {
  "kernelspec": {
   "display_name": "Python 3",
   "language": "python",
   "name": "python3"
  },
  "language_info": {
   "codemirror_mode": {
    "name": "ipython",
    "version": 3
   },
   "file_extension": ".py",
   "mimetype": "text/x-python",
   "name": "python",
   "nbconvert_exporter": "python",
   "pygments_lexer": "ipython3",
   "version": "3.6.3"
  }
 },
 "nbformat": 4,
 "nbformat_minor": 2
}
