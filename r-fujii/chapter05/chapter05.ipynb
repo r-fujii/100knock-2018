{
 "cells": [
  {
   "cell_type": "markdown",
   "metadata": {},
   "source": [
    "- クラス定義の時に**__slots__ = (tuple)**と書いておくと外部からインスタンス変数を追加することを防げる"
   ]
  },
  {
   "cell_type": "code",
   "execution_count": 8,
   "metadata": {},
   "outputs": [],
   "source": [
    "class Myclass:\n",
    "    __slots__ = ('re', 'im')\n",
    "    \n",
    "    def __init__(self, r, i):\n",
    "        self.re = r\n",
    "        self.im = i"
   ]
  },
  {
   "cell_type": "code",
   "execution_count": 9,
   "metadata": {},
   "outputs": [],
   "source": [
    "x = Myclass(3.0, -4.5)"
   ]
  },
  {
   "cell_type": "code",
   "execution_count": 10,
   "metadata": {},
   "outputs": [
    {
     "data": {
      "text/plain": [
       "3.0"
      ]
     },
     "execution_count": 10,
     "metadata": {},
     "output_type": "execute_result"
    }
   ],
   "source": [
    "x.re"
   ]
  },
  {
   "cell_type": "code",
   "execution_count": 11,
   "metadata": {},
   "outputs": [
    {
     "ename": "AttributeError",
     "evalue": "'Myclass' object has no attribute 'hoge'",
     "output_type": "error",
     "traceback": [
      "\u001b[0;31m---------------------------------------------------------------------------\u001b[0m",
      "\u001b[0;31mAttributeError\u001b[0m                            Traceback (most recent call last)",
      "\u001b[0;32m<ipython-input-11-02748dcb7cc9>\u001b[0m in \u001b[0;36m<module>\u001b[0;34m()\u001b[0m\n\u001b[0;32m----> 1\u001b[0;31m \u001b[0mx\u001b[0m\u001b[0;34m.\u001b[0m\u001b[0mhoge\u001b[0m \u001b[0;34m=\u001b[0m \u001b[0;36m1.0\u001b[0m\u001b[0;34m\u001b[0m\u001b[0m\n\u001b[0m",
      "\u001b[0;31mAttributeError\u001b[0m: 'Myclass' object has no attribute 'hoge'"
     ]
    }
   ],
   "source": [
    "x.hoge = 1.0"
   ]
  },
  {
   "cell_type": "markdown",
   "metadata": {},
   "source": [
    "とりあえず見てみる"
   ]
  },
  {
   "cell_type": "code",
   "execution_count": 91,
   "metadata": {},
   "outputs": [
    {
     "name": "stdout",
     "output_type": "stream",
     "text": [
      "一\n",
      "\n",
      "　吾輩は猫である。\n",
      "名前はまだ無い。\n",
      "\n",
      "　どこで生れたかとんと見当がつかぬ。\n",
      "何でも薄暗いじめじめした所でニャーニャー泣いていた事だけは記憶している。\n",
      "吾輩はここで始めて人間というものを見た。\n",
      "しかもあとで聞くとそれは書生という人間中で一番獰悪な種族であったそうだ。\n",
      "この書生というのは時々我々を捕えて煮て食うという話である。\n",
      "\n",
      "---\n",
      "\n",
      "どこにどうしていても差支えはない。\n",
      "ただ楽である。\n",
      "否楽そのものすらも感じ得ない。\n",
      "日月を切り落し、天地を粉韲して不可思議の太平に入る。\n",
      "吾輩は死ぬ。\n",
      "死んでこの太平を得る。\n",
      "太平は死ななければ得られぬ。\n",
      "南無阿弥陀仏南無阿弥陀仏。\n",
      "ありがたいありがたい。\n",
      "\n"
     ]
    }
   ],
   "source": [
    "!cat ./data/neko.txt 2>/dev/null | head; echo \"\\n---\\n\"; cat ./data/neko.txt 2>/dev/null | tail"
   ]
  },
  {
   "cell_type": "markdown",
   "metadata": {},
   "source": [
    "**CaboChaの係り受け解析結果をtextファイルに保存**"
   ]
  },
  {
   "cell_type": "code",
   "execution_count": 2,
   "metadata": {},
   "outputs": [],
   "source": [
    "import CaboCha\n",
    "\n",
    "c = CaboCha.Parser()\n",
    "with open('./data/neko.txt') as data, open('./work/neko.txt.cabocha', 'w') as out:\n",
    "    for line in data:\n",
    "        tree = c.parse(line)\n",
    "        out.write(tree.toString(CaboCha.FORMAT_LATTICE))"
   ]
  },
  {
   "cell_type": "code",
   "execution_count": 90,
   "metadata": {},
   "outputs": [
    {
     "name": "stdout",
     "output_type": "stream",
     "text": [
      "* 0 -1D 0/0 0.000000\n",
      "一\t名詞,数,*,*,*,*,一,イチ,イチ\n",
      "EOS\n",
      "EOS\n",
      "* 0 2D 0/0 -0.764522\n",
      "　\t記号,空白,*,*,*,*,　,　,　\n",
      "* 1 2D 0/1 -0.764522\n",
      "吾輩\t名詞,代名詞,一般,*,*,*,吾輩,ワガハイ,ワガハイ\n",
      "は\t助詞,係助詞,*,*,*,*,は,ハ,ワ\n",
      "* 2 -1D 0/2 0.000000\n",
      "\n",
      "---\n",
      "\n",
      "南無阿弥陀仏\t名詞,一般,*,*,*,*,南無阿弥陀仏,ナムアミダブツ,ナムアミダブツ\n",
      "。\t記号,句点,*,*,*,*,。,。,。\n",
      "EOS\n",
      "* 0 1D 0/0 0.000000\n",
      "ありがたい\t形容詞,自立,*,*,形容詞・アウオ段,基本形,ありがたい,アリガタイ,アリガタイ\n",
      "* 1 -1D 0/0 0.000000\n",
      "ありがたい\t形容詞,自立,*,*,形容詞・アウオ段,基本形,ありがたい,アリガタイ,アリガタイ\n",
      "。\t記号,句点,*,*,*,*,。,。,。\n",
      "EOS\n",
      "EOS\n"
     ]
    }
   ],
   "source": [
    "!cat ./work/neko.txt.cabocha 2>/dev/null | head; echo \"\\n---\\n\"; cat ./work/neko.txt.cabocha 2>/dev/null | tail"
   ]
  },
  {
   "cell_type": "markdown",
   "metadata": {},
   "source": [
    "# 40. 係り受け解析結果の読み込み（形態素）"
   ]
  },
  {
   "cell_type": "markdown",
   "metadata": {},
   "source": [
    "形態素を表すクラスMorphを実装せよ．\n",
    "このクラスは表層形（surface），基本形（base），品詞（pos），品詞細分類1（pos1）をメンバ変数に持つこととする．\n",
    "さらに，CaboChaの解析結果（neko.txt.cabocha）を読み込み，各文をMorphオブジェクトのリストとして表現し，3文目の形態素列を表示せよ．"
   ]
  },
  {
   "cell_type": "markdown",
   "metadata": {},
   "source": [
    "- 関数の引数ではイコールの前後に空白を入れないことが多い"
   ]
  },
  {
   "cell_type": "code",
   "execution_count": 1,
   "metadata": {},
   "outputs": [
    {
     "name": "stdout",
     "output_type": "stream",
     "text": [
      "名前, 名前, 名詞, 一般\n",
      "は, は, 助詞, 係助詞\n",
      "まだ, まだ, 副詞, 助詞類接続\n",
      "無い, 無い, 形容詞, 自立\n",
      "。, 。, 記号, 句点\n"
     ]
    }
   ],
   "source": [
    "import itertools\n",
    "\n",
    "def make_morphlist(data):\n",
    "    \n",
    "    with open(data, 'r') as d:\n",
    "        gr = itertools.groupby(d, key=lambda line: not line.startswith('EOS'))\n",
    "        for is_not_EOS, content in gr:\n",
    "            if is_not_EOS:\n",
    "                \n",
    "                morphs = []\n",
    "                for line in content:\n",
    "                    if not line.startswith('*'):\n",
    "                        surface, pos, pos1, _, _, _, _, base, *_ = line.replace('\\t', ',', 1).split(',')\n",
    "                        morphs.append(Morph(surface=surface, base=base, \\\n",
    "                                           pos=pos, pos1=pos1))\n",
    "                yield morphs\n",
    "\n",
    "class Morph:\n",
    "    \n",
    "    __slots__ = ('surface', 'base', 'pos', 'pos1')\n",
    "    \n",
    "    def __init__(self, surface, base, pos, pos1):\n",
    "        self.surface = surface\n",
    "        self.base = base\n",
    "        self.pos = pos\n",
    "        self.pos1 = pos1\n",
    "    \n",
    "    # printした時の動作を指定\n",
    "    def __str__(self):\n",
    "        return '{surface}, {base}, {pos}, {pos1}'.format(surface=self.surface, base=self.base, \\\n",
    "                                                        pos=self.pos, pos1=self.pos1)\n",
    "                                                 \n",
    "sentences = make_morphlist('./work/neko.txt.cabocha')\n",
    "for i, sentence in enumerate(sentences, start=1):\n",
    "    if i == 3:\n",
    "        for word in sentence:\n",
    "            print(word)\n",
    "        break"
   ]
  },
  {
   "cell_type": "markdown",
   "metadata": {},
   "source": [
    "- @classmethod\n",
    "と書くとクラス内のメソッドをインスタンス化しないで呼べる(クラスメソッド)\n",
    "- __str__と__repr__の違い、ユーザーに読みやすい文字列を返すか開発者がデバッグしやすい文字列を返すか"
   ]
  },
  {
   "cell_type": "markdown",
   "metadata": {},
   "source": [
    "- string.printable -> print可能な文字のset"
   ]
  },
  {
   "cell_type": "markdown",
   "metadata": {},
   "source": [
    "### ↓昔書いたゴミみたいなコード"
   ]
  },
  {
   "cell_type": "code",
   "execution_count": null,
   "metadata": {},
   "outputs": [],
   "source": [
    "#40 形態素を表すクラスMorphを実装せよ．\n",
    "# このクラスは表層形（surface），基本形（base），品詞（pos），品詞細分類1（pos1）をメンバ変数に持つこととする．\n",
    "# さらに，CaboChaの解析結果（neko.txt.cabocha）を読み込み，各文をMorphオブジェクトのリストとして表現し，3文目の形態素列を表示せよ．\n",
    "\n",
    "import re\n",
    "\n",
    "# 文単位でMorphオブジェクトのリストを返すジェネレータ\n",
    "def get_morphlist(data):\n",
    "\n",
    "    with open(data, 'r') as d:\n",
    "        ptn = re.compile(r'^(?P<surface>[^\\*]*)\\s(?P<pos>.*?),(?P<pos1>.*?),(?:.*?),(?:.*?),(?:.*?),(?:.*?),(?P<base>.*?)(?:,.*)?$', \\\n",
    "                        flags = re.MULTILINE)\n",
    "        \n",
    "        lines = []\n",
    "        morphs = []\n",
    "\n",
    "        # 文の抜き出しは1行ずつにして省メモリ\n",
    "        for line in d:\n",
    "            if not line.startswith('EOS'):\n",
    "                lines.append(line)\n",
    "            \n",
    "            elif len(lines) > 0:\n",
    "                sentence = \"\".join(lines)\n",
    "                lines.clear()\n",
    "                \n",
    "                for match in ptn.finditer(sentence):\n",
    "                    p1 = match.group('pos1')\n",
    "                    word = Morph(surface = match.group('surface'), base = match.group('base'), \\\n",
    "                    pos = match.group('pos'), pos1 = p1)\n",
    "\n",
    "                    morphs.append(word)\n",
    "\n",
    "                yield morphs\n",
    "                morphs.clear()\n",
    "                    \n",
    "class Morph:\n",
    "    \n",
    "    def __init__(self, surface, base, pos, pos1):\n",
    "        self.surface = surface\n",
    "        self.base = base\n",
    "        self.pos = pos\n",
    "        self.pos1 = pos1\n",
    "    \n",
    "    # printした時の動作を指定\n",
    "    def __str__(self):\n",
    "        return '{surface}, {base}, {pos}, {pos1}'.format(surface = self.surface, base = self.base, \\\n",
    "                                                        pos = self.pos, pos1 = self.pos1)\n",
    "    \n",
    "sentences = get_morphlist('./work/neko.txt.cabocha')\n",
    "for i, sentence in enumerate(sentences, start = 1):\n",
    "    if i == 3:\n",
    "        for word in sentence:\n",
    "            print(word)\n",
    "        break"
   ]
  },
  {
   "cell_type": "markdown",
   "metadata": {},
   "source": [
    "# 41. 係り受け解析結果の読み込み（文節・係り受け）"
   ]
  },
  {
   "cell_type": "markdown",
   "metadata": {},
   "source": [
    "non-projectiveを考えると係り元対応の辞書を作るときにアスタリスクの行全部に事前にiterationかけなきゃいけなそうだけど面倒だから考えてない\n",
    "\n",
    "= 今考えている文節より前に主辞があることは考えてない"
   ]
  },
  {
   "cell_type": "markdown",
   "metadata": {},
   "source": [
    "40に加えて，文節を表すクラスChunkを実装せよ．\n",
    "このクラスは形態素（Morphオブジェクト）のリスト（morphs），係り先文節インデックス番号（dst），係り元文節インデックス番号のリスト（srcs）をメンバ変数に持つこととする．\n",
    "さらに，入力テキストのCaboChaの解析結果を読み込み，１文をChunkオブジェクトのリストとして表現し，8文目の文節の文字列と係り先を表示せよ．\n",
    "第5章の残りの問題では，ここで作ったプログラムを活用せよ．"
   ]
  },
  {
   "cell_type": "code",
   "execution_count": 2,
   "metadata": {},
   "outputs": [
    {
     "name": "stdout",
     "output_type": "stream",
     "text": [
      "吾輩は, 5, []\n",
      "ここで, 2, []\n",
      "始めて, 3, [1]\n",
      "人間という, 4, [2]\n",
      "ものを, 5, [3]\n",
      "見た, -1, [0, 4]\n"
     ]
    }
   ],
   "source": [
    "import itertools\n",
    "from collections import defaultdict\n",
    "from copy import deepcopy as dc\n",
    "\n",
    "class Chunk:\n",
    "    \n",
    "    __slots__ = ('morphs', 'dst', 'srcs')\n",
    "    \n",
    "    def __init__(self, morphs, dst, srcs):\n",
    "        self.morphs = morphs\n",
    "        self.dst = dst\n",
    "        self.srcs = srcs\n",
    "        \n",
    "    def __str__(self):\n",
    "        return '{string}, {dst}, {srcs}'.format(string=self.concat_surface(), dst=self.dst, srcs=self.srcs)\n",
    "    \n",
    "    def concat_surface(self):\n",
    "        '''\n",
    "        morphsに含まれるmorphの表層形を連結して返す -> 文節の文字列を返すメソッド\n",
    "        記号は取り除かれる\n",
    "        '''\n",
    "        return ''.join(morph.surface for morph in self.morphs if not morph.pos == '記号')         \n",
    "            \n",
    "    def contain_pos(self, pos):\n",
    "        '''\n",
    "        posで指定する品詞がその文節に含まれているかをcheckするメソッド\n",
    "        '''\n",
    "        if pos in (morph.pos for morph in self.morphs):\n",
    "            return True\n",
    "        else: return False  \n",
    "        \n",
    "    def get_pred(self):\n",
    "        '''\n",
    "        述語のリストを返すメソッド\n",
    "        '''\n",
    "        return [morph.base for morph in self.morphs if morph.pos == '動詞']    \n",
    "    \n",
    "    def replace_wchar(self, pos, char):\n",
    "        '''\n",
    "        posで指定する品詞が出てきたらcharの文字で置き換えた文字列を返すメソッド\n",
    "        '''\n",
    "        morphs_copied = dc(self.morphs)\n",
    "        \n",
    "        replaced = False # 文節中の名詞がすでに置き換えられたか\n",
    "        pos_conj = False # 名詞の連接を1つの文字で置き換えるために直前の文字が置き換えられたかを保存\n",
    "        \n",
    "        for morph in morphs_copied:\n",
    "            if morph.pos == pos:\n",
    "                if not replaced and not pos_conj:\n",
    "                    morph.surface = char\n",
    "                    replaced = True\n",
    "                    pos_conj = True\n",
    "                elif pos_conj: morph.surface = ''\n",
    "             \n",
    "            else:\n",
    "                pos_conj = False\n",
    "                    \n",
    "        return ''.join(morph.surface for morph in morphs_copied if not morph.pos == '記号')\n",
    "        \n",
    "def make_chunklist(data):\n",
    "    \n",
    "    with open(data, 'r') as d:\n",
    "        gr_s = itertools.groupby(d, key=lambda line: not line.startswith('EOS'))\n",
    "        for is_not_EOS, sentence in gr_s:\n",
    "            if is_not_EOS:\n",
    "                # 1文ごとにgroupingされているのに対してさらに行頭の*でgrouping\n",
    "                chunks = []\n",
    "                gr_c = itertools.groupby(sentence, key=lambda line: line.startswith('*'))\n",
    "                \n",
    "                srcs = defaultdict(list) # 係り元の対応を保持するdict, keyエラーへは空リストで対処\n",
    "                for is_aster, chunk in gr_c:\n",
    "                    if is_aster:\n",
    "                        # 文節情報を保持している行のgroup\n",
    "                        for line in chunk:\n",
    "                            _, src, dst, *_ = line.replace('D', '', 1).split()\n",
    "                            \n",
    "                            # ここでint型にキャストしておく\n",
    "                            src = int(src)\n",
    "                            dst = int(dst)\n",
    "                            \n",
    "                            srcs[dst].append(src)\n",
    "                            \n",
    "                    else:\n",
    "                        # 文節自体を保持している行のgroup\n",
    "                        morphs = []\n",
    "                        for line in chunk:\n",
    "                            surface, pos, pos1, _, _, _, _, base, *_ = line.replace('\\t', ',', 1).split(',')\n",
    "                            morphs.append(Morph(surface=surface, base=base, \\\n",
    "                                           pos=pos, pos1=pos1))\n",
    "                        \n",
    "                        # 必ずgroupbyがTrueとFalseを交互に返す事を使えばelseに入ったときにchunkに加えればよい\n",
    "                        chunks.append(Chunk(morphs=morphs, dst=dst, srcs=srcs[src]))\n",
    "\n",
    "                yield chunks\n",
    "                \n",
    "sentences = make_chunklist('./work/neko.txt.cabocha')\n",
    "for i, sentence in enumerate(sentences, start=1):\n",
    "    if i == 6:\n",
    "        for chunk in sentence:\n",
    "            print(chunk)\n",
    "            \n",
    "        break"
   ]
  },
  {
   "cell_type": "markdown",
   "metadata": {},
   "source": [
    "- 初期化の時にはsrcsは空リストとして全部分かった後にsetしたほうがいいかも?\n",
    "- せっかくClass使うんだからできるだけメンバ変数をいじる感じで複雑なデータ構造は回避した方が良い -> morphs.appendとかChunkクラスのメソッドにしちゃおう\n",
    "- docstringを書く"
   ]
  },
  {
   "cell_type": "code",
   "execution_count": 6,
   "metadata": {},
   "outputs": [
    {
     "data": {
      "text/plain": [
       "\u001b[0;31mSignature:\u001b[0m \u001b[0mChunk\u001b[0m\u001b[0;34m.\u001b[0m\u001b[0mconcat_surface\u001b[0m\u001b[0;34m(\u001b[0m\u001b[0mself\u001b[0m\u001b[0;34m)\u001b[0m\u001b[0;34m\u001b[0m\u001b[0m\n",
       "\u001b[0;31mDocstring:\u001b[0m\n",
       "morphsに含まれるmorphの表層形を連結して返す -> 文節の文字列を返すメソッド\n",
       "記号は取り除かれる\n",
       "\u001b[0;31mFile:\u001b[0m      ~/Documents/100knock-2018/r-fujii/chapter05/<ipython-input-3-1be062f0da62>\n",
       "\u001b[0;31mType:\u001b[0m      function\n"
      ]
     },
     "metadata": {},
     "output_type": "display_data"
    }
   ],
   "source": [
    "Chunk.concat_surface?"
   ]
  },
  {
   "cell_type": "markdown",
   "metadata": {},
   "source": [
    "### ↓前に書いたg(ry"
   ]
  },
  {
   "cell_type": "code",
   "execution_count": null,
   "metadata": {},
   "outputs": [],
   "source": [
    "#41 40に加えて，文節を表すクラスChunkを実装せよ．\n",
    "# このクラスは形態素（Morphオブジェクト）のリスト（morphs），係り先文節インデックス番号（dst），係り元文節インデックス番号のリスト（srcs）をメンバ変数に持つこととする．\n",
    "# さらに，入力テキストのCaboChaの解析結果を読み込み，１文をChunkオブジェクトのリストとして表現し，8文目の文節の文字列と係り先を表示せよ．\n",
    "# 第5章の残りの問題では，ここで作ったプログラムを活用せよ．\n",
    "\n",
    "import re\n",
    "\n",
    "class Chunk:\n",
    "    def __init__(self, morphs, dst, srcs):\n",
    "        self.morphs = morphs\n",
    "        self.dst = dst\n",
    "        self.srcs = srcs\n",
    "        \n",
    "        self.string = []\n",
    "        for morph in self.morphs:\n",
    "            self.string.append(morph.surface)\n",
    "        \n",
    "    def __str__(self):\n",
    "        return '{string}, {dst}, {srcs}'.format(string = \"\".join(self.string), dst = self.dst, srcs = self.srcs)\n",
    "        \n",
    "def get_chunklist(data):\n",
    "    with open(data) as d:\n",
    "    \n",
    "        # 文節\n",
    "        ptn_c = re.compile(r'^\\*\\s(?P<src>\\d+)\\s(?P<dst>.*?)D.*?(?=^\\*|^$)', flags = re.MULTILINE | re.DOTALL)\n",
    "        # 形態素\n",
    "        ptn_m = re.compile(r'^(?P<surface>[^\\*]*?)\\s(?P<pos>.*?),(?P<pos1>.*?),(?:.*?),(?:.*?),(?:.*?),(?:.*?),(?P<base>.*?)(?:,.*)?$', \\\n",
    "                           flags = re.MULTILINE)\n",
    "\n",
    "        lines = []\n",
    "        for line in d:\n",
    "            if not line.startswith('EOS'):\n",
    "                lines.append(line)\n",
    "            \n",
    "            elif len(lines) > 0:\n",
    "                sentence = \"\".join(lines)\n",
    "                lines.clear()\n",
    "\n",
    "                chunks = []\n",
    "                srcs = {} # 係り先と係り元の対応のdict\n",
    "            \n",
    "                # 文節単位で抜き出し\n",
    "                for match in ptn_c.finditer(sentence):\n",
    "            \n",
    "                    chunk = match.group()\n",
    "                    morphs = []\n",
    "            \n",
    "                    # 文節単位でMorph objectのリストを得る\n",
    "                    for morph in ptn_m.finditer(chunk):\n",
    "                        morphs.append(Morph(surface = morph.group('surface'), base = morph.group('base'), \\\n",
    "                        pos = morph.group('pos'), pos1 = morph.group('pos1')))\n",
    "            \n",
    "                    dst = match.group('dst')\n",
    "                    src = match.group('src')\n",
    "                \n",
    "                    if not src in srcs.keys():\n",
    "                        # 文内の各文節に対してsrcsを初期化(KeyErrorへの対処)\n",
    "                        srcs[src] = []\n",
    "                    \n",
    "                    if not dst in srcs.keys():\n",
    "                        srcs[dst] = []\n",
    "                        srcs[dst].append(src)\n",
    "                    else:\n",
    "                        srcs[dst].append(src)\n",
    "                \n",
    "                    chunks.append(Chunk(morphs = morphs, dst = dst, srcs = srcs[src]))\n",
    "                \n",
    "                yield(chunks) # これは1文中のChunkオブジェクトのリストを生成する\n",
    "                \n",
    "            else: pass\n",
    "                \n",
    "sentences = get_chunklist('./work/neko.txt.cabocha')\n",
    "for i, sentence in enumerate(sentences, start = 1):\n",
    "    if i == 6:\n",
    "        for chunk in sentence:\n",
    "            print(chunk)\n",
    "            \n",
    "        break"
   ]
  },
  {
   "cell_type": "markdown",
   "metadata": {},
   "source": [
    "# 42. 係り元と係り先の文節の表示"
   ]
  },
  {
   "cell_type": "markdown",
   "metadata": {},
   "source": [
    "係り元の文節と係り先の文節のテキストをタブ区切り形式ですべて抽出せよ．ただし，句読点などの記号は出力しないようにせよ．"
   ]
  },
  {
   "cell_type": "code",
   "execution_count": 8,
   "metadata": {},
   "outputs": [
    {
     "name": "stdout",
     "output_type": "stream",
     "text": [
      "ここで\t始めて\n",
      "始めて\t人間という\n",
      "人間という\tものを\n",
      "吾輩は\t見た\n",
      "ものを\t見た\n"
     ]
    }
   ],
   "source": [
    "sentences = make_chunklist('./work/neko.txt.cabocha')\n",
    "\n",
    "for i, sentence in enumerate(sentences, start=1):\n",
    "    if i == 6:\n",
    "        for chunk in sentence:\n",
    "            for src in chunk.srcs:\n",
    "                print(sentence[src].concat_surface(), chunk.concat_surface(), sep='\\t')\n",
    "        break"
   ]
  },
  {
   "cell_type": "markdown",
   "metadata": {},
   "source": [
    "# 43. 名詞を含む文節が動詞を含む文節に係るものを抽出"
   ]
  },
  {
   "cell_type": "markdown",
   "metadata": {},
   "source": [
    "名詞を含む文節が，動詞を含む文節に係るとき，これらをタブ区切り形式で抽出せよ．ただし，句読点などの記号は出力しないようにせよ．"
   ]
  },
  {
   "cell_type": "code",
   "execution_count": 9,
   "metadata": {},
   "outputs": [
    {
     "name": "stdout",
     "output_type": "stream",
     "text": [
      "ここで\t始めて\n",
      "吾輩は\t見た\n",
      "ものを\t見た\n"
     ]
    }
   ],
   "source": [
    "sentences = make_chunklist('./work/neko.txt.cabocha')\n",
    "for i, sentence in enumerate(sentences, start=1):\n",
    "    if i == 6:\n",
    "        for chunk in sentence:\n",
    "            for src in chunk.srcs:\n",
    "                if sentence[src].contain_pos('名詞') and chunk.contain_pos('動詞'):\n",
    "                    print(sentence[src].concat_surface(), chunk.concat_surface(), sep='\\t')\n",
    "                else: pass\n",
    "        break"
   ]
  },
  {
   "cell_type": "markdown",
   "metadata": {},
   "source": [
    "# 44. 係り受け木の可視化"
   ]
  },
  {
   "cell_type": "markdown",
   "metadata": {},
   "source": [
    "与えられた文の係り受け木を有向グラフとして可視化せよ．\n",
    "可視化には，係り受け木をDOT言語に変換し，Graphvizを用いるとよい．\n",
    "また，Pythonから有向グラフを直接的に可視化するには，pydotを使うとよい．"
   ]
  },
  {
   "cell_type": "markdown",
   "metadata": {},
   "source": [
    "- 文字列のconcatは時間的には不利\n",
    "- listにappend or 内包表記して最後にjoinする方が良い -> 最適化入って今はどっこいらしい"
   ]
  },
  {
   "cell_type": "markdown",
   "metadata": {},
   "source": [
    "- python上からコマンド実行したい -> subprocess"
   ]
  },
  {
   "cell_type": "code",
   "execution_count": 10,
   "metadata": {},
   "outputs": [
    {
     "data": {
      "image/png": "[encoded data removed]",
      "text/plain": [
       "<IPython.core.display.Image object>"
      ]
     },
     "execution_count": 10,
     "metadata": {},
     "output_type": "execute_result"
    }
   ],
   "source": [
    "import pydot\n",
    "from IPython.display import Image\n",
    "\n",
    "# 係り受け木のDOT言語への変換\n",
    "\n",
    "dotex = \"\"\n",
    "\n",
    "head = \"\"\"\n",
    "digraph dep_tree{\n",
    " // edge define\n",
    "\"\"\"\n",
    "foot = \"\\n}\"\n",
    "dotex += head\n",
    "\n",
    "sentences = make_chunklist('./work/neko.txt.cabocha')\n",
    "for i, sentence in enumerate(sentences, start=1):\n",
    "    if i == 6:\n",
    "        for j, chunk in enumerate(sentence):\n",
    "            for src in chunk.srcs:\n",
    "                child = sentence[src].concat_surface()\n",
    "                parent = chunk.concat_surface()\n",
    "                # 記号だけからなる文節について空文字列になることへの対処\n",
    "                if len(child) > 0 and len(parent) > 0:\n",
    "                    dotex += '''\\n {n1} [label = \"{parent}\"];\n",
    "                    \\n {n2} [label = \"{child}\"];\n",
    "                    \\n {n2} -> {n1};'''.format(n1=j, n2=src, parent=parent, child=child)\n",
    "                \n",
    "dotex += foot\n",
    "                \n",
    "trees = pydot.graph_from_dot_data(dotex)\n",
    "\n",
    "for tree in trees:\n",
    "    tree.write_png('./work/dep_tree.png')\n",
    "    \n",
    "Image('./work/dep_tree.png')"
   ]
  },
  {
   "cell_type": "markdown",
   "metadata": {},
   "source": [
    "# 45. 動詞の格パターンの抽出"
   ]
  },
  {
   "cell_type": "markdown",
   "metadata": {},
   "source": [
    "今回用いている文章をコーパスと見なし，日本語の述語が取りうる格を調査したい． \n",
    "動詞を述語，動詞に係っている文節の助詞を格と考え，述語と格をタブ区切り形式で出力せよ．"
   ]
  },
  {
   "cell_type": "markdown",
   "metadata": {},
   "source": [
    "- 係り元の1文節中に2つ以上助詞がある場合をカウントしてしまっているからちょっと多い? -> 格助詞以外が消えたことでまとまったものがありそう"
   ]
  },
  {
   "cell_type": "code",
   "execution_count": 20,
   "metadata": {},
   "outputs": [],
   "source": [
    "sentences = make_chunklist('./work/neko.txt.cabocha')\n",
    "surf_case = ('が', 'を', 'に', 'から', 'へ', 'と', 'より', 'まで', 'で') # 日本語の表層格を定義\n",
    "\n",
    "with open('./work/case_ptn.txt', 'w') as out:\n",
    "    for sentence in sentences:\n",
    "        for chunk in sentence:\n",
    "            # 各文節に対する述語のリスト\n",
    "            pred = chunk.get_pred()\n",
    "            if len(pred) > 0:\n",
    "                # 各述語にかかる助詞のリスト\n",
    "                case = sorted(morph.base for src in chunk.srcs for morph in sentence[src].morphs \\\n",
    "                        if morph.pos == '助詞' and morph.base in set(surf_case))\n",
    "                if len(case) > 0:\n",
    "                    print(pred[0] + '\\t' + ' '.join(case), file=out) # 文節中の最左の動詞を述語とする"
   ]
  },
  {
   "cell_type": "code",
   "execution_count": 21,
   "metadata": {},
   "outputs": [
    {
     "name": "stdout",
     "output_type": "stream",
     "text": [
      "生れる\tで\n",
      "つく\tが\n",
      "泣く\tで\n",
      "始める\tで\n",
      "見る\tを\n",
      "聞く\tで\n",
      "捕える\tを\n",
      "思う\tから\n",
      "載せる\tに\n",
      "持ち上げる\tと\n"
     ]
    }
   ],
   "source": [
    "!cat ./work/case_ptn.txt 2>/dev/null | head"
   ]
  },
  {
   "cell_type": "markdown",
   "metadata": {},
   "source": [
    "# 46. 動詞の格フレーム情報の抽出"
   ]
  },
  {
   "cell_type": "markdown",
   "metadata": {},
   "source": [
    "45のプログラムを改変し，述語と格パターンに続けて項（述語に係っている文節そのもの）をタブ区切り形式で出力せよ．"
   ]
  },
  {
   "cell_type": "markdown",
   "metadata": {},
   "source": [
    "- ** 助詞並べ替え実現しました ** (統合失調症)"
   ]
  },
  {
   "cell_type": "markdown",
   "metadata": {},
   "source": [
    "- operator.itemgetter(idx) = lambda x: x[idx]\n",
    "- f = attrgetter('name') -> f(b) -> b.nameを呼ぶ"
   ]
  },
  {
   "cell_type": "code",
   "execution_count": 5,
   "metadata": {},
   "outputs": [],
   "source": [
    "from collections import OrderedDict\n",
    "\n",
    "sentences = make_chunklist('./work/neko.txt.cabocha')\n",
    "surf_case = ('が', 'を', 'に', 'から', 'へ', 'と', 'より', 'まで', 'で') # 日本語の表層格を定義\n",
    "\n",
    "with open('./work/case_frame.txt', 'w') as out:\n",
    "    for sentence in sentences:\n",
    "        for chunk in sentence:\n",
    "            # 各文節に対する述語のリスト\n",
    "            pred = chunk.get_pred()\n",
    "            if len(pred) > 0:\n",
    "                case = {}\n",
    "                for src in chunk.srcs:\n",
    "                    for morph in sentence[src].morphs:\n",
    "                        if morph.pos == '助詞' and morph.base in surf_case:\n",
    "                            case[morph.base] = sentence[src].concat_surface()\n",
    "                            \n",
    "                od_case = OrderedDict(sorted(case.items(), key=lambda x: x[0]))\n",
    "                if len(od_case) > 0:\n",
    "                    print(pred[0] + '\\t' + ' '.join(od_case.keys()) + '\\t' + ' '.join(od_case.values()), file=out)"
   ]
  },
  {
   "cell_type": "code",
   "execution_count": 6,
   "metadata": {},
   "outputs": [
    {
     "name": "stdout",
     "output_type": "stream",
     "text": [
      "生れる\tで\tどこで\n",
      "つく\tが\t見当が\n",
      "泣く\tで\t所で\n",
      "始める\tで\tここで\n",
      "見る\tを\tものを\n",
      "聞く\tで\tあとで\n",
      "捕える\tを\t我々を\n",
      "思う\tから\tなかったから\n",
      "載せる\tに\t掌に\n",
      "持ち上げる\tと\tスーと\n"
     ]
    }
   ],
   "source": [
    "!cat ./work/case_frame.txt 2>/dev/null | head"
   ]
  },
  {
   "cell_type": "markdown",
   "metadata": {},
   "source": [
    "# 47. 機能動詞構文のマイニング"
   ]
  },
  {
   "cell_type": "markdown",
   "metadata": {},
   "source": [
    "動詞のヲ格にサ変接続名詞が入っている場合のみに着目したい．46のプログラムを以下の仕様を満たすように改変せよ．\n",
    "\n",
    "「サ変接続名詞+を（助詞）」で構成される文節が動詞に係る場合のみを対象とする\n",
    "述語は「サ変接続名詞+を+動詞の基本形」とし，文節中に複数の動詞があるときは，最左の動詞を用いる\n",
    "述語に係る助詞（文節）が複数あるときは，すべての助詞をスペース区切りで辞書順に並べる\n",
    "述語に係る文節が複数ある場合は，すべての項をスペース区切りで並べる（助詞の並び順と揃えよ）"
   ]
  },
  {
   "cell_type": "markdown",
   "metadata": {},
   "source": [
    "- 同じ助詞が係り元にあるときdictの同一keyに値がsetされてしまう -> tupleのlistで持つ方がいいかもしれない"
   ]
  },
  {
   "cell_type": "code",
   "execution_count": 15,
   "metadata": {},
   "outputs": [],
   "source": [
    "from collections import OrderedDict # dict型を維持したままsortしたい -> というか通常の辞書型は順番を保持しない\n",
    "from cytoolz import sliding_window\n",
    "\n",
    "sentences = make_chunklist('./work/neko.txt.cabocha')\n",
    "\n",
    "with open('./work/funct_verb.txt', 'w') as out:\n",
    "    for sentence in sentences:\n",
    "        for chunk in sentence:\n",
    "            # 各文節に対する述語(動詞)のリスト\n",
    "            pred = chunk.get_pred()\n",
    "            if len(pred) > 0:\n",
    "                # 動詞が含まれる文節に対して\n",
    "                case_dict = {}\n",
    "                p_sa = []\n",
    "                \n",
    "                for src in chunk.srcs:\n",
    "                    # 係り元の文節に対して形態素の2つ組を作る\n",
    "                    for m1, m2 in sliding_window(2, (morph for morph in sentence[src].morphs)):\n",
    "                        if m1.pos1 == 'サ変接続' and m2.pos == '助詞' and m2.surface == 'を':\n",
    "                            p_sa.append(m1.surface + m2.surface + pred[0]) # 最左の動詞\n",
    "                        elif m2.pos == '助詞':\n",
    "                            # 暗黙に助詞から始まるchunkはない&助詞は単体で文節にならないと仮定している\n",
    "                            case_dict[m2.surface] = sentence[src].concat_surface()\n",
    "                \n",
    "                # 辞書順にソート\n",
    "                od = OrderedDict(sorted(case_dict.items(), key=lambda x: x[0]))\n",
    "                \n",
    "                if len(p_sa) > 0 and len(case_dict) > 0:\n",
    "                    # サ変接続名詞が入っている動詞\n",
    "                    for p in p_sa:\n",
    "                        print(p + '\\t' + ' '.join(od.keys()) + '\\t' + ' '.join(od.values()), file=out)"
   ]
  },
  {
   "cell_type": "markdown",
   "metadata": {},
   "source": [
    "- dictにsortedをかけるとkeyのみがsortされる\n",
    "- dict.items()にsortすればいい -> タプルになるから出力の時にunpackingとかiterationが面倒"
   ]
  },
  {
   "cell_type": "code",
   "execution_count": 16,
   "metadata": {},
   "outputs": [
    {
     "name": "stdout",
     "output_type": "stream",
     "text": [
      "決心をする\tと\tこうと\n",
      "返報をする\tんで\t偸んで\n",
      "昼寝をする\tが\t彼が\n",
      "迫害を加える\tて\t追い廻して\n",
      "生活をする\tが を\t我等猫族が 愛を\n",
      "投書をする\tて へ\tやって ほととぎすへ\n",
      "話をする\tに\t時に\n",
      "昼寝をする\tて\t出て\n",
      "欠伸をする\tから て\tなったから 押し出して\n",
      "報道をする\tに\t耳に\n"
     ]
    }
   ],
   "source": [
    "!cat ./work/funct_verb.txt 2>/dev/null | head"
   ]
  },
  {
   "cell_type": "markdown",
   "metadata": {},
   "source": [
    "- cytoolzのsliding_windowの方が速い?? -> 若干"
   ]
  },
  {
   "cell_type": "code",
   "execution_count": 13,
   "metadata": {},
   "outputs": [
    {
     "name": "stdout",
     "output_type": "stream",
     "text": [
      "9.608268737792969e-05\n",
      "5.698204040527344e-05\n"
     ]
    }
   ],
   "source": [
    "import time\n",
    "import toolz.itertoolz\n",
    "import cytoolz\n",
    "\n",
    "def test_itertoolz():\n",
    "    x = toolz.itertoolz.sliding_window(2, range(int(1.e8)))\n",
    "    \n",
    "def test_cytoolz():\n",
    "    x = cytoolz.sliding_window(2, range(int(1.e8)))\n",
    "    \n",
    "start = time.time()\n",
    "test_itertoolz()\n",
    "end = time.time()\n",
    "print(end - start)\n",
    "\n",
    "start = time.time()\n",
    "test_cytoolz()\n",
    "end = time.time()\n",
    "print(end - start)"
   ]
  },
  {
   "cell_type": "markdown",
   "metadata": {},
   "source": [
    "- コーパス中に頻出する述語"
   ]
  },
  {
   "cell_type": "code",
   "execution_count": 17,
   "metadata": {},
   "outputs": [
    {
     "name": "stdout",
     "output_type": "stream",
     "text": [
      "     26 返事をする\n",
      "     19 挨拶をする\n",
      "     12 話をする\n",
      "      8 質問をする\n",
      "      7 喧嘩をする\n",
      "      6 真似をする\n",
      "      5 質問をかける\n",
      "      5 相談をする\n",
      "      5 注意をする\n",
      "      5 昼寝をする\n"
     ]
    }
   ],
   "source": [
    "!cut -f1 ./work/funct_verb.txt | sort | uniq -c | sort -r 2>/dev/null | head"
   ]
  },
  {
   "cell_type": "markdown",
   "metadata": {},
   "source": [
    "- コーパス中で頻出する述語と助詞パターン"
   ]
  },
  {
   "cell_type": "code",
   "execution_count": 18,
   "metadata": {},
   "outputs": [
    {
     "name": "stdout",
     "output_type": "stream",
     "text": [
      "      4 挨拶をする\tから\n",
      "      4 返事をする\tと は\n",
      "      4 返事をする\tと\n",
      "      3 挨拶をする\tと\n",
      "      3 喧嘩をする\tと\n",
      "      2 同情を表する\tて と は\n",
      "      2 質問をかける\tと は\n",
      "      2 活躍を試みる\tて\n",
      "      2 休養を要する\tは\n",
      "      2 返事をする\tから と\n"
     ]
    }
   ],
   "source": [
    "!cut -f 1,2 ./work/funct_verb.txt | sort | uniq -c | sort -r 2>/dev/null | head"
   ]
  },
  {
   "cell_type": "markdown",
   "metadata": {},
   "source": [
    "# 48. 名詞から根へのパスの抽出"
   ]
  },
  {
   "cell_type": "markdown",
   "metadata": {},
   "source": [
    "- ~~外部ファイルに書き込みたかったからget_path内のprintをreturnにして、変数=get_path(sentence,chunk) -> print(変数)って書くとreturnの直前まではちゃんとtype=strなのになぜかNoneが帰ってくる**意味不明。**~~ -> 解決しました thanks to 清野さん"
   ]
  },
  {
   "cell_type": "markdown",
   "metadata": {},
   "source": [
    "文中のすべての名詞を含む文節に対し，その文節から構文木の根に至るパスを抽出せよ． ただし，構文木上のパスは以下の仕様を満たすものとする．\n",
    "各文節は（表層形の）形態素列で表現する\n",
    "パスの開始文節から終了文節に至るまで，各文節の表現を\"->\"で連結する"
   ]
  },
  {
   "cell_type": "markdown",
   "metadata": {},
   "source": [
    "- @lru_cache(maxsize=int)でメモ化ができる (再帰の時に前と同じ結果を利用するためにキャッシュ)"
   ]
  },
  {
   "cell_type": "code",
   "execution_count": 15,
   "metadata": {},
   "outputs": [
    {
     "name": "stdout",
     "output_type": "stream",
     "text": [
      "吾輩は -> 見た\n",
      "ここで -> 始めて -> 人間という -> ものを -> 見た\n",
      "人間という -> ものを -> 見た\n",
      "ものを -> 見た\n"
     ]
    }
   ],
   "source": [
    "sentences = make_chunklist('./work/neko.txt.cabocha')\n",
    "\n",
    "def get_path(sentence, chunk, path):\n",
    "    \n",
    "    path.append(chunk.concat_surface())\n",
    "    \n",
    "    if chunk.dst == -1:\n",
    "        return ' -> '.join(path)\n",
    "    else:\n",
    "        return get_path(sentence, sentence[chunk.dst], path) \n",
    "\n",
    "for i, sentence in enumerate(sentences, start=1):\n",
    "    if i == 6:\n",
    "        for chunk in sentence:\n",
    "            if chunk.contain_pos('名詞'):\n",
    "                print(get_path(sentence, chunk, path=list()))\n",
    "        break"
   ]
  },
  {
   "cell_type": "markdown",
   "metadata": {},
   "source": [
    "- 取り消し線で書いた苦戦"
   ]
  },
  {
   "cell_type": "code",
   "execution_count": 16,
   "metadata": {},
   "outputs": [
    {
     "name": "stdout",
     "output_type": "stream",
     "text": [
      "吾輩は -> 見た\n",
      "ここで -> 始めて -> 人間という -> ものを -> 見た\n",
      "人間という -> ものを -> 見た\n",
      "ものを -> 見た\n"
     ]
    }
   ],
   "source": [
    "sentences = make_chunklist('./work/neko.txt.cabocha')\n",
    "\n",
    "def get_path(sentence, chunk, path):\n",
    "    \n",
    "    path.append(chunk.concat_surface())\n",
    "    \n",
    "    if chunk.dst == -1:\n",
    "        print(' -> '.join(path))\n",
    "    else:\n",
    "        get_path(sentence, sentence[chunk.dst], path)     \n",
    "\n",
    "for i, sentence in enumerate(sentences, start = 1):\n",
    "    if i == 6:\n",
    "        for chunk in sentence:\n",
    "            if chunk.contain_pos('名詞'):\n",
    "                get_path(sentence, chunk, path = list())\n",
    "        break"
   ]
  },
  {
   "cell_type": "code",
   "execution_count": 17,
   "metadata": {},
   "outputs": [
    {
     "name": "stdout",
     "output_type": "stream",
     "text": [
      "吾輩は -> 見た\n",
      "ここで -> 始めて -> 人間という -> ものを -> 見た\n",
      "人間という -> ものを -> 見た\n",
      "ものを -> 見た\n"
     ]
    }
   ],
   "source": [
    "sentences = make_chunklist('./work/neko.txt.cabocha')\n",
    "\n",
    "def get_path(sentence, chunk, path):\n",
    "    \n",
    "    path.append(chunk.concat_surface())\n",
    "    \n",
    "    if chunk.dst == -1:\n",
    "        x = ' -> '.join(path)\n",
    "        return x\n",
    "    else:\n",
    "        x = get_path(sentence, sentence[chunk.dst], path) # 一回でもelseたどった場合結果はこのxに入っている    \n",
    "    return x # 要するにelseに分岐したときに最後にifに入ってreturnしてもそれが呼び出し元に戻っていなかった\n",
    "\n",
    "for i, sentence in enumerate(sentences, start = 1):\n",
    "    if i == 6:\n",
    "        for chunk in sentence:\n",
    "            if chunk.contain_pos('名詞'):\n",
    "                print(get_path(sentence, chunk, path = list()))\n",
    "        break"
   ]
  },
  {
   "cell_type": "markdown",
   "metadata": {},
   "source": [
    "- よく考えたら再帰でfactorial計算するときもelseブロックの中returnしてるのになぜ気づかんかった..."
   ]
  },
  {
   "cell_type": "markdown",
   "metadata": {},
   "source": [
    "# 49. 名詞間の係り受けパスの抽出"
   ]
  },
  {
   "cell_type": "markdown",
   "metadata": {},
   "source": [
    "文中のすべての名詞句のペアを結ぶ最短係り受けパスを抽出せよ．\n",
    "ただし，名詞句ペアの文節番号が$i$と$j$（$i < j$）のとき，係り受けパスは以下の仕様を満たすものとする．\n",
    "\n",
    "問題48と同様に，パスは開始文節から終了文節に至るまでの各文節の表現（表層形の形態素列）を\"->\"で連結して表現する\n",
    "文節$i$と$j$に含まれる名詞句はそれぞれ，XとYに置換する\n",
    "また，係り受けパスの形状は，以下の2通りが考えられる．\n",
    "\n",
    "- 文節$i$から構文木の根に至る経路上に文節$j$が存在する場合: 文節$i$から文節$j$のパスを表示\n",
    "- 上記以外で，文節$i$と文節$j$から構文木の根に至る経路上で共通の文節$k$で交わる場合: 文節$i$から文節$k$に至る直前のパスと文節$j$から文節$k$に至る直前までのパス，文節$k$の内容を\"|\"で連結して表示"
   ]
  },
  {
   "cell_type": "code",
   "execution_count": 10,
   "metadata": {},
   "outputs": [
    {
     "name": "stdout",
     "output_type": "stream",
     "text": [
      "Xは | Yで -> 始めて -> 人間という -> ものを | 見た\n",
      "Xは | Yという -> ものを | 見た\n",
      "Xは | Yを | 見た\n",
      "Xで -> 始めて -> Yという\n",
      "Xで -> 始めて -> 人間という -> Yを\n",
      "Xという -> Yを\n"
     ]
    }
   ],
   "source": [
    "import itertools\n",
    "\n",
    "sentences = make_chunklist('./work/neko.txt.cabocha')\n",
    "\n",
    "# 48のget_pathをchunkのlistで返すようにしただけ\n",
    "def get_path_as_list(sentence, chunk, path=None):\n",
    "    \n",
    "    # デフォルト引数はimmutableなものにする\n",
    "    if path == None:\n",
    "        path = []\n",
    "    path.append(chunk)\n",
    "    \n",
    "    if chunk.dst == -1:\n",
    "        return path\n",
    "    else:\n",
    "        return get_path_as_list(sentence, sentence[chunk.dst], path) \n",
    "\n",
    "def get_dep_path(path1, path2):\n",
    "    \n",
    "    # 係り受けパスptn1の場合\n",
    "    # path1の先頭は必ずpath2の先頭より元の文で前にあること、とpath2の先頭が名詞(句)であることは保証されている\n",
    "    if path2[0] in path1:\n",
    "        # 構文木の根までに名詞(句)jに遭遇した場合\n",
    "        for n1, p1 in enumerate(path1):\n",
    "            \n",
    "            if p1 == path2[0]:\n",
    "  \n",
    "                i_replaced = path1[0].replace_wchar('名詞', 'X')\n",
    "                j_replaced = path1[n1].replace_wchar('名詞', 'Y')\n",
    "\n",
    "                print(i_replaced, *(ch.concat_surface() for ch in path1[1:n1]), j_replaced, sep=' -> ')\n",
    "\n",
    "                break\n",
    "    \n",
    "    # 係り受けパスptn2の場合\n",
    "    else:\n",
    "        for n1, p1 in enumerate(path1):          \n",
    "            for n2, p2 in enumerate(path2):\n",
    "                if p1 == p2:\n",
    "\n",
    "                    i_replaced = path1[0].replace_wchar('名詞', 'X')\n",
    "                    j_replaced = path2[0].replace_wchar('名詞', 'Y')\n",
    "\n",
    "                    print(i_replaced, *(ch.concat_surface() for ch in path1[1:n1]), sep=' -> ', end=' | ')\n",
    "                    print(j_replaced, *(ch.concat_surface() for ch in path2[1:n2]), sep=' -> ', end=' | ')\n",
    "                    print(p1.concat_surface())\n",
    "                    \n",
    "                    break\n",
    "                    \n",
    "            else: continue\n",
    "                \n",
    "            break\n",
    "\n",
    "for i, sentence in enumerate(sentences, start=1):\n",
    "    if i == 6:\n",
    "        paths = []\n",
    "        for chunk in sentence:\n",
    "            if chunk.contain_pos('名詞'):\n",
    "                paths.append(get_path_as_list(sentence, chunk)) # ここでpathsの各要素 -> pathに含まれるchunkのリスト\n",
    "                \n",
    "        path_comb = itertools.combinations(paths, 2)\n",
    "\n",
    "        for x, y in path_comb:\n",
    "            get_dep_path(x, y)\n",
    "        \n",
    "        break"
   ]
  },
  {
   "cell_type": "markdown",
   "metadata": {},
   "source": [
    "### 以下試行錯誤したコードたち"
   ]
  },
  {
   "cell_type": "markdown",
   "metadata": {},
   "source": [
    "- 旧バージョンのコード(この文うまく出力できてるけどなんか分岐違わね...?)"
   ]
  },
  {
   "cell_type": "code",
   "execution_count": 45,
   "metadata": {},
   "outputs": [
    {
     "name": "stdout",
     "output_type": "stream",
     "text": [
      "Xは | Yで -> 始めて -> 人間という -> ものを | 見た\n",
      "Xは | Yという -> ものを | 見た\n",
      "Xは | Yを | 見た\n",
      "Xで -> 始めて -> Yという\n",
      "Xで -> 始めて -> 人間という -> Yを\n",
      "Xで -> 始めて -> 人間という -> Yを\n",
      "Xという -> Yを\n"
     ]
    }
   ],
   "source": [
    "import itertools\n",
    "\n",
    "sentences = make_chunklist('./work/neko.txt.cabocha')\n",
    "\n",
    "# 48のget_pathをchunkのlistで返すようにしただけ\n",
    "def get_path_as_list(sentence, chunk, path):\n",
    "    \n",
    "    path.append(chunk)\n",
    "    \n",
    "    if chunk.dst == -1:\n",
    "        return path\n",
    "    else:\n",
    "        return get_path_as_list(sentence, sentence[chunk.dst], path) \n",
    "\n",
    "def get_dep_path(sentence, path1, path2):\n",
    "    \n",
    "    subj = path1[-1] # 構文木の根\n",
    "    \n",
    "    path1 = path1[:-1] # 根を取り除く\n",
    "    path2 = path2[:-1]\n",
    "    \n",
    "    np_included_in_path = False\n",
    "    \n",
    "    # 係り受けパスptn1の場合(根までのどこかで交わる)\n",
    "    # path1の先頭は必ずpath2の先頭より元の文で前にあること、とpath1の先頭が名詞(句)であることは保証されている\n",
    "    for n1, p1 in enumerate(path1):\n",
    "        for n2, p2 in enumerate(path2):\n",
    "            if p1 == p2 and '名詞' in (mp.pos for mp in p1.morphs):\n",
    "                np_included_in_path = True\n",
    "                \n",
    "                i = 0\n",
    "                j = n1\n",
    "                i_replaced = path1[i].replace_wchar('名詞', 'X')\n",
    "                j_replaced = path1[j].replace_wchar('名詞', 'Y')\n",
    "                \n",
    "                # 第2引数がない場合(i+1 = j)に->が2個出力される問題...もう少しきれいなsolutionはないものか\n",
    "                if i + 1 != j:\n",
    "                    print(i_replaced + ' -> ' + ' -> '.join(ch.concat_surface() for ch in path1[i+1:j]) + ' -> ' + j_replaced)\n",
    "                else:\n",
    "                    print(i_replaced + ' -> ' + j_replaced)\n",
    "    \n",
    "    # ptn2の場合(構文木の根に名詞が含まれている(「話である」など)と事故る=最後の文節だけからなるpathが抽出されているからpath2の長さに条件をつけた)\n",
    "    if not np_included_in_path and not len(path2) == 0:\n",
    "        \n",
    "        i_replaced = path1[0].replace_wchar('名詞', 'X')\n",
    "        j_replaced = path2[0].replace_wchar('名詞', 'Y')\n",
    "        \n",
    "        # ptn1の場合と同じで矢印の個数合わせをする必要 (ptn2の場合の出力もう少し工夫いりそう)\n",
    "        if len(path2) > 1:\n",
    "            print(i_replaced + ' -> '.join(ch.concat_surface() for ch in path1[1:]) + ' | ' + \\\n",
    "                  j_replaced + ' -> ' +  ' -> '.join(ch.concat_surface() for ch in path2[1:]) + ' | ' + subj.concat_surface())\n",
    "        else:\n",
    "            print(i_replaced + ' -> '.join(ch.concat_surface() for ch in path1[1:]) + ' | ' + \\\n",
    "                  j_replaced +  ' -> '.join(ch.concat_surface() for ch in path2[1:]) + ' | ' + subj.concat_surface())\n",
    "\n",
    "for i, sentence in enumerate(sentences, start = 1):\n",
    "    if i == 6:\n",
    "        paths = []\n",
    "        for chunk in sentence:\n",
    "            if chunk.contain_pos('名詞'):\n",
    "                paths.append(get_path_as_list(sentence, chunk, path = list())) # ここでpathsの各要素 -> pathに含まれるchunkのリスト\n",
    "                \n",
    "        path_comb = itertools.combinations(paths, 2)\n",
    "\n",
    "        for x, y in path_comb:\n",
    "            get_dep_path(sentence, x, y)"
   ]
  },
  {
   "cell_type": "markdown",
   "metadata": {},
   "source": [
    "- 最初やって挫折したコード (なんか問題の意味分かんなくて3時間ぐらいかけたからもったいないし残しとく) -> 関数の仕様が変わったから今実行してもエラー吐く。悲しみ。"
   ]
  },
  {
   "cell_type": "code",
   "execution_count": 5,
   "metadata": {},
   "outputs": [
    {
     "ename": "AttributeError",
     "evalue": "'Chunk' object has no attribute 'idx'",
     "output_type": "error",
     "traceback": [
      "\u001b[0;31m---------------------------------------------------------------------------\u001b[0m",
      "\u001b[0;31mAttributeError\u001b[0m                            Traceback (most recent call last)",
      "\u001b[0;32m<ipython-input-5-310584c06b64>\u001b[0m in \u001b[0;36m<module>\u001b[0;34m()\u001b[0m\n\u001b[1;32m     44\u001b[0m                 \u001b[0mpaths\u001b[0m\u001b[0;34m.\u001b[0m\u001b[0mappend\u001b[0m\u001b[0;34m(\u001b[0m\u001b[0mget_path_as_list\u001b[0m\u001b[0;34m(\u001b[0m\u001b[0msentence\u001b[0m\u001b[0;34m,\u001b[0m \u001b[0mchunk\u001b[0m\u001b[0;34m,\u001b[0m \u001b[0mpath\u001b[0m \u001b[0;34m=\u001b[0m \u001b[0mlist\u001b[0m\u001b[0;34m(\u001b[0m\u001b[0;34m)\u001b[0m\u001b[0;34m)\u001b[0m\u001b[0;34m)\u001b[0m\u001b[0;34m\u001b[0m\u001b[0m\n\u001b[1;32m     45\u001b[0m         \u001b[0;32mfor\u001b[0m \u001b[0mpath\u001b[0m \u001b[0;32min\u001b[0m \u001b[0mpaths\u001b[0m\u001b[0;34m:\u001b[0m\u001b[0;34m\u001b[0m\u001b[0m\n\u001b[0;32m---> 46\u001b[0;31m             \u001b[0mdep_path\u001b[0m \u001b[0;34m=\u001b[0m \u001b[0mget_dep_path\u001b[0m\u001b[0;34m(\u001b[0m\u001b[0mpath\u001b[0m\u001b[0;34m,\u001b[0m \u001b[0msentence\u001b[0m\u001b[0;34m)\u001b[0m\u001b[0;34m\u001b[0m\u001b[0m\n\u001b[0m\u001b[1;32m     47\u001b[0m             \u001b[0;32mfor\u001b[0m \u001b[0md\u001b[0m \u001b[0;32min\u001b[0m \u001b[0mdep_path\u001b[0m\u001b[0;34m:\u001b[0m\u001b[0;34m\u001b[0m\u001b[0m\n\u001b[1;32m     48\u001b[0m                 \u001b[0mprint\u001b[0m\u001b[0;34m(\u001b[0m\u001b[0md\u001b[0m\u001b[0;34m)\u001b[0m\u001b[0;34m\u001b[0m\u001b[0m\n",
      "\u001b[0;32m<ipython-input-5-310584c06b64>\u001b[0m in \u001b[0;36mget_dep_path\u001b[0;34m(path, sentence)\u001b[0m\n\u001b[1;32m     26\u001b[0m     \u001b[0;31m# 係り受けパス ptn1\u001b[0m\u001b[0;34m\u001b[0m\u001b[0;34m\u001b[0m\u001b[0m\n\u001b[1;32m     27\u001b[0m     \u001b[0;32mif\u001b[0m \u001b[0mnp_idx\u001b[0m\u001b[0;34m:\u001b[0m\u001b[0;34m\u001b[0m\u001b[0m\n\u001b[0;32m---> 28\u001b[0;31m         \u001b[0;32mfor\u001b[0m \u001b[0mi\u001b[0m\u001b[0;34m,\u001b[0m \u001b[0mj\u001b[0m \u001b[0;32min\u001b[0m \u001b[0mnp_idx\u001b[0m\u001b[0;34m:\u001b[0m\u001b[0;34m\u001b[0m\u001b[0m\n\u001b[0m\u001b[1;32m     29\u001b[0m \u001b[0;34m\u001b[0m\u001b[0m\n\u001b[1;32m     30\u001b[0m             \u001b[0;31m# 元のsentenceはいじりたくない\u001b[0m\u001b[0;34m\u001b[0m\u001b[0;34m\u001b[0m\u001b[0m\n",
      "\u001b[0;32m<ipython-input-5-310584c06b64>\u001b[0m in \u001b[0;36m<genexpr>\u001b[0;34m(.0)\u001b[0m\n\u001b[1;32m     22\u001b[0m \u001b[0;34m\u001b[0m\u001b[0m\n\u001b[1;32m     23\u001b[0m     \u001b[0;31m# これは48のパスから考えられるchunkの2つ組でともに名詞を含むときのchunkのindexを返す\u001b[0m\u001b[0;34m\u001b[0m\u001b[0;34m\u001b[0m\u001b[0m\n\u001b[0;32m---> 24\u001b[0;31m     \u001b[0mnp_idx\u001b[0m \u001b[0;34m=\u001b[0m \u001b[0;34m(\u001b[0m\u001b[0;34m(\u001b[0m\u001b[0mc1\u001b[0m\u001b[0;34m.\u001b[0m\u001b[0midx\u001b[0m\u001b[0;34m,\u001b[0m \u001b[0mc2\u001b[0m\u001b[0;34m.\u001b[0m\u001b[0midx\u001b[0m\u001b[0;34m)\u001b[0m \u001b[0;32mfor\u001b[0m \u001b[0mc1\u001b[0m\u001b[0;34m,\u001b[0m \u001b[0mc2\u001b[0m \u001b[0;32min\u001b[0m \u001b[0mitertools\u001b[0m\u001b[0;34m.\u001b[0m\u001b[0mcombinations\u001b[0m\u001b[0;34m(\u001b[0m\u001b[0mpath\u001b[0m\u001b[0;34m,\u001b[0m \u001b[0;36m2\u001b[0m\u001b[0;34m)\u001b[0m     \u001b[0;32mif\u001b[0m \u001b[0mc1\u001b[0m\u001b[0;34m.\u001b[0m\u001b[0mcontain_pos\u001b[0m\u001b[0;34m(\u001b[0m\u001b[0;34m'名詞'\u001b[0m\u001b[0;34m)\u001b[0m \u001b[0;32mand\u001b[0m \u001b[0mc2\u001b[0m\u001b[0;34m.\u001b[0m\u001b[0mcontain_pos\u001b[0m\u001b[0;34m(\u001b[0m\u001b[0;34m'名詞'\u001b[0m\u001b[0;34m)\u001b[0m\u001b[0;34m)\u001b[0m\u001b[0;34m\u001b[0m\u001b[0m\n\u001b[0m\u001b[1;32m     25\u001b[0m \u001b[0;34m\u001b[0m\u001b[0m\n\u001b[1;32m     26\u001b[0m     \u001b[0;31m# 係り受けパス ptn1\u001b[0m\u001b[0;34m\u001b[0m\u001b[0;34m\u001b[0m\u001b[0m\n",
      "\u001b[0;31mAttributeError\u001b[0m: 'Chunk' object has no attribute 'idx'"
     ]
    }
   ],
   "source": [
    "import itertools\n",
    "from copy import deepcopy as dc\n",
    "\n",
    "sentences = make_chunklist('./work/neko.txt.cabocha')\n",
    "\n",
    "# 48のget_pathをchunkのlistで返すようにしただけ\n",
    "def get_path_as_list(sentence, chunk, path):\n",
    "    \n",
    "    path.append(chunk)\n",
    "    \n",
    "    if chunk.dst == -1:\n",
    "        return path\n",
    "    else:\n",
    "        return get_path_as_list(sentence, sentence[chunk.dst], path) \n",
    "\n",
    "def get_dep_path(path, sentence):\n",
    "    \n",
    "    dep_path = [] # 名詞句の係り受けパス\n",
    "    \n",
    "    # itertools.combinations(iter, r)はiterを受け取ってr要素からなるその部分列の組み合わせを順番を保持したまま返す\n",
    "    # ex.) list(itertools.combinations(range(3), 2)) = [(0,1), (0,2), (1,2)]\n",
    "        \n",
    "    # これは48のパスから考えられるchunkの2つ組でともに名詞を含むときのchunkのindexを返す\n",
    "    np_idx = ((c1.idx, c2.idx) for c1, c2 in itertools.combinations(path, 2) \\\n",
    "    if c1.contain_pos('名詞') and c2.contain_pos('名詞'))\n",
    "        \n",
    "    # 係り受けパス ptn1\n",
    "    if np_idx:\n",
    "        for i, j in np_idx:\n",
    "                \n",
    "            # 元のsentenceはいじりたくない\n",
    "            sent_copied = dc(sentence)\n",
    "            # sent_copied[i].replace_wchar('名詞', 'X')\n",
    "            # sent_copied[j].replace_wchar('名詞', 'Y', del_particles = True) あとから関数変わったからこれでは動かない\n",
    "                \n",
    "            dep_path.append(' -> '.join(ch.concat_surface() for ch in sent_copied[i:j+1]))\n",
    "                \n",
    "    return dep_path        \n",
    "\n",
    "for i, sentence in enumerate(sentences, start = 1):\n",
    "    if i == 6:\n",
    "        paths = []\n",
    "        for chunk in sentence:\n",
    "            if chunk.contain_pos('名詞'):\n",
    "                paths.append(get_path_as_list(sentence, chunk, path = list()))\n",
    "        for path in paths:\n",
    "            dep_path = get_dep_path(path, sentence)\n",
    "            for d in dep_path:\n",
    "                print(d)"
   ]
  },
  {
   "cell_type": "code",
   "execution_count": null,
   "metadata": {},
   "outputs": [],
   "source": []
  }
 ],
 "metadata": {
  "kernelspec": {
   "display_name": "Python 3",
   "language": "python",
   "name": "python3"
  },
  "language_info": {
   "codemirror_mode": {
    "name": "ipython",
    "version": 3
   },
   "file_extension": ".py",
   "mimetype": "text/x-python",
   "name": "python",
   "nbconvert_exporter": "python",
   "pygments_lexer": "ipython3",
   "version": "3.6.5"
  }
 },
 "nbformat": 4,
 "nbformat_minor": 2
}
