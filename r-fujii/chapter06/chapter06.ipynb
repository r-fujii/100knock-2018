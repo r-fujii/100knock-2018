{
 "cells": [
  {
   "cell_type": "markdown",
   "metadata": {},
   "source": [
    "<h2>目次 - Chapter 6</h2>"
   ]
  },
  {
   "cell_type": "markdown",
   "metadata": {},
   "source": [
    "- [50. 文区切り](#prob50)\n",
    "- [51. 単語の切り出し](#prob51)\n",
    "- [52. ステミング](#prob52)\n",
    "- [53. Tokenization](#prob53)\n",
    "- [54. 品詞タグ付け](#prob54)\n",
    "- [55. 固有表現抽出](#prob55)\n",
    "- [56. 共参照解析](#prob56)\n",
    "- [57. 係り受け解析](#prob57)\n",
    "- [58. タプルの抽出](#prob58)\n",
    "- [59. S式の解析](#prob59)"
   ]
  },
  {
   "cell_type": "code",
   "execution_count": 1,
   "metadata": {},
   "outputs": [
    {
     "name": "stdout",
     "output_type": "stream",
     "text": [
      "Natural language processing\n",
      "From Wikipedia, the free encyclopedia\n",
      "\n",
      "Natural language processing (NLP) is a field of computer science, artificial intelligence, and linguistics concerned with the interactions between computers and human (natural) languages. As such, NLP is related to the area of humani-computer interaction. Many challenges in NLP involve natural language understanding, that is, enabling computers to derive meaning from human or natural language input, and others involve natural language generation.\n",
      "\n",
      "History\n",
      "\n",
      "The history of NLP generally starts in the 1950s, although work can be found from earlier periods. In 1950, Alan Turing published an article titled \"Computing Machinery and Intelligence\" which proposed what is now called the Turing test as a criterion of intelligence.\n",
      "\n",
      "The Georgetown experiment in 1954 involved fully automatic translation of more than sixty Russian sentences into English. The authors claimed that within three or five years, machine translation would be a solved problem. However, real progress was much slower, and after the ALPAC report in 1966, which found that ten year long research had failed to fulfill the expectations, funding for machine translation was dramatically reduced. Little further research in machine translation was conducted until the late 1980s, when the first statistical machine translation systems were developed.\n"
     ]
    }
   ],
   "source": [
    "!cat ./data/nlp.txt 2>/dev/null | head"
   ]
  },
  {
   "cell_type": "markdown",
   "metadata": {},
   "source": [
    "<a name='prob50'></a>\n",
    "# 50. 文区切り"
   ]
  },
  {
   "cell_type": "markdown",
   "metadata": {},
   "source": [
    "(. or ; or : or ? or !) → 空白文字 → 英大文字というパターンを文の区切りと見なし，入力された文書を1行1文の形式で出力せよ．"
   ]
  },
  {
   "cell_type": "markdown",
   "metadata": {},
   "source": [
    "間の空白にマッチさせる肯定後読み+肯定先読みでもできる -> (?<=[.;:?!\\])\\s+(?=[A-Z\\]), 速いが見出し文も取れてしまう"
   ]
  },
  {
   "cell_type": "code",
   "execution_count": 8,
   "metadata": {},
   "outputs": [],
   "source": [
    "import re\n",
    "\n",
    "regex_sentence = re.compile(r'(?P<sentence>(.*?)[.;:?!])\\s(?=[A-Z]|$)')\n",
    "\n",
    "with open('./data/nlp.txt') as data, open('./work/sentences.txt', 'w') as out:\n",
    "    print(*(match.group('sentence') for line in data for match in regex_sentence.finditer(line)), sep='\\n', file=out)"
   ]
  },
  {
   "cell_type": "code",
   "execution_count": 9,
   "metadata": {},
   "outputs": [
    {
     "name": "stdout",
     "output_type": "stream",
     "text": [
      "Natural language processing (NLP) is a field of computer science, artificial intelligence, and linguistics concerned with the interactions between computers and human (natural) languages.\n",
      "As such, NLP is related to the area of humani-computer interaction.\n",
      "Many challenges in NLP involve natural language understanding, that is, enabling computers to derive meaning from human or natural language input, and others involve natural language generation.\n",
      "The history of NLP generally starts in the 1950s, although work can be found from earlier periods.\n",
      "In 1950, Alan Turing published an article titled \"Computing Machinery and Intelligence\" which proposed what is now called the Turing test as a criterion of intelligence.\n",
      "The Georgetown experiment in 1954 involved fully automatic translation of more than sixty Russian sentences into English.\n",
      "The authors claimed that within three or five years, machine translation would be a solved problem.\n",
      "However, real progress was much slower, and after the ALPAC report in 1966, which found that ten year long research had failed to fulfill the expectations, funding for machine translation was dramatically reduced.\n",
      "Little further research in machine translation was conducted until the late 1980s, when the first statistical machine translation systems were developed.\n",
      "Some notably successful NLP systems developed in the 1960s were SHRDLU, a natural language system working in restricted \"blocks worlds\" with restricted vocabularies, and ELIZA, a simulation of a Rogerian psychotherapist, written by Joseph Weizenbaum between 1964 to 1966.\n"
     ]
    }
   ],
   "source": [
    "!cat ./work/sentences.txt 2>/dev/null | head"
   ]
  },
  {
   "cell_type": "markdown",
   "metadata": {},
   "source": [
    "- assertion -> 簡易的に値をcheckできる"
   ]
  },
  {
   "cell_type": "code",
   "execution_count": 1,
   "metadata": {},
   "outputs": [
    {
     "ename": "AssertionError",
     "evalue": "",
     "output_type": "error",
     "traceback": [
      "\u001b[0;31m---------------------------------------------------\u001b[0m",
      "\u001b[0;31mAssertionError\u001b[0m    Traceback (most recent call last)",
      "\u001b[0;32m<ipython-input-1-bd5ada460902>\u001b[0m in \u001b[0;36m<module>\u001b[0;34m()\u001b[0m\n\u001b[1;32m      1\u001b[0m \u001b[0ma\u001b[0m \u001b[0;34m=\u001b[0m \u001b[0;36m1\u001b[0m\u001b[0;34m\u001b[0m\u001b[0m\n\u001b[0;32m----> 2\u001b[0;31m \u001b[0;32massert\u001b[0m \u001b[0ma\u001b[0m \u001b[0;34m==\u001b[0m \u001b[0;36m2\u001b[0m\u001b[0;34m\u001b[0m\u001b[0m\n\u001b[0m\u001b[1;32m      3\u001b[0m \u001b[0mprint\u001b[0m\u001b[0;34m(\u001b[0m\u001b[0ma\u001b[0m\u001b[0;34m)\u001b[0m\u001b[0;34m\u001b[0m\u001b[0m\n",
      "\u001b[0;31mAssertionError\u001b[0m: "
     ]
    }
   ],
   "source": [
    "a = 1\n",
    "assert a == 2\n",
    "print(a)"
   ]
  },
  {
   "cell_type": "markdown",
   "metadata": {},
   "source": [
    "標準入出力を使えるプログラムを書くのがよさそう(pipeが便利)<br>\n",
    "parallelで並列処理?<br>\n",
    "cat hogehoge.txt | parallel hoge.py | fuga.py > fugafuga.txt"
   ]
  },
  {
   "cell_type": "markdown",
   "metadata": {},
   "source": [
    "<a name='prob51'></a>\n",
    "# 51. 単語の切り出し"
   ]
  },
  {
   "cell_type": "markdown",
   "metadata": {},
   "source": [
    "<h2>nltkとかspacyとか使おうよ</h2>"
   ]
  },
  {
   "cell_type": "markdown",
   "metadata": {},
   "source": [
    "空白を単語の区切りとみなし，50の出力を入力として受け取り，1行1単語の形式で出力せよ．ただし，文の終端では空行を出力せよ．"
   ]
  },
  {
   "cell_type": "code",
   "execution_count": 2,
   "metadata": {},
   "outputs": [],
   "source": [
    "with open('./work/sentences.txt') as data, open('./work/words.txt', 'w') as out:\n",
    "    for line in data:\n",
    "        for word in line.split():\n",
    "            print(word.strip('.;:?!,\"()'), file=out) # なんかいろいろ余分なの除いた\n",
    "        print(file=out) # 1文の終端の処理(空文字列をprint->改行)"
   ]
  },
  {
   "cell_type": "code",
   "execution_count": 5,
   "metadata": {},
   "outputs": [
    {
     "name": "stdout",
     "output_type": "stream",
     "text": [
      "Natural\n",
      "language\n",
      "processing\n",
      "NLP\n",
      "is\n",
      "a\n",
      "field\n",
      "of\n",
      "computer\n",
      "science\n"
     ]
    }
   ],
   "source": [
    "!cat ./work/words.txt 2>/dev/null | head"
   ]
  },
  {
   "cell_type": "markdown",
   "metadata": {},
   "source": [
    "<a name='prob52'></a>\n",
    "# 52. ステミング"
   ]
  },
  {
   "cell_type": "markdown",
   "metadata": {},
   "source": [
    "51の出力を入力として受け取り，Porterのステミングアルゴリズムを適用し，単語と語幹をタブ区切り形式で出力せよ． \n",
    "Pythonでは，Porterのステミングアルゴリズムの実装としてstemmingモジュールを利用するとよい．"
   ]
  },
  {
   "cell_type": "code",
   "execution_count": 5,
   "metadata": {},
   "outputs": [
    {
     "name": "stdout",
     "output_type": "stream",
     "text": [
      "Natural\tNatur\n",
      "language\tlanguag\n",
      "processing\tprocess\n",
      "NLP\tNLP\n",
      "is\tis\n",
      "a\ta\n",
      "field\tfield\n",
      "of\tof\n",
      "computer\tcomput\n",
      "science\tscienc\n"
     ]
    }
   ],
   "source": [
    "import itertools\n",
    "from stemming.porter2 import stem\n",
    "\n",
    "with open('./work/words.txt') as data:\n",
    "    for line in itertools.islice(data, 10):\n",
    "        word = line.strip() # \\nを取る\n",
    "        print(word, stem(word), sep='\\t')"
   ]
  },
  {
   "cell_type": "markdown",
   "metadata": {},
   "source": [
    "sep='\\t'と{}\\t{}.formatはどちらがいいか問題"
   ]
  },
  {
   "cell_type": "markdown",
   "metadata": {},
   "source": [
    "<a name='prob53'></a>\n",
    "# 53. Tokenization"
   ]
  },
  {
   "cell_type": "markdown",
   "metadata": {},
   "source": [
    "Stanford Core NLPを用い，入力テキストの解析結果をXML形式で得よ．\n",
    "また，このXMLファイルを読み込み，入力テキストを1行1単語の形式で出力せよ．"
   ]
  },
  {
   "cell_type": "code",
   "execution_count": 79,
   "metadata": {},
   "outputs": [
    {
     "name": "stdout",
     "output_type": "stream",
     "text": [
      "java -mx5g -cp \"/Users/r-fujii/Documents/stanford-corenlp-full-2018-02-27/*\" edu.stanford.nlp.pipeline.StanfordCoreNLP -annotators tokenize,ssplit,pos,lemma,ner,parse,depparse,dcoref -file ./data/nlp.txt\n",
      "[main] INFO edu.stanford.nlp.pipeline.StanfordCoreNLP - Adding annotator tokenize\n",
      "[main] INFO edu.stanford.nlp.pipeline.TokenizerAnnotator - No tokenizer type provided. Defaulting to PTBTokenizer.\n",
      "[main] INFO edu.stanford.nlp.pipeline.StanfordCoreNLP - Adding annotator ssplit\n",
      "[main] INFO edu.stanford.nlp.pipeline.StanfordCoreNLP - Adding annotator pos\n",
      "[main] INFO edu.stanford.nlp.tagger.maxent.MaxentTagger - Loading POS tagger from edu/stanford/nlp/models/pos-tagger/english-left3words/english-left3words-distsim.tagger ... done [1.4 sec].\n",
      "[main] INFO edu.stanford.nlp.pipeline.StanfordCoreNLP - Adding annotator lemma\n",
      "[main] INFO edu.stanford.nlp.pipeline.StanfordCoreNLP - Adding annotator ner\n",
      "[main] INFO edu.stanford.nlp.ie.AbstractSequenceClassifier - Loading classifier from edu/stanford/nlp/models/ner/english.all.3class.distsim.crf.ser.gz ... done [1.9 sec].\n",
      "[main] INFO edu.stanford.nlp.ie.AbstractSequenceClassifier - Loading classifier from edu/stanford/nlp/models/ner/english.muc.7class.distsim.crf.ser.gz ... done [2.0 sec].\n",
      "[main] INFO edu.stanford.nlp.ie.AbstractSequenceClassifier - Loading classifier from edu/stanford/nlp/models/ner/english.conll.4class.distsim.crf.ser.gz ... done [0.8 sec].\n",
      "[main] INFO edu.stanford.nlp.time.JollyDayHolidays - Initializing JollyDayHoliday for SUTime from classpath edu/stanford/nlp/models/sutime/jollyday/Holidays_sutime.xml as sutime.binder.1.\n",
      "[main] INFO edu.stanford.nlp.time.TimeExpressionExtractorImpl - Using following SUTime rules: edu/stanford/nlp/models/sutime/defs.sutime.txt,edu/stanford/nlp/models/sutime/english.sutime.txt,edu/stanford/nlp/models/sutime/english.holidays.sutime.txt\n",
      "[main] INFO edu.stanford.nlp.pipeline.TokensRegexNERAnnotator - TokensRegexNERAnnotator ner.fine.regexner: Read 580641 unique entries out of 581790 from edu/stanford/nlp/models/kbp/regexner_caseless.tab, 0 TokensRegex patterns.\n",
      "[main] INFO edu.stanford.nlp.pipeline.TokensRegexNERAnnotator - TokensRegexNERAnnotator ner.fine.regexner: Read 4857 unique entries out of 4868 from edu/stanford/nlp/models/kbp/regexner_cased.tab, 0 TokensRegex patterns.\n",
      "[main] INFO edu.stanford.nlp.pipeline.TokensRegexNERAnnotator - TokensRegexNERAnnotator ner.fine.regexner: Read 585498 unique entries from 2 files\n",
      "[main] INFO edu.stanford.nlp.pipeline.StanfordCoreNLP - Adding annotator parse\n",
      "[main] INFO edu.stanford.nlp.parser.common.ParserGrammar - Loading parser from serialized file edu/stanford/nlp/models/lexparser/englishPCFG.ser.gz ... done [0.4 sec].\n",
      "[main] INFO edu.stanford.nlp.pipeline.StanfordCoreNLP - Adding annotator depparse\n",
      "[main] INFO edu.stanford.nlp.parser.nndep.DependencyParser - Loading depparse model: edu/stanford/nlp/models/parser/nndep/english_UD.gz ... \n",
      "[main] INFO edu.stanford.nlp.parser.nndep.Classifier - PreComputed 99996, Elapsed Time: 18.339 (s)\n",
      "[main] INFO edu.stanford.nlp.parser.nndep.DependencyParser - Initializing dependency parser ... done [20.2 sec].\n",
      "[main] INFO edu.stanford.nlp.pipeline.StanfordCoreNLP - Adding annotator dcoref\n",
      "[main] INFO edu.stanford.nlp.pipeline.CorefMentionAnnotator - Using mention detector type: dependency\n",
      "\n",
      "Processing file /Users/r-fujii/Documents/100knock-2018/r-fujii/chapter06/./data/nlp.txt ... writing to /Users/r-fujii/Documents/100knock-2018/r-fujii/chapter06/nlp.txt.xml\n",
      "Annotating file /Users/r-fujii/Documents/100knock-2018/r-fujii/chapter06/./data/nlp.txt ... done [18.0 sec].\n",
      "\n",
      "Annotation pipeline timing information:\n",
      "TokenizerAnnotator: 0.1 sec.\n",
      "WordsToSentencesAnnotator: 0.0 sec.\n",
      "POSTaggerAnnotator: 0.3 sec.\n",
      "MorphaAnnotator: 0.1 sec.\n",
      "NERCombinerAnnotator: 4.1 sec.\n",
      "ParserAnnotator: 9.2 sec.\n",
      "DependencyParseAnnotator: 1.3 sec.\n",
      "DeterministicCorefAnnotator: 2.9 sec.\n",
      "TOTAL: 18.0 sec. for 1452 tokens at 80.7 tokens/sec.\n",
      "Pipeline setup: 68.1 sec.\n",
      "Total time for StanfordCoreNLP pipeline: 86.4 sec.\n"
     ]
    }
   ],
   "source": [
    "!/Users/r-fujii/Documents/stanford-corenlp-full-2018-02-27/corenlp.sh -annotators tokenize,ssplit,pos,lemma,ner,parse,depparse,dcoref -file ./data/nlp.txt"
   ]
  },
  {
   "cell_type": "code",
   "execution_count": 82,
   "metadata": {},
   "outputs": [
    {
     "name": "stdout",
     "output_type": "stream",
     "text": [
      "Natural\n",
      "language\n",
      "processing\n",
      "From\n",
      "Wikipedia\n",
      ",\n",
      "the\n",
      "free\n",
      "encyclopedia\n",
      "Natural\n"
     ]
    }
   ],
   "source": [
    "import itertools\n",
    "import xml.etree.ElementTree as ET\n",
    "\n",
    "tree = ET.parse('./work/nlp.txt.xml') # xmlを解析して要素の木にする\n",
    "root = tree.getroot()\n",
    "\n",
    "# root以下のtag='word'の要素をイテレート\n",
    "for word in itertools.islice(root.iter('word'), 10): print(word.text)"
   ]
  },
  {
   "cell_type": "markdown",
   "metadata": {},
   "source": [
    "これはtreeをメモリに全乗せする? -> iterparseなるものがあるらしい\n",
    "- xml.etree.ElementTree, lxml"
   ]
  },
  {
   "cell_type": "markdown",
   "metadata": {},
   "source": [
    "<a name='prob54'></a>\n",
    "# 54. 品詞タグ付け"
   ]
  },
  {
   "cell_type": "markdown",
   "metadata": {},
   "source": [
    "Stanford Core NLPの解析結果XMLを読み込み，単語，レンマ，品詞をタブ区切り形式で出力せよ．"
   ]
  },
  {
   "cell_type": "code",
   "execution_count": 6,
   "metadata": {},
   "outputs": [
    {
     "name": "stdout",
     "output_type": "stream",
     "text": [
      "Natural\tnatural\tJJ\n",
      "language\tlanguage\tNN\n",
      "processing\tprocessing\tNN\n",
      "From\tfrom\tIN\n",
      "Wikipedia\tWikipedia\tNNP\n",
      ",\t,\t,\n",
      "the\tthe\tDT\n",
      "free\tfree\tJJ\n",
      "encyclopedia\tencyclopedia\tNN\n",
      "Natural\tnatural\tJJ\n"
     ]
    }
   ],
   "source": [
    "import itertools\n",
    "import xml.etree.ElementTree as ET\n",
    "\n",
    "tree = ET.parse('./work/nlp.txt.xml') # xmlを解析して要素の木にする\n",
    "root = tree.getroot()\n",
    "\n",
    "for token in itertools.islice(root.iter('token'), 10):\n",
    "    print(token.find('word').text, token.find('lemma').text, token.find('POS').text, sep='\\t')\n",
    "    # ET.Element.find(match)はmatchにマッチする最初の子要素を返す"
   ]
  },
  {
   "cell_type": "markdown",
   "metadata": {},
   "source": [
    "- findall(.//hoge)はhoge以下の全要素を探す"
   ]
  },
  {
   "cell_type": "markdown",
   "metadata": {},
   "source": [
    "<a name='prob55'></a>\n",
    "# 55. 固有表現抽出"
   ]
  },
  {
   "cell_type": "markdown",
   "metadata": {},
   "source": [
    "入力文中の人名をすべて抜き出せ．"
   ]
  },
  {
   "cell_type": "code",
   "execution_count": 7,
   "metadata": {},
   "outputs": [
    {
     "name": "stdout",
     "output_type": "stream",
     "text": [
      "Alan Turing\n",
      "Joseph Weizenbaum\n",
      "MARGIE\n",
      "Schank\n",
      "Wilensky\n",
      "Meehan\n",
      "Lehnert\n",
      "Carbonell\n",
      "Lehnert\n",
      "Racter\n",
      "Jabberwacky\n",
      "Moore\n"
     ]
    }
   ],
   "source": [
    "import itertools\n",
    "import xml.etree.ElementTree as ET\n",
    "\n",
    "tree = ET.parse('./work/nlp.txt.xml')\n",
    "root = tree.getroot()\n",
    "\n",
    "tokens = (token for token in root.iter('token'))\n",
    "gr = itertools.groupby(tokens, key = lambda x: x.find('NER').text == 'PERSON')\n",
    "for is_name, items in gr:\n",
    "    if is_name:\n",
    "        print(' '.join(item.find('word').text for item in items))"
   ]
  },
  {
   "cell_type": "markdown",
   "metadata": {},
   "source": [
    "dependency visualizer<br>\n",
    "- spacy.displacy"
   ]
  },
  {
   "cell_type": "markdown",
   "metadata": {},
   "source": [
    "固有表現はBIOタグ付けで解かれることが多い (Oがめちゃくちゃ多いからOに関してはlossを考えないなど...)"
   ]
  },
  {
   "cell_type": "markdown",
   "metadata": {},
   "source": [
    "<a name='prob56'></a>\n",
    "# 56. 共参照解析"
   ]
  },
  {
   "cell_type": "markdown",
   "metadata": {},
   "source": [
    "Stanford Core NLPの共参照解析の結果に基づき，文中の参照表現（mention）を代表参照表現（representative mention）に置換せよ．\n",
    "ただし，置換するときは，「代表参照表現（参照表現）」のように，元の参照表現が分かるように配慮せよ．"
   ]
  },
  {
   "cell_type": "markdown",
   "metadata": {},
   "source": [
    "root.iterfind(.//coreference/coreference)で拾う方がsmart<br>\n",
    "直接xml treeの中身の単語を書き換えちゃえばいいじゃん"
   ]
  },
  {
   "cell_type": "code",
   "execution_count": 1,
   "metadata": {},
   "outputs": [
    {
     "name": "stdout",
     "output_type": "stream",
     "text": [
      "Natural language processing From Wikipedia , the free encyclopedia Natural language processing -LRB- NLP -RRB- is the free encyclopedia Natural language processing -LRB- NLP -RRB- ( a field of computer science ) , artificial intelligence , and linguistics concerned with the interactions between computers and human -LRB- natural -RRB- languages .\n",
      "As such , NLP is related to the area of humani-computer interaction .\n",
      "Many challenges in NLP involve natural language understanding , that is , enabling computers ( computers ) to derive meaning from human or natural language input , and others involve natural language generation .\n",
      "History The history of NLP generally starts in the 1950s , although work can be found from earlier periods .\n",
      "In 1950 , Alan Turing published an article titled `` Computing Machinery and Intelligence '' which proposed what is now called the Alan Turing ( Turing ) test as a criterion of intelligence .\n",
      "The Georgetown experiment in 1954 involved fully automatic translation of more than sixty Russian sentences into English .\n",
      "The authors claimed that within three or five years , a solved problem ( machine translation ) would be a solved problem .\n",
      "However , real progress was much slower , and after the ALPAC report in 1966 , which found that ten year long research had failed to fulfill the expectations , funding for machine translation was dramatically reduced .\n",
      "Little further research in a solved problem ( machine translation ) was conducted until the late 1980s , when the first statistical machine translation systems were developed .\n",
      "Some notably successful NLP systems developed in the 1960s were SHRDLU , SHRDLU ( a natural language system working in restricted `` blocks worlds '' with restricted vocabularies ) , and ELIZA , a simulation of a Rogerian psychotherapist , written by Joseph Weizenbaum between 1964 to 1966 .\n"
     ]
    }
   ],
   "source": [
    "import itertools\n",
    "import xml.etree.ElementTree as ET\n",
    "\n",
    "tree = ET.parse('./work/nlp.txt.xml')\n",
    "root = tree.getroot()\n",
    "\n",
    "sentences = {}\n",
    "# 本文(corefを除いた部分)を取ってくる\n",
    "for content in root.find('document').find('sentences'):\n",
    "    for sentence in content.iter('sentence'):\n",
    "        s_idx = sentence.attrib['id']\n",
    "        \n",
    "        tokens = {}\n",
    "        for token in sentence.iter('token'):\n",
    "            t_idx = token.attrib['id']\n",
    "            tokens[t_idx] = token.find('word').text\n",
    "            \n",
    "        sentences[s_idx] = tokens\n",
    "\n",
    "# 共参照に関する情報を取ってくる\n",
    "for corefs in root.find('document').find('coreference'):\n",
    "    for coref in corefs.iter('coreference'):\n",
    "        for mention in coref.iter('mention'):\n",
    "            if mention.get(key='representative'):\n",
    "                representative = mention.find('text').text\n",
    "            \n",
    "            else:\n",
    "                sentences[mention.find('sentence').text][mention.find('start').text] = \\\n",
    "                representative + ' ( ' + sentences[mention.find('sentence').text][mention.find('start').text]\n",
    "                \n",
    "                sentences[mention.find('sentence').text][mention.find('end').text] = \\\n",
    "                ') ' + sentences[mention.find('sentence').text][mention.find('end').text]\n",
    "\n",
    "for _, sentence in itertools.islice(sentences.items(), 10):\n",
    "    print(' '.join(token for token in sentence.values()))"
   ]
  },
  {
   "cell_type": "markdown",
   "metadata": {},
   "source": [
    "- **いやなんか、the free encyclopedia Natural language processing -LRB- NLP -RRB-がa field of computer scienceの代表表現とかなってるけど解析おかしくない?**"
   ]
  },
  {
   "cell_type": "markdown",
   "metadata": {},
   "source": [
    "<a name='prob57'></a>\n",
    "# 57. 係り受け解析"
   ]
  },
  {
   "cell_type": "markdown",
   "metadata": {},
   "source": [
    "Stanford Core NLPの係り受け解析の結果（collapsed-dependencies）を有向グラフとして可視化せよ．可視化には，係り受け木をDOT言語に変換し，Graphvizを用いるとよい．また，Pythonから有向グラフを直接的に可視化するには，pydotを使うとよい．"
   ]
  },
  {
   "cell_type": "code",
   "execution_count": 3,
   "metadata": {},
   "outputs": [
    {
     "data": {
      "image/png": "[encoded data removed]",
      "text/plain": [
       "<IPython.core.display.Image object>"
      ]
     },
     "execution_count": 3,
     "metadata": {},
     "output_type": "execute_result"
    }
   ],
   "source": [
    "import xml.etree.ElementTree as ET\n",
    "from cytoolz import nth\n",
    "import pydot\n",
    "from IPython.display import Image\n",
    "\n",
    "def get_dep_trees(xml_tree):\n",
    "    # xml_tree(root)を受け取ってその子要素にあるdependenciesから1文の係り受け木のDOT言語表現を返すジェネレータ\n",
    "\n",
    "    head = '''\n",
    "    digraph dep_tree{\n",
    "     // edge define\n",
    "    '''\n",
    "    foot = '\\n}'\n",
    "    \n",
    "    for deps in xml_tree.iter('dependencies'):\n",
    "        if deps.attrib['type'] == 'collapsed-dependencies':\n",
    "        \n",
    "            dotex = head\n",
    "        \n",
    "            for dep in deps.iter('dep'):\n",
    "                if not dep.attrib['type'] == 'punct':\n",
    "                    dotex += '''\\n {n1} [label = \"{parent}\"];\n",
    "                             \\n {n2} [label = \"{child}\"];\n",
    "                             \\n {n1} -> {n2};'''.format(n1=dep.find('governor').attrib['idx'] , n2=dep.find('dependent').attrib['idx'] ,\\\n",
    "                                                        parent=dep.find('governor').text, child=dep.find('dependent').text)\n",
    "                    \n",
    "            dotex += foot\n",
    "            yield dotex\n",
    "\n",
    "tree = ET.parse('./work/nlp.txt.xml')\n",
    "root = tree.getroot()\n",
    "\n",
    "dep_trees = get_dep_trees(root)\n",
    "\n",
    "for graph in pydot.graph_from_dot_data(nth(1, dep_trees)):\n",
    "    graph.write_png('./work/dep_tree.png')\n",
    "    \n",
    "Image('./work/dep_tree.png')"
   ]
  },
  {
   "cell_type": "markdown",
   "metadata": {},
   "source": [
    "<a name='prob58'></a>\n",
    "# 58. タプルの抽出"
   ]
  },
  {
   "cell_type": "markdown",
   "metadata": {},
   "source": [
    "Stanford Core NLPの係り受け解析の結果（collapsed-dependencies）に基づき，「主語 述語 目的語」の組をタブ区切り形式で出力せよ．ただし，主語，述語，目的語の定義は以下を参考にせよ．\n",
    "\n",
    "- 述語: nsubj関係とdobj関係の子（dependant）を持つ単語\n",
    "- 主語: 述語からnsubj関係にある子（dependent）\n",
    "- 目的語: 述語からdobj関係にある子（dependent）"
   ]
  },
  {
   "cell_type": "code",
   "execution_count": 10,
   "metadata": {},
   "outputs": [
    {
     "name": "stdout",
     "output_type": "stream",
     "text": [
      "understanding\tinvolve\tgeneration\n",
      "Turing\tpublished\tarticle\n",
      "experiment\tinvolved\ttranslation\n",
      "ELIZA\tprovided\tinteraction\n",
      "patient\texceeded\tbase\n",
      "ELIZA\tprovide\tresponse\n",
      "which\tstructured\tinformation\n",
      "underpinnings\tdiscouraged\tsort\n",
      "that\tunderlies\tapproach\n",
      "Some\tproduced\tsystems\n",
      "which\tmake\tdecisions\n",
      "that\tcontains\terrors\n",
      "implementations\tinvolved\tcoding\n",
      "algorithms\ttake\tset\n",
      "Some\tproduced\tsystems\n",
      "which\tmake\tdecisions\n",
      "models\thave\tadvantage\n",
      "they\texpress\tcertainty\n",
      "Systems\thave\tadvantages\n",
      "procedures\tmake\tuse\n",
      "that\tmake\tdecisions\n"
     ]
    }
   ],
   "source": [
    "import xml.etree.ElementTree as ET\n",
    "\n",
    "tree = ET.parse('./work/nlp.txt.xml')\n",
    "root = tree.getroot()\n",
    "\n",
    "for deps in root.iter('dependencies'):\n",
    "    if deps.attrib['type'] == 'collapsed-dependencies':\n",
    "        word_dict = {} # indexと語の対応\n",
    "        nsubj = {} # govenorとnsubj関係にある語のindexを保持, 最初はdefaultdictでlistにしてたけどどうやら一つしか取らなそうなので\n",
    "        dobj = {} # dobj\n",
    "        \n",
    "        for dep in deps.iter('dep'):\n",
    "            \n",
    "            g_idx = int(dep.find('governor').attrib['idx'])\n",
    "            d_idx = int(dep.find('dependent').attrib['idx'])\n",
    "            word_dict[g_idx] = dep.find('governor').text\n",
    "            word_dict[d_idx] = dep.find('dependent').text\n",
    "            \n",
    "            if dep.attrib['type'] == 'nsubj':\n",
    "                nsubj[g_idx] = d_idx\n",
    "            elif dep.attrib['type'] == 'dobj':\n",
    "                dobj[g_idx] = d_idx\n",
    "                \n",
    "        for key in nsubj.keys():\n",
    "            if key in dobj.keys():\n",
    "                print(word_dict[nsubj[key]], word_dict[key], word_dict[dobj[key]], sep='\\t')"
   ]
  },
  {
   "cell_type": "markdown",
   "metadata": {},
   "source": [
    "<a name='prob59'></a>\n",
    "# 59. S式の解析"
   ]
  },
  {
   "cell_type": "markdown",
   "metadata": {},
   "source": [
    "Stanford Core NLPの句構造解析の結果（S式）を読み込み，文中のすべての名詞句（NP）を表示せよ．入れ子になっている名詞句もすべて表示すること．"
   ]
  },
  {
   "cell_type": "code",
   "execution_count": 11,
   "metadata": {},
   "outputs": [
    {
     "name": "stdout",
     "output_type": "stream",
     "text": [
      "(NP (JJ Natural) (NN language) (NN processing))\n",
      "(NP (NNP Wikipedia))\n",
      "(NP (DT the) (JJ free) (NN encyclopedia) (JJ Natural) (NN language) (NN processing))\n",
      "(NP (NN NLP))\n",
      "(NP (NP (DT the) (JJ free) (NN encyclopedia) (JJ Natural) (NN language) (NN processing)) (PRN (-LRB- -LRB-) (NP (NN NLP)) (-RRB- -RRB-)))\n",
      "(NP (DT a) (NN field))\n",
      "(NP (NN computer) (NN science))\n",
      "(NP (NP (DT a) (NN field)) (PP (IN of) (NP (NN computer) (NN science))))\n",
      "(NP (JJ artificial) (NN intelligence))\n",
      "(NP (NNS linguistics))\n",
      "(NP (DT the) (NNS interactions))\n",
      "(NP (NNS computers))\n",
      "(NP (JJ human) (-LRB- -LRB-) (JJ natural) (-RRB- -RRB-) (NNS languages))\n",
      "(NP (NP (NNS computers)) (CC and) (NP (JJ human) (-LRB- -LRB-) (JJ natural) (-RRB- -RRB-) (NNS languages)))\n",
      "(NP (NP (DT the) (NNS interactions)) (PP (IN between) (NP (NP (NNS computers)) (CC and) (NP (JJ human) (-LRB- -LRB-) (JJ natural) (-RRB- -RRB-) (NNS languages)))))\n",
      "(NP (NP (NNS linguistics)) (VP (VBN concerned) (PP (IN with) (NP (NP (DT the) (NNS interactions)) (PP (IN between) (NP (NP (NNS computers)) (CC and) (NP (JJ human) (-LRB- -LRB-) (JJ natural) (-RRB- -RRB-) (NNS languages))))))))\n",
      "(NP (NP (NP (DT a) (NN field)) (PP (IN of) (NP (NN computer) (NN science)))) (, ,) (NP (JJ artificial) (NN intelligence)) (, ,) (CC and) (NP (NP (NNS linguistics)) (VP (VBN concerned) (PP (IN with) (NP (NP (DT the) (NNS interactions)) (PP (IN between) (NP (NP (NNS computers)) (CC and) (NP (JJ human) (-LRB- -LRB-) (JJ natural) (-RRB- -RRB-) (NNS languages)))))))))\n",
      "(NP (JJ such))\n",
      "(NP (NN NLP))\n",
      "(NP (DT the) (NN area))\n",
      "(NP (JJ humani-computer) (NN interaction))\n",
      "(NP (NP (DT the) (NN area)) (PP (IN of) (NP (JJ humani-computer) (NN interaction))))\n",
      "(NP (JJ Many) (NNS challenges))\n",
      "(NP (NN NLP))\n",
      "(NP (NP (JJ Many) (NNS challenges)) (PP (IN in) (NP (NN NLP))))\n",
      "(NP (JJ natural) (NN language) (NN understanding))\n",
      "(NP (NP (JJ natural) (NN language) (NN understanding)) (, ,) (SBAR (WHNP (WDT that)) (S (VP (VBZ is)))) (, ,))\n",
      "(NP (NNS computers))\n",
      "(NP (NN meaning))\n",
      "(NP (ADJP (JJ human) (CC or) (JJ natural)) (NN language) (NN input))\n",
      "(NP (NNS others))\n",
      "(NP (JJ natural) (NN language) (NN generation))\n",
      "(NP (NN History) (DT The) (NN history))\n",
      "(NP (NNP NLP))\n",
      "(NP (NP (NN History) (DT The) (NN history)) (PP (IN of) (NP (NNP NLP))))\n",
      "(NP (DT the) (CD 1950s))\n",
      "(NP (NN work))\n",
      "(NP (JJR earlier) (NNS periods))\n",
      "(NP (CD 1950))\n",
      "(NP (NNP Alan) (NNP Turing))\n",
      "(NP (DT an) (NN article))\n",
      "(NP (NNP Computing) (NNP Machinery) (CC and) (NNP Intelligence))\n",
      "(NP (DT the) (JJ Turing) (NN test))\n",
      "(NP (DT a) (NN criterion))\n",
      "(NP (NN intelligence))\n",
      "(NP (NP (DT a) (NN criterion)) (PP (IN of) (NP (NN intelligence))))\n",
      "(NP (NP (DT an) (NN article)) (VP (VBN titled) (S (`` ``) (NP (NNP Computing) (NNP Machinery) (CC and) (NNP Intelligence)) ('' ''))) (SBAR (WHNP (WDT which)) (S (VP (VBD proposed) (SBAR (WHNP (WP what)) (S (VP (VBZ is) (ADVP (RB now)) (VP (VBN called) (NP (DT the) (JJ Turing) (NN test)) (PP (IN as) (NP (NP (DT a) (NN criterion)) (PP (IN of) (NP (NN intelligence)))))))))))))\n"
     ]
    }
   ],
   "source": [
    "import itertools\n",
    "import xml.etree.ElementTree as ET\n",
    "\n",
    "tree = ET.parse('./work/nlp.txt.xml')\n",
    "root = tree.getroot()\n",
    "\n",
    "def parse_s_exp(s_exp):\n",
    "    \n",
    "    stack = []\n",
    "    tokens = s_exp.replace('(', '( ').replace(')', ' )').split()\n",
    "    \n",
    "    for token in tokens:\n",
    "        stack.append(token)\n",
    "        if token == ')':\n",
    "            clause = ''\n",
    "            \n",
    "            while(len(stack) > 0):\n",
    "                top = stack.pop()\n",
    "                clause = top + ' ' + clause\n",
    "                if top == '(':\n",
    "                    # '( 'とか') 'になってる余分な空白を削るために前後2文字ずつ捨てて囲い直すお気持ち\n",
    "                    clause = '(' + clause[2:-3] + ')'\n",
    "                    stack.append(clause)\n",
    "                    if clause.startswith('(NP'): yield clause\n",
    "                    break\n",
    "\n",
    "for s_exp in itertools.islice(root.iter('parse'), 5):\n",
    "    # 多いから最初5文ぐらいで\n",
    "    print(*(parse_s_exp(s_exp.text)), sep='\\n')"
   ]
  },
  {
   "cell_type": "code",
   "execution_count": null,
   "metadata": {},
   "outputs": [],
   "source": []
  }
 ],
 "metadata": {
  "kernelspec": {
   "display_name": "Python 3",
   "language": "python",
   "name": "python3"
  },
  "language_info": {
   "codemirror_mode": {
    "name": "ipython",
    "version": 3
   },
   "file_extension": ".py",
   "mimetype": "text/x-python",
   "name": "python",
   "nbconvert_exporter": "python",
   "pygments_lexer": "ipython3",
   "version": "3.6.6"
  }
 },
 "nbformat": 4,
 "nbformat_minor": 2
}
